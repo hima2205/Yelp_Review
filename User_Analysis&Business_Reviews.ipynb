{
  "nbformat": 4,
  "nbformat_minor": 0,
  "metadata": {
    "colab": {
      "provenance": []
    },
    "kernelspec": {
      "name": "python3",
      "display_name": "Python 3"
    },
    "language_info": {
      "name": "python"
    }
  },
  "cells": [
    {
      "cell_type": "code",
      "source": [
        "!pip install pyspark"
      ],
      "metadata": {
        "id": "kMa1LccFe1A3",
        "colab": {
          "base_uri": "https://localhost:8080/"
        },
        "outputId": "b3e64d80-e101-4ce3-f891-6f7ebadf3a39"
      },
      "execution_count": 1,
      "outputs": [
        {
          "output_type": "stream",
          "name": "stdout",
          "text": [
            "Collecting pyspark\n",
            "  Downloading pyspark-3.5.1.tar.gz (317.0 MB)\n",
            "\u001b[2K     \u001b[90m━━━━━━━━━━━━━━━━━━━━━━━━━━━━━━━━━━━━━━━━\u001b[0m \u001b[32m317.0/317.0 MB\u001b[0m \u001b[31m2.3 MB/s\u001b[0m eta \u001b[36m0:00:00\u001b[0m\n",
            "\u001b[?25h  Preparing metadata (setup.py) ... \u001b[?25l\u001b[?25hdone\n",
            "Requirement already satisfied: py4j==0.10.9.7 in /usr/local/lib/python3.10/dist-packages (from pyspark) (0.10.9.7)\n",
            "Building wheels for collected packages: pyspark\n",
            "  Building wheel for pyspark (setup.py) ... \u001b[?25l\u001b[?25hdone\n",
            "  Created wheel for pyspark: filename=pyspark-3.5.1-py2.py3-none-any.whl size=317488491 sha256=f053950a33b0b13c6e5650782e5380f49c46d434995c98d24a1a18c73fa27839\n",
            "  Stored in directory: /root/.cache/pip/wheels/80/1d/60/2c256ed38dddce2fdd93be545214a63e02fbd8d74fb0b7f3a6\n",
            "Successfully built pyspark\n",
            "Installing collected packages: pyspark\n",
            "Successfully installed pyspark-3.5.1\n"
          ]
        }
      ]
    },
    {
      "cell_type": "code",
      "execution_count": 2,
      "metadata": {
        "id": "hfcq2pInex8f",
        "colab": {
          "base_uri": "https://localhost:8080/"
        },
        "outputId": "1a166916-6734-4a2f-ffcb-cf480bc7e462"
      },
      "outputs": [
        {
          "output_type": "stream",
          "name": "stdout",
          "text": [
            "Row(user_id='uUzsFQn_6cXDh6rPNGbIFA', name='Tiffy', review_count=1, yelping_since=datetime.date(2017, 3, 2), friends='None', useful=0, funny=0, cool=0, fans=0, elite='None', average_stars=2.0, compliment_hot=0, compliment_more=0, compliment_profile=0, compliment_cute=0, compliment_list=0, compliment_note=0, compliment_plain=0, compliment_cool=0, compliment_funny=0, compliment_writer=0, compliment_photos=0)\n",
            "Row(user_id='mBneaEEH5EMyxaVyqS-72A', name='Mark', review_count=6, yelping_since=datetime.date(2015, 3, 13), friends='None', useful=0, funny=0, cool=0, fans=0, elite='None', average_stars=4.67, compliment_hot=0, compliment_more=0, compliment_profile=0, compliment_cute=0, compliment_list=0, compliment_note=0, compliment_plain=0, compliment_cool=0, compliment_funny=0, compliment_writer=0, compliment_photos=0)\n",
            "Row(user_id='W5mJGs-dcDWRGEhAzUYtoA', name='Evelyn', review_count=3, yelping_since=datetime.date(2016, 9, 8), friends='None', useful=0, funny=0, cool=0, fans=0, elite='None', average_stars=4.67, compliment_hot=0, compliment_more=0, compliment_profile=0, compliment_cute=0, compliment_list=0, compliment_note=0, compliment_plain=0, compliment_cool=0, compliment_funny=0, compliment_writer=0, compliment_photos=0)\n",
            "Row(user_id='4E8--zUZO1Rr1IBK4_83fg', name='Lisa', review_count=11, yelping_since=datetime.date(2012, 7, 16), friends='None', useful=4, funny=0, cool=0, fans=0, elite='None', average_stars=3.45, compliment_hot=0, compliment_more=0, compliment_profile=0, compliment_cute=0, compliment_list=0, compliment_note=0, compliment_plain=0, compliment_cool=0, compliment_funny=0, compliment_writer=1, compliment_photos=0)\n",
            "Row(user_id='Ob-2oGBQ7rwwYwUvhmnf7g', name='B', review_count=9, yelping_since=datetime.date(2012, 5, 1), friends='None', useful=0, funny=0, cool=0, fans=0, elite='None', average_stars=4.78, compliment_hot=0, compliment_more=0, compliment_profile=0, compliment_cute=0, compliment_list=0, compliment_note=0, compliment_plain=0, compliment_cool=0, compliment_funny=0, compliment_writer=0, compliment_photos=0)\n"
          ]
        }
      ],
      "source": [
        "from pyspark.sql import SparkSession\n",
        "\n",
        "# Initialize Spark session\n",
        "spark = SparkSession.builder.appName(\"YelpDataAnalysis\").getOrCreate()\n",
        "\n",
        "yelp_df = spark.read.option(\"header\", \"true\").csv('/content/sample_data/yelp_user.csv', inferSchema=True)\n",
        "\n",
        "# Convert DataFrame to RDD\n",
        "yelp_rdd = yelp_df.rdd\n",
        "\n",
        "filtered_rdd = yelp_rdd.zipWithIndex().filter(lambda x: x[1] > 0).map(lambda x: x[0])\n",
        "\n",
        "# Show the first few rows of the RDD\n",
        "for row in filtered_rdd.take(5):\n",
        "    print(row)"
      ]
    },
    {
      "cell_type": "code",
      "source": [
        "yelp_df.printSchema()"
      ],
      "metadata": {
        "colab": {
          "base_uri": "https://localhost:8080/"
        },
        "id": "7UW-5Z-Wg4v8",
        "outputId": "0232e091-cd10-4184-b62a-98d665d12b7a"
      },
      "execution_count": null,
      "outputs": [
        {
          "output_type": "stream",
          "name": "stdout",
          "text": [
            "root\n",
            " |-- user_id: string (nullable = true)\n",
            " |-- name: string (nullable = true)\n",
            " |-- review_count: integer (nullable = true)\n",
            " |-- yelping_since: date (nullable = true)\n",
            " |-- friends: string (nullable = true)\n",
            " |-- useful: integer (nullable = true)\n",
            " |-- funny: integer (nullable = true)\n",
            " |-- cool: integer (nullable = true)\n",
            " |-- fans: integer (nullable = true)\n",
            " |-- elite: string (nullable = true)\n",
            " |-- average_stars: double (nullable = true)\n",
            " |-- compliment_hot: integer (nullable = true)\n",
            " |-- compliment_more: integer (nullable = true)\n",
            " |-- compliment_profile: integer (nullable = true)\n",
            " |-- compliment_cute: integer (nullable = true)\n",
            " |-- compliment_list: integer (nullable = true)\n",
            " |-- compliment_note: integer (nullable = true)\n",
            " |-- compliment_plain: integer (nullable = true)\n",
            " |-- compliment_cool: integer (nullable = true)\n",
            " |-- compliment_funny: integer (nullable = true)\n",
            " |-- compliment_writer: integer (nullable = true)\n",
            " |-- compliment_photos: integer (nullable = true)\n",
            "\n"
          ]
        }
      ]
    },
    {
      "cell_type": "code",
      "source": [
        "from pyspark.sql.functions import col\n",
        "from pyspark.mllib.stat import Statistics\n"
      ],
      "metadata": {
        "id": "FniAb_X-g6nB"
      },
      "execution_count": null,
      "outputs": []
    },
    {
      "cell_type": "code",
      "source": [],
      "metadata": {
        "id": "BM_JAkXAg3L9"
      },
      "execution_count": null,
      "outputs": []
    },
    {
      "cell_type": "code",
      "source": [
        "correlation = yelp_df.stat.corr(\"review_count\", \"average_stars\")\n",
        "\n",
        "print(f\"The Pearson correlation coefficient between review_count and average_stars is: {correlation}\")"
      ],
      "metadata": {
        "colab": {
          "base_uri": "https://localhost:8080/"
        },
        "id": "yCsdQql8uZoE",
        "outputId": "16c76482-8e0a-4573-a449-cb118fa86520"
      },
      "execution_count": null,
      "outputs": [
        {
          "output_type": "stream",
          "name": "stdout",
          "text": [
            "The Pearson correlation coefficient between review_count and average_stars is: 0.014008480321383483\n"
          ]
        }
      ]
    },
    {
      "cell_type": "code",
      "source": [
        "from pyspark.sql import SparkSession\n",
        "from pyspark.sql.types import StringType, IntegerType\n",
        "from pyspark.sql import functions as F\n",
        "from pyspark.sql.functions import year, to_timestamp\n",
        "import datetime\n",
        "\n",
        "unique_rdd = filtered_rdd.distinct()\n",
        "\n",
        "def activity_level(review_count):\n",
        "    if review_count <= 10:\n",
        "        return 'Low'\n",
        "    elif review_count <= 50:\n",
        "        return 'Medium'\n",
        "    elif review_count <= 100:\n",
        "        return 'High'\n",
        "    else:\n",
        "        return 'Very High'\n",
        "\n",
        "\n",
        "# Adjust map function to handle date correctly\n",
        "def map_func(row):\n",
        "    activity_lvl = activity_level(row.review_count)\n",
        "    yelping_since_year = row.yelping_since.year if row.yelping_since and hasattr(row.yelping_since, 'year') else None\n",
        "    current_year = datetime.datetime.now().year\n",
        "    years_active = current_year - yelping_since_year if yelping_since_year else None\n",
        "    return (activity_lvl, 1, years_active)\n",
        "\n",
        "transformed_rdd = unique_rdd.map(map_func)\n",
        "\n",
        "# Reduce by key to calculate distribution of activity levels and average years active\n",
        "def reduce_func(x, y):\n",
        "    return (x[0] + y[0], x[1] + y[1])\n",
        "\n",
        "activity_distribution_rdd = transformed_rdd.map(lambda x: (x[0], x[1])).reduceByKey(lambda x, y: x + y)\n",
        "average_years_active_rdd = transformed_rdd.filter(lambda x: x[2] is not None).map(lambda x: (x[0], (x[2], 1))).reduceByKey(reduce_func).map(lambda x: (x[0], x[1][0] / x[1][1]))\n",
        "\n",
        "# Collect results to the driver to show them\n",
        "print(\"Activity Distribution:\")\n",
        "for result in activity_distribution_rdd.collect():\n",
        "    print(result)\n",
        "\n",
        "print(\"Average Years Active:\")\n",
        "for result in average_years_active_rdd.collect():\n",
        "    print(result)\n"
      ],
      "metadata": {
        "colab": {
          "base_uri": "https://localhost:8080/"
        },
        "id": "XcbmmlMvvXbz",
        "outputId": "e6eb071c-7790-47f4-bcea-1eaa0a27d98b"
      },
      "execution_count": 3,
      "outputs": [
        {
          "output_type": "stream",
          "name": "stdout",
          "text": [
            "Activity Distribution:\n",
            "('Low', 45612)\n",
            "('Medium', 15751)\n",
            "('High', 3248)\n",
            "('Very High', 3526)\n",
            "Average Years Active:\n",
            "('Low', 10.010611242655441)\n",
            "('Medium', 12.026728461684973)\n",
            "('High', 13.12192118226601)\n",
            "('Very High', 13.881452070334657)\n"
          ]
        }
      ]
    },
    {
      "cell_type": "code",
      "source": [
        "import matplotlib.pyplot as plt\n",
        "\n",
        "activity_distribution_data = activity_distribution_rdd.collect()\n",
        "average_years_active_data = average_years_active_rdd.collect()\n",
        "\n",
        "desired_order = ['Low', 'Medium', 'High', 'Very High']\n",
        "\n",
        "# Sort the data according to the desired order\n",
        "sorted_activity_distribution_data = sorted(activity_distribution_data, key=lambda x: desired_order.index(x[0]))\n",
        "\n",
        "# Extract the sorted activity levels and counts\n",
        "activity_levels = [x[0] for x in sorted_activity_distribution_data]\n",
        "counts = [x[1] for x in sorted_activity_distribution_data]\n",
        "\n",
        "# Visualization of Activity Distribution\n",
        "plt.figure(figsize=(10, 6))\n",
        "plt.bar(activity_levels, counts, color='lightblue')\n",
        "plt.xlabel('Activity Level')\n",
        "plt.ylabel('Count')\n",
        "plt.title('Activity Distribution')\n",
        "plt.xticks(rotation=45)\n",
        "plt.tight_layout()\n",
        "plt.show()\n"
      ],
      "metadata": {
        "colab": {
          "base_uri": "https://localhost:8080/",
          "height": 607
        },
        "id": "JkWrIPDgTAnK",
        "outputId": "ef201f95-e6e4-4170-f695-c53bb71ee04d"
      },
      "execution_count": 4,
      "outputs": [
        {
          "output_type": "display_data",
          "data": {
            "text/plain": [
              "<Figure size 1000x600 with 1 Axes>"
            ],
            "image/png": "[encoded data removed]"
          },
          "metadata": {}
        }
      ]
    },
    {
      "cell_type": "code",
      "source": [
        "\n",
        "sorted_distribution_data = sorted(average_years_active_data, key=lambda x: desired_order.index(x[0]))\n",
        "\n",
        "# Extract the sorted activity levels and counts\n",
        "year_ls = [x[0] for x in sorted_distribution_data]\n",
        "counts = [x[1] for x in sorted_distribution_data]\n",
        "\n",
        "# Visualization of Activity Distribution\n",
        "plt.figure(figsize=(10, 6))\n",
        "plt.bar(activity_levels, counts, color='green')\n",
        "plt.xlabel('Activity Level')\n",
        "plt.ylabel('Count')\n",
        "plt.title('Years Active')\n",
        "plt.xticks(rotation=45)\n",
        "plt.tight_layout()\n",
        "plt.show()\n"
      ],
      "metadata": {
        "colab": {
          "base_uri": "https://localhost:8080/",
          "height": 607
        },
        "id": "zR6jc2JIT0AZ",
        "outputId": "8838e9e0-21db-4b5e-887e-d340684e79b7"
      },
      "execution_count": 5,
      "outputs": [
        {
          "output_type": "display_data",
          "data": {
            "text/plain": [
              "<Figure size 1000x600 with 1 Axes>"
            ],
            "image/png": "[encoded data removed]"
          },
          "metadata": {}
        }
      ]
    },
    {
      "cell_type": "code",
      "source": [],
      "metadata": {
        "id": "jqe6EddUTf5g"
      },
      "execution_count": null,
      "outputs": []
    },
    {
      "cell_type": "code",
      "source": [
        "\n",
        "def process_row(row):\n",
        "    try:\n",
        "        rounded_average_stars = int(row.average_stars) if row.average_stars is not None else None\n",
        "        if rounded_average_stars is None:\n",
        "            return None\n",
        "        is_elite = 1 if row.elite != \"None\" else 0\n",
        "        is_not_elite = 1 if row.elite == \"None\" else 0\n",
        "        return (rounded_average_stars, (is_elite, is_not_elite))\n",
        "    except Exception:\n",
        "        return None\n",
        "\n",
        "pair_rdd = unique_rdd.map(process_row).filter(lambda x: x is not None)\n",
        "\n",
        "def reduce_counts(a, b):\n",
        "    return (a[0] + b[0], a[1] + b[1])\n",
        "\n",
        "counts_rdd = pair_rdd.reduceByKey(reduce_counts)\n",
        "\n",
        "results = counts_rdd.collect()\n",
        "\n",
        "sorted_results = sorted(results)\n",
        "\n",
        "categories, counts = zip(*sorted_results)\n",
        "elite_counts, non_elite_counts = zip(*counts)\n",
        "\n",
        "# Plot for Elite Users\n",
        "fig, ax1 = plt.subplots(figsize=(10, 6))\n",
        "index = range(len(categories))\n",
        "bar_width = 0.35\n",
        "opacity = 0.8\n",
        "\n",
        "rects1 = ax1.bar(index, elite_counts, bar_width,\n",
        "                 alpha=opacity, color='b', label='Elite')\n",
        "\n",
        "ax1.set_xlabel('Rounded Average Stars')\n",
        "ax1.set_ylabel('Counts')\n",
        "ax1.set_title('Counts of Elite Users by Rounded Average Stars')\n",
        "ax1.set_xticks(index)\n",
        "ax1.set_xticklabels(categories)\n",
        "ax1.legend()\n",
        "\n",
        "# Plot for Non-Elite Users\n",
        "fig, ax2 = plt.subplots(figsize=(10, 6))\n",
        "rects2 = ax2.bar(index, non_elite_counts, bar_width,\n",
        "                 alpha=opacity, color='g', label='Non-Elite')\n",
        "\n",
        "ax2.set_xlabel('Rounded Average Stars')\n",
        "ax2.set_ylabel('Counts')\n",
        "ax2.set_title('Counts of Non-Elite Users by Rounded Average Stars')\n",
        "ax2.set_xticks(index)\n",
        "ax2.set_xticklabels(categories)\n",
        "ax2.legend()\n",
        "\n",
        "plt.tight_layout()\n",
        "plt.show()\n"
      ],
      "metadata": {
        "colab": {
          "base_uri": "https://localhost:8080/",
          "height": 1000
        },
        "id": "mm3zclPMTe4K",
        "outputId": "038d96af-3c1a-4576-ee71-a375341cb4dd"
      },
      "execution_count": 6,
      "outputs": [
        {
          "output_type": "display_data",
          "data": {
            "text/plain": [
              "<Figure size 1000x600 with 1 Axes>"
            ],
            "image/png": "[encoded data removed]"
          },
          "metadata": {}
        },
        {
          "output_type": "display_data",
          "data": {
            "text/plain": [
              "<Figure size 1000x600 with 1 Axes>"
            ],
            "image/png": "[encoded data removed]"
          },
          "metadata": {}
        }
      ]
    },
    {
      "cell_type": "code",
      "source": [
        "from pyspark.sql.functions import col, floor\n",
        "from pyspark.sql.window import Window\n",
        "from pyspark.sql.functions import rank\n",
        "\n",
        "\n",
        "def map_star_reviews(row):\n",
        "    if row.average_stars is not None:\n",
        "        adjusted_average_stars = int(row.average_stars)\n",
        "        return (adjusted_average_stars, (row.review_count, row.name))\n",
        "    return None\n",
        "\n",
        "mapped_rdd = unique_rdd.map(map_star_reviews).filter(lambda x: x is not None)\n",
        "\n",
        "def reduce_top_user(a, b):\n",
        "    return a if a[0] > b[0] else b\n",
        "\n",
        "top_users_rdd = mapped_rdd.reduceByKey(reduce_top_user)\n",
        "\n",
        "# Collect and print results\n",
        "top_users = top_users_rdd.collect()\n",
        "print(\"Top user(s) per star category based on review count:\")\n",
        "for category, (count, name) in top_users:\n",
        "    print(f\"Star Category: {category}, User: {name}, Review Count: {count}\")\n"
      ],
      "metadata": {
        "colab": {
          "base_uri": "https://localhost:8080/"
        },
        "id": "2Lm8XpTvwiTM",
        "outputId": "e5496ca5-0577-4358-b837-c155145a9590"
      },
      "execution_count": null,
      "outputs": [
        {
          "output_type": "stream",
          "name": "stdout",
          "text": [
            "Top user(s) per star category based on review count:\n",
            "Star Category: 4, User: Jennifer, Review Count: 3906\n",
            "Star Category: 5, User: Markus, Review Count: 539\n",
            "Star Category: 1, User: Henry, Review Count: 248\n",
            "Star Category: 2, User: Daniel, Review Count: 1307\n",
            "Star Category: 3, User: Bruce, Review Count: 8353\n"
          ]
        }
      ]
    },
    {
      "cell_type": "code",
      "source": [
        "def process_row(row):\n",
        "    try:\n",
        "        rounded_average_stars = int(row.average_stars) if row.average_stars is not None else None\n",
        "        if rounded_average_stars is None:\n",
        "            return None\n",
        "        is_elite = 1 if row.elite != \"None\" else 0\n",
        "        is_not_elite = 1 if row.elite == \"None\" else 0\n",
        "        return (rounded_average_stars, (is_elite, is_not_elite))\n",
        "    except Exception as e:\n",
        "        print(f\"Error processing row {row}: {e}\")\n",
        "        return None\n",
        "\n",
        "pair_rdd = unique_rdd.map(process_row).filter(lambda x: x is not None)\n",
        "\n",
        "def reduce_counts(a, b):\n",
        "    return (a[0] + b[0], a[1] + b[1])\n",
        "\n",
        "counts_rdd = pair_rdd.reduceByKey(reduce_counts)\n",
        "\n",
        "results = counts_rdd.collect()\n",
        "print(\"Elite and Non-Elite User Counts by Rounded Average Stars:\")\n",
        "for key, value in sorted(results):\n",
        "    print(f\"Rounded Average Stars: {key}, Elite User Count: {value[0]}, Non-Elite User Count: {value[1]}\")\n"
      ],
      "metadata": {
        "id": "RAzLhB8rozda",
        "colab": {
          "base_uri": "https://localhost:8080/"
        },
        "outputId": "83e2af80-fece-440a-8c52-8bc32f65e128"
      },
      "execution_count": 7,
      "outputs": [
        {
          "output_type": "stream",
          "name": "stdout",
          "text": [
            "Elite and Non-Elite User Counts by Rounded Average Stars:\n",
            "Rounded Average Stars: 1, Elite User Count: 0, Non-Elite User Count: 6093\n",
            "Rounded Average Stars: 2, Elite User Count: 16, Non-Elite User Count: 6663\n",
            "Rounded Average Stars: 3, Elite User Count: 2366, Non-Elite User Count: 19928\n",
            "Rounded Average Stars: 4, Elite User Count: 1080, Non-Elite User Count: 17559\n",
            "Rounded Average Stars: 5, Elite User Count: 1, Non-Elite User Count: 14431\n"
          ]
        }
      ]
    },
    {
      "cell_type": "code",
      "source": [
        "from pyspark.sql.functions import round, col, avg\n",
        "\n",
        "yelp_df=yelp_df.distinct()\n",
        "\n",
        "yelp_df = yelp_df.filter(yelp_df['average_stars'].isNotNull()).distinct()\n",
        "\n",
        "df_with_rounded_stars = yelp_df.withColumn('rounded_average_stars', round('average_stars').cast('integer'))\n",
        "\n",
        "averages_df = df_with_rounded_stars.groupBy('rounded_average_stars').agg(\n",
        "    avg('cool').alias('avg_cool'),\n",
        "    avg('useful').alias('avg_useful'),\n",
        "    avg('funny').alias('avg_funny')\n",
        ")\n",
        "\n",
        "sorted_averages_df = averages_df.orderBy('rounded_average_stars')\n",
        "\n",
        "sorted_averages_df.show()\n"
      ],
      "metadata": {
        "colab": {
          "base_uri": "https://localhost:8080/"
        },
        "id": "pQoKpCvizFOd",
        "outputId": "9c95fca2-2b32-4865-a5b4-d636a5e1eef0"
      },
      "execution_count": 8,
      "outputs": [
        {
          "output_type": "stream",
          "name": "stdout",
          "text": [
            "+---------------------+-------------------+------------------+------------------+\n",
            "|rounded_average_stars|           avg_cool|        avg_useful|         avg_funny|\n",
            "+---------------------+-------------------+------------------+------------------+\n",
            "|                    1|0.10789422891333719|0.7510133178922987|0.1325998841922409|\n",
            "|                    2| 0.5381325730577334| 4.191732002851033|1.1423140888572108|\n",
            "|                    3| 10.190176031977861| 20.13728956876009| 9.170727957567838|\n",
            "|                    4|  45.68449781659389| 63.62156893325015| 31.26520586400499|\n",
            "|                    5|  4.249166293365189| 3.102981434473147|1.1057189786471555|\n",
            "+---------------------+-------------------+------------------+------------------+\n",
            "\n"
          ]
        }
      ]
    },
    {
      "cell_type": "code",
      "source": [
        "# List of metrics to correlate\n",
        "metrics = ['cool', 'useful', 'funny']\n",
        "\n",
        "# Initialize an empty dictionary to hold correlation values\n",
        "correlation_matrix = {}\n",
        "\n",
        "# Calculate correlations\n",
        "for x in metrics:\n",
        "    for y in metrics:\n",
        "        correlation_matrix[(x, y)] = yelp_df.stat.corr(x, y)\n",
        "\n",
        "# Display the correlation matrix\n",
        "for keys, value in correlation_matrix.items():\n",
        "    print(f\"Correlation between {keys[0]} and {keys[1]}: {value}\")\n"
      ],
      "metadata": {
        "colab": {
          "base_uri": "https://localhost:8080/"
        },
        "id": "LKgJFx_31Fko",
        "outputId": "b580fab3-5f6c-4c9a-b43f-2d3f68b5d016"
      },
      "execution_count": null,
      "outputs": [
        {
          "output_type": "stream",
          "name": "stdout",
          "text": [
            "Correlation between cool and cool: 1.0\n",
            "Correlation between cool and useful: 0.9489749153789331\n",
            "Correlation between cool and funny: 0.863714460831059\n",
            "Correlation between useful and cool: 0.9489749153789331\n",
            "Correlation between useful and useful: 1.0\n",
            "Correlation between useful and funny: 0.8506269579876585\n",
            "Correlation between funny and cool: 0.863714460831059\n",
            "Correlation between funny and useful: 0.8506269579876585\n",
            "Correlation between funny and funny: 1.0\n"
          ]
        }
      ]
    },
    {
      "cell_type": "markdown",
      "source": [
        "Another Dataset.\n",
        "\n",
        "Analysis on different categories of restaurent and recommendation for different categories"
      ],
      "metadata": {
        "id": "9oWBwKfN1gS6"
      }
    },
    {
      "cell_type": "code",
      "source": [
        "yelp_businessdf = spark.read.csv('/content/sample_data/yelp_business.csv', header=True, inferSchema=True)\n"
      ],
      "metadata": {
        "id": "Qy36oWsrNF_u"
      },
      "execution_count": 9,
      "outputs": []
    },
    {
      "cell_type": "code",
      "source": [
        "yelp_businessdf = yelp_businessdf.dropDuplicates()\n",
        "yelp_businessdf = yelp_businessdf.dropna(how='any')\n",
        "\n",
        "\n",
        "# Show the first few rows of the DataFrame\n",
        "yelp_businessdf.show()\n"
      ],
      "metadata": {
        "id": "ezA7mDrA1e3d",
        "colab": {
          "base_uri": "https://localhost:8080/"
        },
        "outputId": "9f981363-ba2a-42b7-90b7-ef882c6320dc"
      },
      "execution_count": 10,
      "outputs": [
        {
          "output_type": "stream",
          "name": "stdout",
          "text": [
            "+--------------------+--------------------+---------------+--------------------+-----------+---------+-----------+-------------+--------------+------------+------------+-------+--------------------+\n",
            "|         business_id|                name|   neighborhood|             address|       city|    state|postal_code|     latitude|     longitude|       stars|review_count|is_open|          categories|\n",
            "+--------------------+--------------------+---------------+--------------------+-----------+---------+-----------+-------------+--------------+------------+------------+-------+--------------------+\n",
            "|Toekt2MQGNDowTc4a...|\"\"\"Nevada Imaging...|  Spring Valley|\"\"\"5495 S Rainbow...|  Las Vegas|       NV|      89118|   36.0890355|  -115.2433613|         2.5|           9|    1.0|Diagnostic Imagin...|\n",
            "|eSQt_QNjxNEYN3bF1...|  \"\"\"Monster Mash\"\"\"|       Old Town|\"\"\"20 Forrest Roa...|  Edinburgh|      EDH|    EH1 2QN|      55.9458|       -3.1911|         3.5|          25|    0.0|British;Cafes;Res...|\n",
            "|DkliICED7e1GUTC46...|\"\"\"K-9 Barracks &...|        Sunrise|\"\"\"2225 N Nellis ...|   Ste C\"\"\"|Las Vegas|         NV|        89115|      36.20056|  -115.06272|         3.0|    9.0|                   1|\n",
            "|k9AaulyfonmUlkmI3...|\"\"\"Capitol Tratto...|   Little Italy|\"\"\"597 College St...|    Toronto|       ON|    M6G 1B5|   43.6551928|   -79.4139538|         2.5|          25|    1.0|Restaurants;Itali...|\n",
            "|fVGRwzBFz8LMRPV2g...|\"\"\"Millenium Foto\"\"\"|      The Strip|\"\"\"3475 Las Vegas...|  Las Vegas|       NV|      89109|   36.1193098|  -115.1717702|         2.5|           3|    1.0|Shopping;Photogra...|\n",
            "|FB50TrfcJOHAL7a0J...| \"\"\"31KreationsLV\"\"\"|      Northwest|\"\"\"3231 N Decatur...|  Las Vegas|       NV|      89130|36.2179958802|-115.208014618|         2.5|           3|    1.0|Local Services;Ar...|\n",
            "|Ak0fXeZOtaEFFwFXg...|\"\"\"Cleveland Stea...|      Jefferson|\"\"\"5081 W 161st S...|  Brookpark|       OH|      44142|41.4523243307|-81.7842132153|         5.0|          10|    1.0|Shopping;Contract...|\n",
            "|5aVJnp-mHVpusqORJ...|\"\"\"Kustom Install\"\"\"|      Southeast|                \"\"\"\"|  Las Vegas|       NV|      89120|   36.0833352|  -115.0999753|         5.0|          14|    1.0|Electronics;TV Mo...|\n",
            "|YHzeCOogBTcJold38...| \"\"\"Hips Plumbing\"\"\"|       Westside|\"\"\"3905 Grass Val...|  Las Vegas|       NV|      89107|    36.167008|   -115.193125|         5.0|          22|    1.0|Water Heater Inst...|\n",
            "|DZD7e2zc1wBQcA5lp...|\"\"\"Jianu Doina R ...|      Summerlin|\"\"\"9300 Sun City ...|  Las Vegas|       NV|      89134|   36.2107605|  -115.2982111|         3.0|           4|    1.0|Doctors;Health & ...|\n",
            "|JzwewXUzR3c5ggTtE...|  \"\"\"Extreme Pita\"\"\"|     Ballantyne|\"\"\"14825 Ballanty...| Ste 175\"\"\"|Charlotte|         NC|        28277|    35.0542123|   -80.85227|         3.0|   30.0|                   0|\n",
            "|ERjDXFk2J7RprGrOE...|\"\"\"Oriental Recip...|Brown's Corners| \"\"\"3255 Highway 7 E| Unit 36\"\"\"|  Markham|         ON|      L3R 3P9|      43.84985| -79.3476695|         3.5|   21.0|                   1|\n",
            "|Zn1_GLLdjvVDg2Na-...|\"\"\"Belgian Beer C...|      Southeast|\"\"\"5757 Wayne New...|  Las Vegas|       NV|      89119|   36.0839998|  -115.1537389|         2.0|           7|    1.0|      Nightlife;Bars|\n",
            "|LVKdUEcnFAPuLsfD_...|        \"\"\"Rabble\"\"\"|       New Town|\"\"\"55a Frederick ...|  Edinburgh|      EDH|    EH2 1LH|   55.9539336|    -3.2008129|         4.0|          32|    1.0|Bars;Restaurants;...|\n",
            "|yP-bKg8WGrrZ8m4CT...|\"\"\"Artesia Kitche...|       Westside|\"\"\"2972 S Rainbow...|   Ste B\"\"\"|Las Vegas|         NV|        89146|    36.1354704|-115.2422071|         3.5|    3.0|                   1|\n",
            "|HUzqX16ZPct8-JkDR...|\"\"\"Hostellerie Pi...|    Ville-Marie|\"\"\"405 Rue Bonsec...|   Montréal|       QC|    H2Y 3C3|   45.5100204|   -73.5516897|         5.0|          10|    1.0|Hotels;Event Plan...|\n",
            "|XoJixEZpNn04sQpqq...|\"\"\"European Paint...|      Chinatown|\"\"\"3480 Spring Mo...|   Ste 3\"\"\"|Las Vegas|         NV|        89102|     36.127108| -115.187206|         5.0|    5.0|                   1|\n",
            "|Vbb9L6z4g-BcsdjrX...|       \"\"\"Reverie\"\"\"|      Newington|\"\"\"1-5 Newington ...|  Edinburgh|      EDH|    EH9 1QR|    55.938777|     -3.178751|         3.5|          29|    0.0|Nightlife;Bars;Re...|\n",
            "|IwM50FUQs6rkcr9AZ...|  \"\"\"Dhan Kaushal\"\"\"|  Spring Valley|\"\"\"6190 S Fort Ap...|  Las Vegas|       NV|      89148|    36.076015|   -115.297014|         3.5|           3|    1.0|Health & Medical;...|\n",
            "|phPZ8TqDJE51PRe-r...| \"\"\"Arax Shawarma\"\"\"|      The Beach|\"\"\"1921 Queen Str...|    Toronto|       ON|    M4L 1H3|    43.669096|    -79.304186|         4.5|          17|    0.0|Restaurants;Middl...|\n",
            "+--------------------+--------------------+---------------+--------------------+-----------+---------+-----------+-------------+--------------+------------+------------+-------+--------------------+\n",
            "only showing top 20 rows\n",
            "\n"
          ]
        }
      ]
    },
    {
      "cell_type": "code",
      "source": [
        "from pyspark.sql.functions import regexp_replace, col\n",
        "\n",
        "business = yelp_businessdf.drop('neighborhood')\n",
        "\n",
        "business = business.withColumn('name', regexp_replace(col('name'), '\"', ''))\n",
        "business = business.withColumn('address', regexp_replace(col('address'), '\"', ''))\n",
        "\n",
        "states = [\"AL\", \"AK\", \"AZ\", \"AR\", \"CA\", \"CO\", \"CT\", \"DC\", \"DE\", \"FL\", \"GA\",\n",
        "          \"HI\", \"ID\", \"IL\", \"IN\", \"IA\", \"KS\", \"KY\", \"LA\", \"ME\", \"MD\",\n",
        "          \"MA\", \"MI\", \"MN\", \"MS\", \"MO\", \"MT\", \"NE\", \"NV\", \"NH\", \"NJ\",\n",
        "          \"NM\", \"NY\", \"NC\", \"ND\", \"OH\", \"OK\", \"OR\", \"PA\", \"RI\", \"SC\",\n",
        "          \"SD\", \"TN\", \"TX\", \"UT\", \"VT\", \"VA\", \"WA\", \"WV\", \"WI\", \"WY\"]\n",
        "usa = business.filter(col('state').isin(states))\n"
      ],
      "metadata": {
        "id": "ZZE38FQcNMna"
      },
      "execution_count": 11,
      "outputs": []
    },
    {
      "cell_type": "code",
      "source": [
        "\n",
        "\n",
        "# To show the first few rows of the DataFrame\n",
        "usa.show()\n"
      ],
      "metadata": {
        "colab": {
          "base_uri": "https://localhost:8080/"
        },
        "id": "Q_7_fP-92yeb",
        "outputId": "be9f844b-3e6a-447a-8832-1ac884ecb9fe"
      },
      "execution_count": 12,
      "outputs": [
        {
          "output_type": "stream",
          "name": "stdout",
          "text": [
            "+--------------------+--------------------+--------------------+----------+-----+-----------+-------------+--------------+-----+------------+-------+--------------------+\n",
            "|         business_id|                name|             address|      city|state|postal_code|     latitude|     longitude|stars|review_count|is_open|          categories|\n",
            "+--------------------+--------------------+--------------------+----------+-----+-----------+-------------+--------------+-----+------------+-------+--------------------+\n",
            "|Toekt2MQGNDowTc4a...|Nevada Imaging Ce...| 5495 S Rainbow Blvd| Las Vegas|   NV|      89118|   36.0890355|  -115.2433613|  2.5|           9|    1.0|Diagnostic Imagin...|\n",
            "|fVGRwzBFz8LMRPV2g...|      Millenium Foto|3475 Las Vegas Bl...| Las Vegas|   NV|      89109|   36.1193098|  -115.1717702|  2.5|           3|    1.0|Shopping;Photogra...|\n",
            "|FB50TrfcJOHAL7a0J...|       31KreationsLV| 3231 N Decatur Blvd| Las Vegas|   NV|      89130|36.2179958802|-115.208014618|  2.5|           3|    1.0|Local Services;Ar...|\n",
            "|Ak0fXeZOtaEFFwFXg...|Cleveland Steamer...|     5081 W 161st St| Brookpark|   OH|      44142|41.4523243307|-81.7842132153|  5.0|          10|    1.0|Shopping;Contract...|\n",
            "|5aVJnp-mHVpusqORJ...|      Kustom Install|                    | Las Vegas|   NV|      89120|   36.0833352|  -115.0999753|  5.0|          14|    1.0|Electronics;TV Mo...|\n",
            "|YHzeCOogBTcJold38...|       Hips Plumbing|3905 Grass Valley Pl| Las Vegas|   NV|      89107|    36.167008|   -115.193125|  5.0|          22|    1.0|Water Heater Inst...|\n",
            "|DZD7e2zc1wBQcA5lp...|    Jianu Doina R MD|  9300 Sun City Blvd| Las Vegas|   NV|      89134|   36.2107605|  -115.2982111|  3.0|           4|    1.0|Doctors;Health & ...|\n",
            "|Zn1_GLLdjvVDg2Na-...|   Belgian Beer Cafe|5757 Wayne Newton...| Las Vegas|   NV|      89119|   36.0839998|  -115.1537389|  2.0|           7|    1.0|      Nightlife;Bars|\n",
            "|IwM50FUQs6rkcr9AZ...|        Dhan Kaushal|6190 S Fort Apach...| Las Vegas|   NV|      89148|    36.076015|   -115.297014|  3.5|           3|    1.0|Health & Medical;...|\n",
            "|7aZf5c1UNotq4MabB...|     Sichuan Gourmet|     1900 Murray Ave|Pittsburgh|   PA|      15217|   40.4358112|    -79.923142|  4.0|         228|    1.0|Seafood;Restauran...|\n",
            "|2cetuQgbP1Bnzm-uM...|        Nam's Noodle|      1336 Regent St|   Madison|   WI|      53715|   43.0679775|   -89.4084538|  3.5|          91|    1.0|Asian Fusion;Chin...|\n",
            "|brktx1pRTvG7a57Gt...|Perfect Hair and ...|  8889 S Eastern Ave| Las Vegas|   NV|      89123|    36.027989|  -115.1193939|  5.0|          31|    0.0|Hair Salons;Beaut...|\n",
            "|wJPqoz7zg4-npig0J...|  Drury Inn & Suites|   8925 Red Oak Blvd| Charlotte|   NC|      28217|35.1370970915|-80.9083547644|  4.5|          15|    1.0|Hotels;Hotels & T...|\n",
            "|gdpWp6LCb2AVugVIV...|     Lynch Auto Body|     2305 Atwood Ave|   Madison|   WI|      53704|    43.093234|    -89.348054|  5.0|           6|    1.0|Auto Glass Servic...|\n",
            "|dJxLWct9_m4hDtocc...|Little Paradise C...|8985 West Flaming...| Las Vegas|   NV|      89147|    36.114445|   -115.287108|  2.5|           5|    1.0|Preschools;Educat...|\n",
            "|81wSXTjyBc3iMeJYW...|Las Vegas Fruits ...|5757 Wayne Newton...| Las Vegas|   NV|      89119|    36.083303|   -115.149511|  4.5|           6|    0.0|Fruits & Veggies;...|\n",
            "|1qVF1_pSuk88hrTek...|      Ginza of Tokyo|4802 E Washington...|   Madison|   WI|      53704|    43.133354|    -89.302295|  2.0|           8|    0.0|Japanese;Restaurants|\n",
            "|UUY2sEVuuvYAFWiHH...|   Laura's Treasures|  570 S Decatur Blvd| Las Vegas|   NV|      89107|36.1650588687|-115.206719246|  3.5|           3|    1.0|Antiques;Vinyl Re...|\n",
            "|H_OPiH-8k-HDbTl4K...|K-2 Convenience S...|       4900 Penn Ave|Pittsburgh|   PA|      15224|   40.4649389|   -79.9448795|  5.0|           3|    1.0|Food;Convenience ...|\n",
            "|w2LGE0kHQQv6v0LmJ...|       Big Town Hero|    3130 E Sunset Rd| Las Vegas|   NV|      89120|   36.0718982|  -115.1068951|  4.0|           3|    0.0|Restaurants;Ameri...|\n",
            "+--------------------+--------------------+--------------------+----------+-----+-----------+-------------+--------------+-----+------------+-------+--------------------+\n",
            "only showing top 20 rows\n",
            "\n"
          ]
        }
      ]
    },
    {
      "cell_type": "code",
      "source": [
        "from pyspark.sql.functions import when, col\n",
        "\n",
        "us_restaurants = usa.filter(usa['categories'].contains('Restaurants'))\n",
        "\n",
        "cuisine_mapping = when(col(\"categories\").contains(\"American\"), \"American\") \\\n",
        "    .when(col(\"categories\").contains(\"Mexican\"), \"Mexican\") \\\n",
        "    .when(col(\"categories\").contains(\"Italian\"), \"Italian\") \\\n",
        "    .when(col(\"categories\").contains(\"Japanese\"), \"Japanese\") \\\n",
        "    .when(col(\"categories\").contains(\"Chinese\"), \"Chinese\") \\\n",
        "    .when(col(\"categories\").contains(\"Thai\"), \"Thai\") \\\n",
        "    .when(col(\"categories\").contains(\"Mediterranean\"), \"Mediterranean\") \\\n",
        "    .when(col(\"categories\").contains(\"French\"), \"French\") \\\n",
        "    .when(col(\"categories\").contains(\"Vietnamese\"), \"Vietnamese\") \\\n",
        "    .when(col(\"categories\").contains(\"Greek\"), \"Greek\") \\\n",
        "    .when(col(\"categories\").contains(\"Indian\"), \"Indian\") \\\n",
        "    .when(col(\"categories\").contains(\"Korean\"), \"Korean\") \\\n",
        "    .when(col(\"categories\").contains(\"Hawaiian\"), \"Hawaiian\") \\\n",
        "    .when(col(\"categories\").contains(\"African\"), \"African\") \\\n",
        "    .when(col(\"categories\").contains(\"Spanish\"), \"Spanish\") \\\n",
        "    .when(col(\"categories\").contains(\"Middle Eastern\"), \"Middle Eastern\") \\\n",
        "    .otherwise(\"Other\")\n",
        "\n",
        "us_restaurants = us_restaurants.withColumn(\"category\", cuisine_mapping)\n"
      ],
      "metadata": {
        "id": "Qs3Y3c8NNTAG"
      },
      "execution_count": 13,
      "outputs": []
    },
    {
      "cell_type": "code",
      "source": [
        "\n",
        "us_restaurants.select(\"category\").show()\n"
      ],
      "metadata": {
        "colab": {
          "base_uri": "https://localhost:8080/"
        },
        "id": "LUC6f7UM3M_l",
        "outputId": "625a6c74-4b17-493a-906f-a961aeec35e0"
      },
      "execution_count": null,
      "outputs": [
        {
          "output_type": "stream",
          "name": "stdout",
          "text": [
            "+-------------+\n",
            "|     category|\n",
            "+-------------+\n",
            "|      Chinese|\n",
            "|      Chinese|\n",
            "|     Japanese|\n",
            "|     American|\n",
            "|     American|\n",
            "|      Italian|\n",
            "|        Other|\n",
            "|     American|\n",
            "|     American|\n",
            "|        Other|\n",
            "|     American|\n",
            "|     American|\n",
            "|         Thai|\n",
            "|        Other|\n",
            "|Mediterranean|\n",
            "|     American|\n",
            "|        Other|\n",
            "|       Indian|\n",
            "|     American|\n",
            "|      Italian|\n",
            "+-------------+\n",
            "only showing top 20 rows\n",
            "\n"
          ]
        }
      ]
    },
    {
      "cell_type": "code",
      "source": [
        "us_restaurants = us_restaurants.dropna(subset=['category'])\n"
      ],
      "metadata": {
        "id": "fOmvlU093dDT"
      },
      "execution_count": 14,
      "outputs": []
    },
    {
      "cell_type": "code",
      "source": [
        "us_restaurants = us_restaurants.drop('categories')\n"
      ],
      "metadata": {
        "id": "OeoKiQiO3gi1"
      },
      "execution_count": 15,
      "outputs": []
    },
    {
      "cell_type": "code",
      "source": [
        "us_restaurants = us_restaurants.dropDuplicates(['business_id'])\n",
        "\n",
        "duplicates_count = us_restaurants.groupBy(\"business_id\").count().filter(\"count > 1\").count()\n",
        "\n",
        "print(f\"Number of duplicated business_id entries: {duplicates_count}\")\n"
      ],
      "metadata": {
        "colab": {
          "base_uri": "https://localhost:8080/"
        },
        "id": "ptoFkBwY3gpj",
        "outputId": "5305a996-d0ab-4bd1-b520-937bd0a82978"
      },
      "execution_count": 16,
      "outputs": [
        {
          "output_type": "stream",
          "name": "stdout",
          "text": [
            "Number of duplicated business_id entries: 0\n"
          ]
        }
      ]
    },
    {
      "cell_type": "code",
      "source": [
        "# Show the first 10 rows\n",
        "us_restaurants.show(10)\n",
        "\n",
        "row_count = us_restaurants.count()\n",
        "col_count = len(us_restaurants.columns)\n",
        "\n",
        "print(f\"DataFrame shape: {row_count} rows, {col_count} columns\")\n"
      ],
      "metadata": {
        "colab": {
          "base_uri": "https://localhost:8080/"
        },
        "id": "65fWdBbl3kSx",
        "outputId": "77a12b95-552f-4844-cc2b-a21d69d3632a"
      },
      "execution_count": 17,
      "outputs": [
        {
          "output_type": "stream",
          "name": "stdout",
          "text": [
            "+--------------------+--------------------+--------------------+----------+-----+-----------+-------------+--------------+-----+------------+-------+--------+\n",
            "|         business_id|                name|             address|      city|state|postal_code|     latitude|     longitude|stars|review_count|is_open|category|\n",
            "+--------------------+--------------------+--------------------+----------+-----+-----------+-------------+--------------+-----+------------+-------+--------+\n",
            "|--9e1ONYQuAa-CB_R...|Delmonico Steakhouse|3355 Las Vegas Bl...| Las Vegas|   NV|      89109|    36.123183|    -115.16919|  4.0|        1451|    1.0|   Other|\n",
            "|--FBCX-N37CMYDfs7...|The Bar At Bermud...|    11624 Bermuda Rd| Henderson|   NV|      89052|   35.9786886|  -115.1550159|  3.5|         108|    1.0|American|\n",
            "|--cZ6Hhc9F7VkKXxH...|             Pio Pio|         1408 E Blvd| Charlotte|   NC|      28203|35.1998528426|-80.8448199047|  4.0|         317|    1.0|American|\n",
            "|--q7kSBRb0vWC8lSk...|Double Play Sport...|9495 Las Vegas Bl...| Las Vegas|   NV|      89123|   36.0166929|   -115.173115|  4.0|           7|    0.0|   Other|\n",
            "|-1m9o3vGRA8IBPNvN...|Bavette's Steakho...|3770 Las Vegas Bl...| Las Vegas|   NV|      89109|     36.10433|-115.175593333|  4.5|          38|    1.0|American|\n",
            "|-1xCh7Cocn6IwFzhE...|Jose' and Tony's ...|   1573 McFarland Rd|Pittsburgh|   PA|      15216|   40.3932623|   -80.0458648|  2.5|          37|    1.0| Mexican|\n",
            "|-2pQf1ceDZyE2ReCN...|          Just Fresh|14136 Rivergate Pkwy| Charlotte|   NC|      28273|   35.1020065|   -80.9852803|  3.5|          54|    1.0|American|\n",
            "|-2pmn-oTJeybmDrL-...|      New Wrap Order|                    | Charlotte|   NC|      28211|   35.1660032|   -80.7934798|  4.5|          14|    1.0|   Other|\n",
            "|-3zffZUHoY8bQjGfP...|        Michael Mina|3600 S Las Vegas ...| Las Vegas|   NV|      89109|     36.11199|   -115.177001|  4.0|         590|    1.0|American|\n",
            "|-5DifC-lAFioAD_DL...|Firehouse Subs Mi...|7854 Mineral Poin...|   Madison|   WI|      53717|   43.0605835|   -89.5193733|  4.0|          28|    1.0|   Other|\n",
            "+--------------------+--------------------+--------------------+----------+-----+-----------+-------------+--------------+-----+------------+-------+--------+\n",
            "only showing top 10 rows\n",
            "\n",
            "DataFrame shape: 7940 rows, 12 columns\n"
          ]
        }
      ]
    },
    {
      "cell_type": "code",
      "source": [
        "from pyspark.sql.functions import col, count, when, isnan\n",
        "\n",
        "# Counting nulls and NaNs in each column\n",
        "null_counts = us_restaurants.select([count(when(col(c).isNull() | isnan(c), c)).alias(c) for c in us_restaurants.columns])\n",
        "\n",
        "null_counts.show()\n"
      ],
      "metadata": {
        "id": "MEoBPviK3xOo",
        "outputId": "b6f59d51-1949-4362-8723-f416f95e1312",
        "colab": {
          "base_uri": "https://localhost:8080/"
        }
      },
      "execution_count": 18,
      "outputs": [
        {
          "output_type": "stream",
          "name": "stdout",
          "text": [
            "+-----------+----+-------+----+-----+-----------+--------+---------+-----+------------+-------+--------+\n",
            "|business_id|name|address|city|state|postal_code|latitude|longitude|stars|review_count|is_open|category|\n",
            "+-----------+----+-------+----+-----+-----------+--------+---------+-----+------------+-------+--------+\n",
            "|          0|   0|      0|   0|    0|          0|       0|        0|    0|           0|      0|       0|\n",
            "+-----------+----+-------+----+-----+-----------+--------+---------+-----+------------+-------+--------+\n",
            "\n"
          ]
        }
      ]
    },
    {
      "cell_type": "code",
      "source": [
        "from pyspark.sql.functions import desc\n",
        "\n",
        "category_counts = us_restaurants.groupBy(\"category\").count().orderBy(desc(\"count\"))\n",
        "category_counts_data = category_counts.collect()\n",
        "\n",
        "categories = [row['category'] for row in category_counts_data]\n",
        "counts = [row['count'] for row in category_counts_data]\n"
      ],
      "metadata": {
        "id": "qKXnza6s31FG"
      },
      "execution_count": 19,
      "outputs": []
    },
    {
      "cell_type": "code",
      "source": [
        "data = list(zip(categories, counts))\n",
        "columns = ['Category', 'Number of Restaurants']\n",
        "df = spark.createDataFrame(data, schema=columns)\n",
        "\n"
      ],
      "metadata": {
        "id": "5Ur3e-5J65yI"
      },
      "execution_count": 20,
      "outputs": []
    },
    {
      "cell_type": "code",
      "source": [
        "filtered_df = df.filter(df.Category != \"Other\")\n",
        "category_data = filtered_df.select(\"Category\").rdd.flatMap(lambda x: x).collect()\n",
        "count_data = filtered_df.select(\"Number of Restaurants\").rdd.flatMap(lambda x: x).collect()\n",
        "\n",
        "import matplotlib.pyplot as plt\n",
        "import numpy as np\n",
        "import matplotlib.colors as mcolors\n",
        "\n",
        "\n",
        "colors = plt.cm.viridis(np.linspace(0, 1, len(category_data)))\n",
        "\n",
        "plt.figure(figsize=(12, 6))\n",
        "\n",
        "plt.bar(category_data, count_data, color=colors)\n",
        "\n",
        "plt.xlabel('Category', fontsize=12)\n",
        "plt.ylabel('Number of Restaurants', fontsize=12)\n",
        "plt.title('Number of Restaurants by Category', fontsize=14)\n",
        "plt.xticks(rotation=45, ha=\"right\", fontsize=10)\n",
        "plt.tight_layout()\n",
        "plt.show()\n"
      ],
      "metadata": {
        "colab": {
          "base_uri": "https://localhost:8080/",
          "height": 569
        },
        "id": "0k9RYPm2xnf4",
        "outputId": "7bacfdbe-de16-409b-d00f-b6921e1427ac"
      },
      "execution_count": 21,
      "outputs": [
        {
          "output_type": "display_data",
          "data": {
            "text/plain": [
              "<Figure size 1200x600 with 1 Axes>"
            ],
            "image/png": "[encoded data removed]"
          },
          "metadata": {}
        }
      ]
    },
    {
      "cell_type": "code",
      "source": [
        "filtered_df.show()"
      ],
      "metadata": {
        "colab": {
          "base_uri": "https://localhost:8080/"
        },
        "id": "-hokooRczAW0",
        "outputId": "09a519a1-8b23-49e0-97b3-57b46fdcd49d"
      },
      "execution_count": 22,
      "outputs": [
        {
          "output_type": "stream",
          "name": "stdout",
          "text": [
            "+--------------+---------------------+\n",
            "|      Category|Number of Restaurants|\n",
            "+--------------+---------------------+\n",
            "|      American|                 2104|\n",
            "|       Mexican|                  659|\n",
            "|       Italian|                  532|\n",
            "|       Chinese|                  410|\n",
            "|      Japanese|                  244|\n",
            "| Mediterranean|                  154|\n",
            "|          Thai|                  116|\n",
            "|        Indian|                   91|\n",
            "|    Vietnamese|                   67|\n",
            "|        Korean|                   56|\n",
            "|        French|                   56|\n",
            "|Middle Eastern|                   43|\n",
            "|      Hawaiian|                   39|\n",
            "|         Greek|                   36|\n",
            "|       Spanish|                   18|\n",
            "|       African|                    6|\n",
            "+--------------+---------------------+\n",
            "\n"
          ]
        }
      ]
    },
    {
      "cell_type": "code",
      "source": [
        "from pyspark.sql.functions import desc\n",
        "\n",
        "city_counts = us_restaurants.groupBy(\"city\").count().orderBy(desc(\"count\"))\n",
        "state_counts = us_restaurants.groupBy(\"state\").count().orderBy(desc(\"count\"))\n",
        "\n",
        "\n",
        "# Select the top 10 cities\n",
        "top_10_cities = city_counts.limit(5)\n",
        "top_10_states = state_counts.limit(5)\n",
        "\n",
        "top_10_cities.show()\n",
        "top_10_states.show()"
      ],
      "metadata": {
        "colab": {
          "base_uri": "https://localhost:8080/"
        },
        "id": "z_rhoW0n7WVD",
        "outputId": "1599da4b-feb5-438a-c341-8031380a4412"
      },
      "execution_count": 23,
      "outputs": [
        {
          "output_type": "stream",
          "name": "stdout",
          "text": [
            "+----------+-----+\n",
            "|      city|count|\n",
            "+----------+-----+\n",
            "| Las Vegas| 3232|\n",
            "|Pittsburgh| 1489|\n",
            "| Charlotte| 1266|\n",
            "| Cleveland|  893|\n",
            "|   Madison|  714|\n",
            "+----------+-----+\n",
            "\n",
            "+-----+-----+\n",
            "|state|count|\n",
            "+-----+-----+\n",
            "|   NV| 3377|\n",
            "|   PA| 1639|\n",
            "|   NC| 1271|\n",
            "|   OH|  929|\n",
            "|   WI|  723|\n",
            "+-----+-----+\n",
            "\n"
          ]
        }
      ]
    },
    {
      "cell_type": "markdown",
      "source": [
        "need to upload dataset in drive"
      ],
      "metadata": {
        "id": "cJ6fbMoDDXml"
      }
    },
    {
      "cell_type": "code",
      "source": [
        "yelp_reviews_cleaned_df = spark.read.csv('/content/drive/MyDrive/sai/yelp_review.csv', header=True)\n"
      ],
      "metadata": {
        "id": "8nxSth5DS3b0"
      },
      "execution_count": 24,
      "outputs": []
    },
    {
      "cell_type": "code",
      "source": [
        "yelp_reviews_cleaned_df.printSchema()\n"
      ],
      "metadata": {
        "colab": {
          "base_uri": "https://localhost:8080/"
        },
        "id": "-4RN_NmrY93z",
        "outputId": "3cf96b86-ad78-4c77-d915-5aec259efd82"
      },
      "execution_count": 25,
      "outputs": [
        {
          "output_type": "stream",
          "name": "stdout",
          "text": [
            "root\n",
            " |-- review_id: string (nullable = true)\n",
            " |-- user_id: string (nullable = true)\n",
            " |-- business_id: string (nullable = true)\n",
            " |-- stars: string (nullable = true)\n",
            " |-- date: string (nullable = true)\n",
            " |-- text: string (nullable = true)\n",
            " |-- useful: string (nullable = true)\n",
            " |-- funny: string (nullable = true)\n",
            " |-- cool: string (nullable = true)\n",
            "\n"
          ]
        }
      ]
    },
    {
      "cell_type": "code",
      "source": [
        "yelp_reviews_cleaned_df.show()\n"
      ],
      "metadata": {
        "colab": {
          "base_uri": "https://localhost:8080/"
        },
        "id": "Ydbrh95NaApP",
        "outputId": "bcfa4390-38d0-47c5-f717-b1531eeab550"
      },
      "execution_count": 26,
      "outputs": [
        {
          "output_type": "stream",
          "name": "stdout",
          "text": [
            "+--------------------+--------------------+--------------------+-----+----------+--------------------+------+-----+----+\n",
            "|           review_id|             user_id|         business_id|stars|      date|                text|useful|funny|cool|\n",
            "+--------------------+--------------------+--------------------+-----+----------+--------------------+------+-----+----+\n",
            "|vkVSCC7xljjrAI4UG...|bv2nCi5Qv5vroFiqK...|AEx2SYEUJmTxVVB18...|    5|2016-05-28|Super simple plac...|  NULL| NULL|NULL|\n",
            "|Staff was very he...|                   0|                   0|    0|      NULL|                NULL|  NULL| NULL|NULL|\n",
            "|n6QzIUObkYshz4dz2...|bv2nCi5Qv5vroFiqK...|VR6GpWIda3SfvPC-l...|    5|2016-05-28|Small unassuming ...|  NULL| NULL|NULL|\n",
            "|We had their beef...|                NULL|                NULL| NULL|      NULL|                NULL|  NULL| NULL|NULL|\n",
            "|A bit outside of ...|                   0|                   0|    0|      NULL|                NULL|  NULL| NULL|NULL|\n",
            "|MV3CcKScW05u5LVfF...|bv2nCi5Qv5vroFiqK...|CKC0-MOWMqoeWf6s-...|    5|2016-05-28|Lester's is locat...|  NULL| NULL|NULL|\n",
            "|The smoked meat i...|                   0|                   0|    0|      NULL|                NULL|  NULL| NULL|NULL|\n",
            "|IXvOzsEMYtiJI0CAR...|bv2nCi5Qv5vroFiqK...|ACFtxLv8pGrrxMm6E...|    4|2016-05-28|Love coming here....|  NULL| NULL|NULL|\n",
            "|The food speaks f...| so good. Burgers...| the regular is a...| NULL|      NULL|                NULL|  NULL| NULL|NULL|\n",
            "|Getting the Cajun...|                   0|                   0|    0|      NULL|                NULL|  NULL| NULL|NULL|\n",
            "|L_9BTb55X0GDtThi6...|bv2nCi5Qv5vroFiqK...|s2I_Ni76bjJNK9yG6...|    4|2016-05-28|Had their chocola...|  NULL| NULL|NULL|\n",
            "|If you're looking...|                   0|                   0|    0|      NULL|                NULL|  NULL| NULL|NULL|\n",
            "|HRPm3vEZ_F-33TYVT...|_4iMDXbXZ1p1ONG29...|8QWPlVQ6D-OExqXoa...|    5|2014-09-24|Cycle Pub Las Veg...|     1|    0|   0|\n",
            "|ymAUG8DZfQcFTBSOi...|u0LXt3Uea_GidxRW1...|9_CGhHMz8698M9-Pk...|    4|2012-05-11|Who would have gu...|  NULL| NULL|NULL|\n",
            "|Not quite the sam...| this is the next...|                NULL| NULL|      NULL|                NULL|  NULL| NULL|NULL|\n",
            "|So far the only i...| chicken & vegeta...|                NULL| NULL|      NULL|                NULL|  NULL| NULL|NULL|\n",
            "| Next time I go back| I'm going to try...|                   0|    0|         2|                NULL|  NULL| NULL|NULL|\n",
            "|8UIishPUD92hXtScS...|u0LXt3Uea_GidxRW1...|gkCorLgPyQLsptTHa...|    4|2015-10-27|Always drove past...|  NULL| NULL|NULL|\n",
            "|                Cute| quaint coffee sh...|                NULL| NULL|      NULL|                NULL|  NULL| NULL|NULL|\n",
            "|BF ordered an ice...|                   1|                   0|    0|      NULL|                NULL|  NULL| NULL|NULL|\n",
            "+--------------------+--------------------+--------------------+-----+----------+--------------------+------+-----+----+\n",
            "only showing top 20 rows\n",
            "\n"
          ]
        }
      ]
    },
    {
      "cell_type": "code",
      "source": [
        "review = yelp_reviews_cleaned_df.where(col(\"date\").isNotNull())\n",
        "review =yelp_reviews_cleaned_df.where(col(\"text\").isNotNull())\n"
      ],
      "metadata": {
        "id": "FvY1mQFiaEFX"
      },
      "execution_count": 27,
      "outputs": []
    },
    {
      "cell_type": "code",
      "source": [
        "review.show()"
      ],
      "metadata": {
        "colab": {
          "base_uri": "https://localhost:8080/"
        },
        "id": "sDgauCsUETmQ",
        "outputId": "58df0d8c-8a55-465b-adf5-e99e6d6ee955"
      },
      "execution_count": 28,
      "outputs": [
        {
          "output_type": "stream",
          "name": "stdout",
          "text": [
            "+--------------------+--------------------+--------------------+-----+----------+--------------------+------+-----+----+\n",
            "|           review_id|             user_id|         business_id|stars|      date|                text|useful|funny|cool|\n",
            "+--------------------+--------------------+--------------------+-----+----------+--------------------+------+-----+----+\n",
            "|vkVSCC7xljjrAI4UG...|bv2nCi5Qv5vroFiqK...|AEx2SYEUJmTxVVB18...|    5|2016-05-28|Super simple plac...|  NULL| NULL|NULL|\n",
            "|n6QzIUObkYshz4dz2...|bv2nCi5Qv5vroFiqK...|VR6GpWIda3SfvPC-l...|    5|2016-05-28|Small unassuming ...|  NULL| NULL|NULL|\n",
            "|MV3CcKScW05u5LVfF...|bv2nCi5Qv5vroFiqK...|CKC0-MOWMqoeWf6s-...|    5|2016-05-28|Lester's is locat...|  NULL| NULL|NULL|\n",
            "|IXvOzsEMYtiJI0CAR...|bv2nCi5Qv5vroFiqK...|ACFtxLv8pGrrxMm6E...|    4|2016-05-28|Love coming here....|  NULL| NULL|NULL|\n",
            "|L_9BTb55X0GDtThi6...|bv2nCi5Qv5vroFiqK...|s2I_Ni76bjJNK9yG6...|    4|2016-05-28|Had their chocola...|  NULL| NULL|NULL|\n",
            "|HRPm3vEZ_F-33TYVT...|_4iMDXbXZ1p1ONG29...|8QWPlVQ6D-OExqXoa...|    5|2014-09-24|Cycle Pub Las Veg...|     1|    0|   0|\n",
            "|ymAUG8DZfQcFTBSOi...|u0LXt3Uea_GidxRW1...|9_CGhHMz8698M9-Pk...|    4|2012-05-11|Who would have gu...|  NULL| NULL|NULL|\n",
            "|8UIishPUD92hXtScS...|u0LXt3Uea_GidxRW1...|gkCorLgPyQLsptTHa...|    4|2015-10-27|Always drove past...|  NULL| NULL|NULL|\n",
            "|w41ZS9shepfO3uEyh...|u0LXt3Uea_GidxRW1...|5r6-G9C4YLbC7Ziz5...|    3|2013-02-09|Not bad!! Love th...|  NULL| NULL|NULL|\n",
            "|WF_QTN3p-thD74hqp...|u0LXt3Uea_GidxRW1...|fDF_o2JPU8BR1Gya-...|    5|2016-04-06|    Love this place!|  NULL| NULL|NULL|\n",
            "|PIsUSmvaUWB00qv5K...|u0LXt3Uea_GidxRW1...|z8oIoCT1cXz7gZP5G...|    4|2013-05-01|This is currently...|  NULL| NULL|NULL|\n",
            "|PdZ_uFjbbkjtm3SCY...|u0LXt3Uea_GidxRW1...|XWTPNfskXoUL-Lf32...|    3|2011-09-28|Server was a litt...|  NULL| NULL|NULL|\n",
            "|x5oV6wm9_Pb1QQ6jk...|u0LXt3Uea_GidxRW1...|13nKUHH-uEUXVZylg...|    1|2011-02-16|I thought Tidy's ...|  NULL| NULL|NULL|\n",
            "|lsoSqIrrDbQvWpMvs...|u0LXt3Uea_GidxRW1...|RtUvSWO_UZ8V3Wpj0...|    3|2012-12-03|Wanted to check o...|  NULL| NULL|NULL|\n",
            "|23eqwlZzCWZkADWfd...|u0LXt3Uea_GidxRW1...|Aov96CM4FZAXeZvKt...|    5|2010-07-16|This place is awe...|  NULL| NULL|NULL|\n",
            "|FunI9om-aK5oMIIJm...|u0LXt3Uea_GidxRW1...|0W4lkclzZThpx3V65...|    4|2011-09-28|a must stop when ...|  NULL| NULL|NULL|\n",
            "|FKu4iU62EmWT6GZXP...|u0LXt3Uea_GidxRW1...|fdnNZMk1NP7ZhL-YM...|    1|2012-10-23|I too have been t...|  NULL| NULL|NULL|\n",
            "|xdu8nXrbNKeaywCX7...|u0LXt3Uea_GidxRW1...|PFPUMF38-lraKzLcT...|    3|2010-09-15|Came here with my...|  NULL| NULL|NULL|\n",
            "|K7o5jDInfmX3cY5oH...|u0LXt3Uea_GidxRW1...|oWTn2IzrprsRkPfUL...|    3|2012-09-23|Came here for a b...|  NULL| NULL|NULL|\n",
            "|WYDFJOBOl7cycd7gN...|u0LXt3Uea_GidxRW1...|zgQHtqX0gqMw1nlBZ...|    1|2012-10-30|really excited to...|  NULL| NULL|NULL|\n",
            "+--------------------+--------------------+--------------------+-----+----------+--------------------+------+-----+----+\n",
            "only showing top 20 rows\n",
            "\n"
          ]
        }
      ]
    },
    {
      "cell_type": "code",
      "source": [
        "from pyspark.sql.functions import col, length, regexp_replace, size, split\n",
        "\n",
        "us_restaurants1 = us_restaurants.withColumnRenamed(\"stars\", \"avg_star\")\n",
        "\n",
        "\n",
        "us_restaurants_categories = us_restaurants1.select(\"business_id\", \"category\",\"avg_star\")\n",
        "\n",
        "# Join the DataFrames\n",
        "restaurants_reviews = us_restaurants_categories.join(review, \"business_id\")\n",
        "\n"
      ],
      "metadata": {
        "id": "oeh2QhGX1W8Z"
      },
      "execution_count": 29,
      "outputs": []
    },
    {
      "cell_type": "code",
      "source": [
        "restaurants_reviews.printSchema()"
      ],
      "metadata": {
        "colab": {
          "base_uri": "https://localhost:8080/"
        },
        "id": "gs-PZtgONdWt",
        "outputId": "d314c6f6-5f3d-4a21-bb66-837edf397863"
      },
      "execution_count": 30,
      "outputs": [
        {
          "output_type": "stream",
          "name": "stdout",
          "text": [
            "root\n",
            " |-- business_id: string (nullable = true)\n",
            " |-- category: string (nullable = false)\n",
            " |-- avg_star: string (nullable = true)\n",
            " |-- review_id: string (nullable = true)\n",
            " |-- user_id: string (nullable = true)\n",
            " |-- stars: string (nullable = true)\n",
            " |-- date: string (nullable = true)\n",
            " |-- text: string (nullable = true)\n",
            " |-- useful: string (nullable = true)\n",
            " |-- funny: string (nullable = true)\n",
            " |-- cool: string (nullable = true)\n",
            "\n"
          ]
        }
      ]
    },
    {
      "cell_type": "code",
      "source": [
        "yelp_df.printSchema()"
      ],
      "metadata": {
        "colab": {
          "base_uri": "https://localhost:8080/"
        },
        "id": "g8RmGuUiNsCz",
        "outputId": "ec763089-4c09-4291-a338-dec0df1bd795"
      },
      "execution_count": null,
      "outputs": [
        {
          "output_type": "stream",
          "name": "stdout",
          "text": [
            "root\n",
            " |-- user_id: string (nullable = true)\n",
            " |-- name: string (nullable = true)\n",
            " |-- review_count: integer (nullable = true)\n",
            " |-- yelping_since: date (nullable = true)\n",
            " |-- friends: string (nullable = true)\n",
            " |-- useful: integer (nullable = true)\n",
            " |-- funny: integer (nullable = true)\n",
            " |-- cool: integer (nullable = true)\n",
            " |-- fans: integer (nullable = true)\n",
            " |-- elite: string (nullable = true)\n",
            " |-- average_stars: double (nullable = true)\n",
            " |-- compliment_hot: integer (nullable = true)\n",
            " |-- compliment_more: integer (nullable = true)\n",
            " |-- compliment_profile: integer (nullable = true)\n",
            " |-- compliment_cute: integer (nullable = true)\n",
            " |-- compliment_list: integer (nullable = true)\n",
            " |-- compliment_note: integer (nullable = true)\n",
            " |-- compliment_plain: integer (nullable = true)\n",
            " |-- compliment_cool: integer (nullable = true)\n",
            " |-- compliment_funny: integer (nullable = true)\n",
            " |-- compliment_writer: integer (nullable = true)\n",
            " |-- compliment_photos: integer (nullable = true)\n",
            "\n"
          ]
        }
      ]
    },
    {
      "cell_type": "code",
      "source": [
        "from pyspark.sql.functions import col, when\n",
        "yelp_df = yelp_df.withColumn(\"is_elite\", when(col(\"elite\") != \"None\", 1).otherwise(0))\n",
        "yelp_df = yelp_df.withColumn(\"is_not_elite\", when(col(\"elite\") == \"None\", 1).otherwise(0))\n",
        "\n",
        "yelp_df_selected = yelp_df.select(\"user_id\", \"is_elite\", \"is_not_elite\")\n",
        "\n",
        "restaurants_reviews_final = restaurants_reviews.join(yelp_df_selected, \"user_id\")\n",
        "\n"
      ],
      "metadata": {
        "id": "4P5RH4vzPRN0"
      },
      "execution_count": 31,
      "outputs": []
    },
    {
      "cell_type": "code",
      "source": [
        "restaurants_reviews_final.printSchema()"
      ],
      "metadata": {
        "colab": {
          "base_uri": "https://localhost:8080/"
        },
        "id": "uTMyYTTzN6tz",
        "outputId": "830dc475-86e4-4e37-fa07-1adee2f2ac03"
      },
      "execution_count": null,
      "outputs": [
        {
          "output_type": "stream",
          "name": "stdout",
          "text": [
            "root\n",
            " |-- user_id: string (nullable = true)\n",
            " |-- business_id: string (nullable = true)\n",
            " |-- category: string (nullable = false)\n",
            " |-- avg_star: string (nullable = true)\n",
            " |-- review_id: string (nullable = true)\n",
            " |-- stars: string (nullable = true)\n",
            " |-- date: string (nullable = true)\n",
            " |-- text: string (nullable = true)\n",
            " |-- useful: string (nullable = true)\n",
            " |-- funny: string (nullable = true)\n",
            " |-- cool: string (nullable = true)\n",
            " |-- is_elite: integer (nullable = false)\n",
            " |-- is_not_elite: integer (nullable = false)\n",
            "\n"
          ]
        }
      ]
    },
    {
      "cell_type": "code",
      "source": [
        "non_elite_users_df = restaurants_reviews_final.filter(col(\"is_not_elite\") == 1)\n"
      ],
      "metadata": {
        "id": "Sudyokh-P_Jj"
      },
      "execution_count": 32,
      "outputs": []
    },
    {
      "cell_type": "code",
      "source": [
        "!pip install textblob\n"
      ],
      "metadata": {
        "colab": {
          "base_uri": "https://localhost:8080/"
        },
        "id": "rIaYsxOJcB0b",
        "outputId": "51eac1cf-7502-482b-fb02-3c7de4f4eb83"
      },
      "execution_count": 33,
      "outputs": [
        {
          "output_type": "stream",
          "name": "stdout",
          "text": [
            "Requirement already satisfied: textblob in /usr/local/lib/python3.10/dist-packages (0.17.1)\n",
            "Requirement already satisfied: nltk>=3.1 in /usr/local/lib/python3.10/dist-packages (from textblob) (3.8.1)\n",
            "Requirement already satisfied: click in /usr/local/lib/python3.10/dist-packages (from nltk>=3.1->textblob) (8.1.7)\n",
            "Requirement already satisfied: joblib in /usr/local/lib/python3.10/dist-packages (from nltk>=3.1->textblob) (1.4.0)\n",
            "Requirement already satisfied: regex>=2021.8.3 in /usr/local/lib/python3.10/dist-packages (from nltk>=3.1->textblob) (2023.12.25)\n",
            "Requirement already satisfied: tqdm in /usr/local/lib/python3.10/dist-packages (from nltk>=3.1->textblob) (4.66.2)\n"
          ]
        }
      ]
    },
    {
      "cell_type": "code",
      "source": [
        "import nltk\n",
        "nltk.download('popular')\n"
      ],
      "metadata": {
        "colab": {
          "base_uri": "https://localhost:8080/"
        },
        "id": "8Gp51A0MrLOF",
        "outputId": "9340335b-1686-458a-df97-ceaacb448a16"
      },
      "execution_count": 34,
      "outputs": [
        {
          "output_type": "stream",
          "name": "stderr",
          "text": [
            "[nltk_data] Downloading collection 'popular'\n",
            "[nltk_data]    | \n",
            "[nltk_data]    | Downloading package cmudict to /root/nltk_data...\n",
            "[nltk_data]    |   Unzipping corpora/cmudict.zip.\n",
            "[nltk_data]    | Downloading package gazetteers to /root/nltk_data...\n",
            "[nltk_data]    |   Unzipping corpora/gazetteers.zip.\n",
            "[nltk_data]    | Downloading package genesis to /root/nltk_data...\n",
            "[nltk_data]    |   Unzipping corpora/genesis.zip.\n",
            "[nltk_data]    | Downloading package gutenberg to /root/nltk_data...\n",
            "[nltk_data]    |   Unzipping corpora/gutenberg.zip.\n",
            "[nltk_data]    | Downloading package inaugural to /root/nltk_data...\n",
            "[nltk_data]    |   Unzipping corpora/inaugural.zip.\n",
            "[nltk_data]    | Downloading package movie_reviews to\n",
            "[nltk_data]    |     /root/nltk_data...\n",
            "[nltk_data]    |   Unzipping corpora/movie_reviews.zip.\n",
            "[nltk_data]    | Downloading package names to /root/nltk_data...\n",
            "[nltk_data]    |   Unzipping corpora/names.zip.\n",
            "[nltk_data]    | Downloading package shakespeare to /root/nltk_data...\n",
            "[nltk_data]    |   Unzipping corpora/shakespeare.zip.\n",
            "[nltk_data]    | Downloading package stopwords to /root/nltk_data...\n",
            "[nltk_data]    |   Unzipping corpora/stopwords.zip.\n",
            "[nltk_data]    | Downloading package treebank to /root/nltk_data...\n",
            "[nltk_data]    |   Unzipping corpora/treebank.zip.\n",
            "[nltk_data]    | Downloading package twitter_samples to\n",
            "[nltk_data]    |     /root/nltk_data...\n",
            "[nltk_data]    |   Unzipping corpora/twitter_samples.zip.\n",
            "[nltk_data]    | Downloading package omw to /root/nltk_data...\n",
            "[nltk_data]    | Downloading package omw-1.4 to /root/nltk_data...\n",
            "[nltk_data]    | Downloading package wordnet to /root/nltk_data...\n",
            "[nltk_data]    | Downloading package wordnet2021 to /root/nltk_data...\n",
            "[nltk_data]    | Downloading package wordnet31 to /root/nltk_data...\n",
            "[nltk_data]    | Downloading package wordnet_ic to /root/nltk_data...\n",
            "[nltk_data]    |   Unzipping corpora/wordnet_ic.zip.\n",
            "[nltk_data]    | Downloading package words to /root/nltk_data...\n",
            "[nltk_data]    |   Unzipping corpora/words.zip.\n",
            "[nltk_data]    | Downloading package maxent_ne_chunker to\n",
            "[nltk_data]    |     /root/nltk_data...\n",
            "[nltk_data]    |   Unzipping chunkers/maxent_ne_chunker.zip.\n",
            "[nltk_data]    | Downloading package punkt to /root/nltk_data...\n",
            "[nltk_data]    |   Unzipping tokenizers/punkt.zip.\n",
            "[nltk_data]    | Downloading package snowball_data to\n",
            "[nltk_data]    |     /root/nltk_data...\n",
            "[nltk_data]    | Downloading package averaged_perceptron_tagger to\n",
            "[nltk_data]    |     /root/nltk_data...\n",
            "[nltk_data]    |   Unzipping taggers/averaged_perceptron_tagger.zip.\n",
            "[nltk_data]    | \n",
            "[nltk_data]  Done downloading collection popular\n"
          ]
        },
        {
          "output_type": "execute_result",
          "data": {
            "text/plain": [
              "True"
            ]
          },
          "metadata": {},
          "execution_count": 34
        }
      ]
    },
    {
      "cell_type": "code",
      "source": [
        "from pyspark.sql.functions import udf\n",
        "from pyspark.sql.types import FloatType\n",
        "\n",
        "from pyspark.ml import Pipeline\n",
        "\n",
        "from pyspark.ml.feature import Tokenizer, StopWordsRemover, HashingTF, IDF\n",
        "\n",
        "\n",
        "# Tokenize text\n",
        "tokenizer = Tokenizer(inputCol=\"text\", outputCol=\"words\")\n",
        "\n",
        "# Remove stop words\n",
        "stopWordsRemover = StopWordsRemover(inputCol=\"words\", outputCol=\"filtered_words\")\n",
        "\n",
        "# Hashing TF\n",
        "hashingTF = HashingTF(inputCol=\"filtered_words\", outputCol=\"rawFeatures\")\n",
        "\n",
        "# IDF\n",
        "idf = IDF(inputCol=\"rawFeatures\", outputCol=\"features\")\n",
        "\n",
        "# Build pipeline\n",
        "pipeline = Pipeline(stages=[tokenizer, stopWordsRemover, hashingTF, idf])\n",
        "\n",
        "# Fit pipeline to data\n",
        "model = pipeline.fit(non_elite_users_df)\n",
        "\n",
        "# Transform data\n",
        "result = model.transform(non_elite_users_df)\n",
        "\n",
        "# Show results\n",
        "result.select(\"filtered_words\", \"features\").show(truncate=False)\n"
      ],
      "metadata": {
        "id": "Br8v12EVk__m",
        "colab": {
          "base_uri": "https://localhost:8080/"
        },
        "outputId": "46de604d-ce3f-4c4b-bc27-212a5c5b98c7"
      },
      "execution_count": 38,
      "outputs": [
        {
          "metadata": {
            "tags": null
          },
          "name": "stdout",
          "output_type": "stream",
          "text": [
            "+-------------------------------------------------------------------------------------------------------------------------------------------------------------------------------------------------------------------------------------------------------------------------------------------------------------------------------------------------------------------------------------------------------------------------------------------------------------------------------------------------------------------------------------------------------------------------------------------------------------------------------------------------------------------------------------------------+----------------------------------------------------------------------------------------------------------------------------------------------------------------------------------------------------------------------------------------------------------------------------------------------------------------------------------------------------------------------------------------------------------------------------------------------------------------------------------------------------------------------------------------------------------------------------------------------------------------------------------------------------------------------------------------------------------------------------------------------------------------------------------------------------------------------------------------------------------------------------------------------------------------------------------------------------------------------------------------------------------------------------------------------------------------------------------------------------------------------------------------------------------------------------------------------------------------------------------------------------------------------------------------------------------------------------------------------------------------------------------------------------------------------------------------------------------------------------------------------------------------------------------------------------------------------------------------------------------------------------------------------------------------------------------------------------------------------------------------------------------------------------------------------------------------------------------------------------------------------------------------------------------------------------------------------------------------------------------------------------------------------------------------+\n",
            "|filtered_words                                                                                                                                                                                                                                                                                                                                                                                                                                                                                                                                                                                                                                                                                   |features                                                                                                                                                                                                                                                                                                                                                                                                                                                                                                                                                                                                                                                                                                                                                                                                                                                                                                                                                                                                                                                                                                                                                                                                                                                                                                                                                                                                                                                                                                                                                                                                                                                                                                                                                                                                                                                                                                                                                                                                                                |\n",
            "+-------------------------------------------------------------------------------------------------------------------------------------------------------------------------------------------------------------------------------------------------------------------------------------------------------------------------------------------------------------------------------------------------------------------------------------------------------------------------------------------------------------------------------------------------------------------------------------------------------------------------------------------------------------------------------------------------+----------------------------------------------------------------------------------------------------------------------------------------------------------------------------------------------------------------------------------------------------------------------------------------------------------------------------------------------------------------------------------------------------------------------------------------------------------------------------------------------------------------------------------------------------------------------------------------------------------------------------------------------------------------------------------------------------------------------------------------------------------------------------------------------------------------------------------------------------------------------------------------------------------------------------------------------------------------------------------------------------------------------------------------------------------------------------------------------------------------------------------------------------------------------------------------------------------------------------------------------------------------------------------------------------------------------------------------------------------------------------------------------------------------------------------------------------------------------------------------------------------------------------------------------------------------------------------------------------------------------------------------------------------------------------------------------------------------------------------------------------------------------------------------------------------------------------------------------------------------------------------------------------------------------------------------------------------------------------------------------------------------------------------------+\n",
            "|[tried, chicken, wings,, thai, omelet, fried, catfish, curry, everything, phenomenal., staff, fun, excited, menu., bar, little, slow,, nothing, terrible., definitely, returning, try, even, street, foods!]                                                                                                                                                                                                                                                                                                                                                                                                                                                                                     |(262144,[5798,6346,14019,23087,25734,48329,55323,70292,73785,93838,95840,102657,111892,116651,116996,117345,123940,174966,177803,180608,183261,193176,197865,213605,242022],[6.053092586900803,2.508853622613133,7.074743834432784,4.092059276271269,3.9803400333717636,6.107900823395798,5.139472083582526,4.538698223153596,5.988554065763232,3.1516709928180533,2.705764915151378,4.297536166336709,3.0480702664397192,6.001132847970092,3.4881432294392662,3.542951465934261,2.892411006277328,2.5271242960609976,8.984286339317222,4.56846232506005,5.092466041206596,5.566559655703856,2.6364593971088084,2.61609915296673,2.690405060000523])                                                                                                                                                                                                                                                                                                                                                                                                                                                                                                                                                                                                                                                                                                                                                                                                                                                                                                                                                                                                                                                                                                                                                                                                                                                                                                                                                                                    |\n",
            "|[great, food, service, casual, dominican, restaurant., servings, huge., , enough, left, second, meal., delicious, roast, pork,, stewed, chicken,, oxtails,, roasted, skirt, steak,, plantains,, , choice, several, rice, dishes., love, fruit, juices,, especially, soursop., , sounds, bad, -, definitely, isn't!, , service, great., , make, feel, welcome.]                                                                                                                                                                                                                                                                                                                                   |(262144,[2609,6346,10083,25783,26057,38640,43756,44381,49897,59317,61899,78041,79160,80703,88652,89717,90049,90453,113004,113456,121133,122671,139371,143299,145380,146303,148170,153971,157694,163634,170414,172652,186480,208742,211674,224909,231043,232912,245638,249180,261870],[6.2274459740455805,2.508853622613133,4.103380151895751,5.211525401222584,6.136474195839853,3.2340974918468657,3.30710705428458,9.677433519877168,8.067995607443068,4.865249164504751,3.637178808599754,8.761142788003013,4.053416013689829,7.074743834432784,8.761142788003013,2.9205011306296145,6.759662787792889,9.271968411769004,3.7074480044463103,5.951740092640516,1.1227518840499389,3.2880321310818132,4.146022271161754,5.436106767306422,3.300706571978541,3.7871714782783488,8.984286339317222,4.92816298991532,5.421820810058945,6.609380584743551,3.973651045220967,6.787061761981003,2.4271529325607406,3.0885070423436485,5.22308622362366,3.8936083375474304,3.995555880609017,5.6343822520426174,8.578821231209059,6.3246719978779815,1.5623610353187054])                                                                                                                                                                                                                                                                                                                                                                                                                                                                                                                                                                                                                                                                                                                                                                                                                                                                                                                                                                     |\n",
            "|[baku, unlike, anything, else, charlotte., , food, prepared, robata, yakitori, grills., , concept, japanese-inspired, shared, plates, -, presented, table, one, time, diners, fully, enjoy, flavors, dish., , , loved, able, try, many, different, dishes,, impeccably, prepared, presented, beautifully., , every, dish, delicious, especially, enjoyed, lamb, chops, pork, belly.]                                                                                                                                                                                                                                                                                                             |(262144,[2701,2931,21823,24170,38640,57379,67562,69271,87384,92392,93894,97579,101464,107810,110837,113359,114395,117396,121133,121517,124617,125039,134272,137583,142631,143270,176497,185385,201547,208742,212761,213605,216221,221488,224909,237158,240064,240840,245044,245989,246953,249180],[3.968663503709928,12.552472276430025,2.020387049717046,5.904672581782529,3.2340974918468657,6.478760402326486,4.192636586386513,5.386974078728777,7.537367356380897,7.374848426883122,5.161094547595693,9.677433519877168,4.374128611818092,3.9604058184709463,5.904672581782529,4.981508970620612,3.245297608926402,5.077275875712621,1.1227518840499389,2.095968754227561,9.677433519877168,6.458557695008968,4.950045701164828,9.677433519877168,9.313695789855489,3.8828966819525026,3.0454317424815383,8.761142788003013,3.5917958027519363,3.0885070423436485,6.7329945407107274,2.61609915296673,3.3656987107242538,8.984286339317222,3.8936083375474304,4.8571519542721315,8.173356123100893,3.6171427818393336,3.2705535338078535,4.1420696968459305,6.276236138215013,6.3246719978779815])                                                                                                                                                                                                                                                                                                                                                                                                                                                                                                                                                                                                                                                                                                                                                                                                                                                                                                                                 |\n",
            "|[nile, grocery, cafe,, missing, out., , dishes, delicious!, , favorites, beef, tibs, vegetarian, combo., , everything, prepared, taste, -, mild, spicy, like., injera, addicting!, , type, spongy, bread, made, super, grain, called, teff,, high, protein,, iron,, fiber., , break, piece, use, scoop, flavorful, stews, vegetables., , portions, huge., , enough, bring, home, enjoy, meal, left-overs., place, small, restaurant, treated, like, family., service, hospitality, excellent., , wait, go, back.]                                                                                                                                                                                |(262144,[2701,13523,13677,14670,17893,26057,27670,30497,32650,33358,38640,43756,44141,49358,55514,56643,58339,58810,62312,70285,70375,70998,71236,80902,84033,87830,98717,100657,105542,113004,117484,123380,123874,123940,124348,124680,127310,131803,136020,140784,142631,146563,148675,150069,152315,158143,163774,170513,171874,172129,193386,199706,208258,212292,215686,219912,221770,230689,247920,249180,253291],[3.968663503709928,4.110999236372191,3.7491750486729787,8.4246705513818,3.9972609108601005,6.136474195839853,8.984286339317222,2.5158115169379807,9.677433519877168,3.504689625553675,3.2340974918468657,1.65355352714229,4.538698223153596,7.03837619026191,5.033042620735795,3.9571217432697563,3.2730318498223205,8.761142788003013,5.057374721395326,9.677433519877168,7.235086484507963,1.4382361313232908,7.6625304993349035,3.9769899464864817,5.583088957655067,5.71662035027959,4.4304094477166815,8.761142788003013,9.677433519877168,3.7074480044463103,4.302155112193003,7.597991978197332,3.9938537525384863,2.892411006277328,5.816703808836572,9.677433519877168,3.4922542321457883,5.558396345064696,3.8982344059362126,2.817818616222966,4.656847894927744,3.3092463335266755,2.0944404808786534,2.871157409844885,4.205162846205694,6.609380584743551,9.677433519877168,5.735851712207477,6.478760402326486,3.818072813402523,9.271968411769004,8.578821231209059,1.977364688840587,6.815232638947699,4.898310026765638,7.074743834432784,3.5193957729433705,4.325575386401102,5.421820810058945,10.119475196604771,4.18643180949963])                                                                                                                                                                                                                                                                                                                                                                                                                                                       |\n",
            "|[\"whatever, bartender, working, 11\\/25, night, big, guy, asshole., simply, walked, neighboring, bar, asking, change, said, \"\"i'm, fucking, atm\"\", front, everyone, bar., believe, rude, was., sent, co, worker, get, change]                                                                                                                                                                                                                                                                                                                                                                                                                                                                     |(262144,[1541,1619,15423,37101,41748,46189,69525,71450,80058,93444,111892,120744,128976,131724,137949,153796,161091,161102,168976,172888,189957,218360,223059,225157,252722,253157,254389,259019],[7.972685427638742,4.082722140275329,7.6625304993349035,3.9028819743327596,7.374848426883122,9.271968411769004,9.271968411769004,4.794631597290797,5.067275792378037,6.5639182106667935,3.0480702664397192,4.414743330972282,8.984286339317222,8.067995607443068,5.314334895088805,8.4246705513818,4.465218852382543,4.438335512989102,3.3757307146040425,3.5321754995897696,3.145827294669142,4.394229791139179,10.018577069455377,4.58062052953986,2.0740341801364983,5.161094547595693,5.428938277827809,4.5960291548927055])                                                                                                                                                                                                                                                                                                                                                                                                                                                                                                                                                                                                                                                                                                                                                                                                                                                                                                                                                                                                                                                                                                                                                                                                                                                                                                      |\n",
            "|[nice, atmosphere., always, friendly, upbeat., free, check-in, beer, awesome., highly, recommend., , brother, several, times, pleased, time., also, free, peanuts, everyone.]                                                                                                                                                                                                                                                                                                                                                                                                                                                                                                                    |(262144,[4959,14974,19633,22346,79779,82631,127009,133324,139371,147136,152481,166289,185560,212976,225803,228685,237761,241244,249180,249411],[4.309123781509096,5.495383377235962,3.6383699939699072,2.615241887590612,2.5489375741971316,7.731523370821854,3.676018641916018,7.537367356380897,4.146022271161754,2.4811215510325892,3.2664366074495863,5.550299134832076,4.4789364886113425,4.366693633330574,6.363247515204643,2.893542228117417,8.135923449384416,3.579359237710928,1.2649343995755964,6.259706836263802])                                                                                                                                                                                                                                                                                                                                                                                                                                                                                                                                                                                                                                                                                                                                                                                                                                                                                                                                                                                                                                                                                                                                                                                                                                                                                                                                                                                                                                                                                                         |\n",
            "|[love, latin, music!, banda,, bachata,, merengue,, rock, en, espanoil,, name, it,, love, it!]                                                                                                                                                                                                                                                                                                                                                                                                                                                                                                                                                                                                    |(262144,[9886,32297,35119,46029,48858,66564,90225,99426,166809,186480,197103,219997],[5.436106767306422,7.151704875568912,4.401873140451747,4.335099267912357,9.677433519877168,9.271968411769004,4.306795491749505,9.271968411769004,7.3260582627136905,4.854305865121481,8.067995607443068,9.677433519877168])                                                                                                                                                                                                                                                                                                                                                                                                                                                                                                                                                                                                                                                                                                                                                                                                                                                                                                                                                                                                                                                                                                                                                                                                                                                                                                                                                                                                                                                                                                                                                                                                                                                                                                                        |\n",
            "|[always, trust, chef's, restaurant.]                                                                                                                                                                                                                                                                                                                                                                                                                                                                                                                                                                                                                                                             |(262144,[13130,79779,125948,146303],[5.837981207283858,2.5489375741971316,6.541939303948018,3.7871714782783488])                                                                                                                                                                                                                                                                                                                                                                                                                                                                                                                                                                                                                                                                                                                                                                                                                                                                                                                                                                                                                                                                                                                                                                                                                                                                                                                                                                                                                                                                                                                                                                                                                                                                                                                                                                                                                                                                                                                        |\n",
            "|[vegas,, always, stop, cabo, wabo., sure, one, la., always, remember, place, friendly, staff., eh,, time, around., know, staff, burnt, partying, previous, night, looked, like, make, last, night., host, point, contact, huge, customer, service., girls, front, personality, ever., rude,, smile,, plain, straight, face, looked, like, damn, podium, stand,, haha., another, girl, handled, drinks, front, looked, rolled, eyes., whoa,, girl, wear, trench, coat, completely, covered, up., seriously?!, kind, restaurant?, eh,, vegas,, leave, cabowabo, alone., 2, stars, good, wings,, less, 3, stars, terrible, customer, service.., mean, wants, deal, attitude, even, getting, served.]|(262144,[1133,5381,12524,13781,17231,17361,19729,21677,21823,36769,38765,40082,40140,45190,48329,51689,62878,65069,70531,70556,70998,71192,73598,75909,79132,79779,81867,88981,89717,92273,95840,96798,98142,100745,105627,111231,112607,113432,119557,121517,124217,131709,134035,134125,134741,140636,140931,142373,148880,163791,165865,167918,168590,174966,179602,186571,189933,189957,193835,196997,198774,201892,202268,204014,204923,208258,217492,218360,222051,226470,226953,228685,230764,236625,239452,247394,253382,257091,259076],[8.291139158757277,3.139293696109498,3.307532537048941,10.095141442597411,8.761142788003013,5.407736070177206,9.274478847078736,7.885674050649113,2.020387049717046,5.988554065763232,5.745607887152842,7.40470490403942,8.291139158757277,3.794111131388889,6.107900823395798,6.243446315392021,9.271968411769004,3.1335216743123757,7.235086484507963,6.969383318774958,1.4382361313232908,3.3638854736000727,5.79586972193373,6.151072995261007,3.9264494437366726,5.097875148394263,6.520433098727055,6.936593495951967,2.9205011306296145,4.61800806161148,2.705764915151378,14.852283442541346,5.583088957655067,12.187446776782748,4.3617675149945185,8.4246705513818,5.327155583517866,1.6165777669428514,5.963861453172861,2.095968754227561,6.7329945407107274,5.134138737607164,9.271968411769004,3.2680813446624644,6.520433098727055,4.7501798347199635,3.219095236532378,7.224972392018765,4.571488045976587,5.859721193920263,4.853127803972406,5.380148113658377,3.4922542321457883,2.5271242960609976,6.969383318774958,8.761142788003013,9.677433519877168,3.145827294669142,8.067995607443068,4.923843328770803,6.787061761981003,5.550299134832076,4.016210659639762,9.677433519877168,8.173356123100893,3.954729377681174,5.052460706592897,8.788459582278358,7.480208942540949,4.239354210953972,5.4877787778507425,2.893542228117417,4.046221738055802,4.599139577307097,4.687000933098432,5.9397639015938,3.48200824087175,4.721606462275907,7.537367356380897])|\n",
            "|[woah, woah, woah,, place, like, okay., awful, everybody, says, yelp.]                                                                                                                                                                                                                                                                                                                                                                                                                                                                                                                                                                                                                           |(262144,[70998,85041,146158,161826,162930,175387,197822,208258,260465],[1.4382361313232908,5.951740092640516,6.180925958410688,5.2057947265135995,5.246616721033854,9.677433519877168,18.543936823538008,1.977364688840587,6.541939303948018])                                                                                                                                                                                                                                                                                                                                                                                                                                                                                                                                                                                                                                                                                                                                                                                                                                                                                                                                                                                                                                                                                                                                                                                                                                                                                                                                                                                                                                                                                                                                                                                                                                                                                                                                                                                          |\n",
            "|[later, night, food, service, place, sucks.]                                                                                                                                                                                                                                                                                                                                                                                                                                                                                                                                                                                                                                                     |(262144,[43756,70998,121133,130343,189957,193920],[1.65355352714229,1.4382361313232908,1.1227518840499389,6.541939303948018,3.145827294669142,4.849119782574867])                                                                                                                                                                                                                                                                                                                                                                                                                                                                                                                                                                                                                                                                                                                                                                                                                                                                                                                                                                                                                                                                                                                                                                                                                                                                                                                                                                                                                                                                                                                                                                                                                                                                                                                                                                                                                                                                       |\n",
            "|[best, pho, town., #10, large,, egg, noodle., yum.]                                                                                                                                                                                                                                                                                                                                                                                                                                                                                                                                                                                                                                              |(262144,[12057,29656,86584,163510,166027,183052,193611,259758],[4.873412475143912,6.787061761981003,4.451686846163967,4.532850253271174,2.121266954176477,8.4246705513818,8.984286339317222,6.541939303948018])                                                                                                                                                                                                                                                                                                                                                                                                                                                                                                                                                                                                                                                                                                                                                                                                                                                                                                                                                                                                                                                                                                                                                                                                                                                                                                                                                                                                                                                                                                                                                                                                                                                                                                                                                                                                                         |\n",
            "|[place, opened, right, around, time, house, brews, shut, down., unlv, allstars, came, started, things, beer, called, 1776, (i, think)., anyhow,, found, odd, owners, let, us, write, walls, marker, whatever, available, (blood?), whatever.]                                                                                                                                                                                                                                                                                                                                                                                                                                                    |(262144,[3091,7606,20510,49025,65844,70998,80794,87405,89899,99760,109156,113091,117484,119201,121517,127009,146341,148572,153337,160918,168855,173339,175450,183375,190119,192129,197281,204971,211756,214676,229166,254661],[6.815232638947699,7.805631342975577,7.279538247078797,9.677433519877168,2.5158115169379807,1.4382361313232908,6.657008633732805,3.7625800751410265,9.677433519877168,4.885783766946458,2.5778189796205875,9.271968411769004,4.302155112193003,4.972417998919361,2.095968754227561,3.676018641916018,5.077275875712621,8.761142788003013,4.941235071482673,8.291139158757277,4.272506418270873,3.932829050700712,6.276236138215013,5.150224875358789,5.4653059219986835,9.677433519877168,7.6625304993349035,5.503046249981531,4.174136572642593,3.8603223599139636,3.248520818807971,3.329169036642303])                                                                                                                                                                                                                                                                                                                                                                                                                                                                                                                                                                                                                                                                                                                                                                                                                                                                                                                                                                                                                                                                                                                                                                                                 |\n",
            "|[literally, everything, menu,, multiple, times., great, place, mix, things, up., breadsticks., fantastic...i, love, them., but,, cheap,, fast,, italian., qualifying, four, star, that,, four, star, expectations, set, out., service, pretty, good., mean, usually, high, school, kids, stuff,, decent, job.]                                                                                                                                                                                                                                                                                                                                                                                   |(262144,[14204,14285,21910,23071,24112,43756,49815,61031,70998,76245,93307,93392,113890,114106,123874,123940,131709,136020,140636,143739,154637,162134,162180,163240,166929,175357,184046,186480,209518,213314,214676,231949,234744,242750,258646,261870],[6.001132847970092,6.499379689529222,5.472740900486202,2.8678424896822623,5.428938277827809,1.65355352714229,2.690867060470741,5.707141606325046,1.4382361313232908,8.761142788003013,9.229676973700402,4.798426668259348,5.450599774608988,7.192526870089168,3.9938537525384863,2.892411006277328,5.134138737607164,3.8982344059362126,4.7501798347199635,4.711098484677493,4.412156007407331,5.775460850302523,9.677433519877168,4.092059276271269,5.386974078728777,9.677433519877168,3.9185317459998874,2.4271529325607406,4.972417998919361,8.139589811547738,3.8603223599139636,4.764778634141116,5.144834026723912,7.235086484507963,4.602259704643341,1.5623610353187054])                                                                                                                                                                                                                                                                                                                                                                                                                                                                                                                                                                                                                                                                                                                                                                                                                                                                                                                                                                                                                                                                                            |\n",
            "|[right, next, campus, great, place, get, away, tired, dining, commons.]                                                                                                                                                                                                                                                                                                                                                                                                                                                                                                                                                                                                                          |(262144,[9129,54961,70998,100696,176950,195326,229166,245919,252722,261870],[3.9938537525384863,3.2615185647499407,1.4382361313232908,7.805631342975577,3.841161862174888,9.677433519877168,3.248520818807971,6.02677527858343,2.0740341801364983,1.5623610353187054])                                                                                                                                                                                                                                                                                                                                                                                                                                                                                                                                                                                                                                                                                                                                                                                                                                                                                                                                                                                                                                                                                                                                                                                                                                                                                                                                                                                                                                                                                                                                                                                                                                                                                                                                                                  |\n",
            "|[hundred, million, times., literally.]                                                                                                                                                                                                                                                                                                                                                                                                                                                                                                                                                                                                                                                           |(262144,[55307,60974,180775,231949],[6.8442201758209515,7.885674050649113,7.374848426883122,4.764778634141116])                                                                                                                                                                                                                                                                                                                                                                                                                                                                                                                                                                                                                                                                                                                                                                                                                                                                                                                                                                                                                                                                                                                                                                                                                                                                                                                                                                                                                                                                                                                                                                                                                                                                                                                                                                                                                                                                                                                         |\n",
            "|[near, chinatown,, place, good, replacement, if:]                                                                                                                                                                                                                                                                                                                                                                                                                                                                                                                                                                                                                                                |(262144,[26143,70998,113432,150278,168537,193305],[7.537367356380897,1.4382361313232908,1.6165777669428514,4.643732952849916,9.677433519877168,8.067995607443068])                                                                                                                                                                                                                                                                                                                                                                                                                                                                                                                                                                                                                                                                                                                                                                                                                                                                                                                                                                                                                                                                                                                                                                                                                                                                                                                                                                                                                                                                                                                                                                                                                                                                                                                                                                                                                                                                      |\n",
            "|[\"went, try, \"\"the, scorpion\"\", big, drink, serve, fishbowl, glass., cost, $18., ok]                                                                                                                                                                                                                                                                                                                                                                                                                                                                                                                                                                                                             |(262144,[2874,11949,33140,75078,90205,146794,156216,172888,198197,213605,231005,248460],[9.677433519877168,4.4225457112564674,3.5120156656457477,6.609380584743551,6.8442201758209515,5.28917633545265,6.759662787792889,3.5321754995897696,4.323208521390836,2.61609915296673,7.6625304993349035,8.291139158757277])                                                                                                                                                                                                                                                                                                                                                                                                                                                                                                                                                                                                                                                                                                                                                                                                                                                                                                                                                                                                                                                                                                                                                                                                                                                                                                                                                                                                                                                                                                                                                                                                                                                                                                                   |\n",
            "|[absolutely, one, best, meals, ever, had., 4, year, anniversary, staff, made, unforgettable, experience., everything, better., great, appetizers,, dinner, perfect,, raspberry, soufflé, die, for., great, views, bellagio, water, show.]                                                                                                                                                                                                                                                                                                                                                                                                                                                        |(262144,[11382,18448,21823,26308,33783,41601,57398,58534,67117,95840,106924,123940,127653,140784,150992,163059,165345,166027,167721,194802,196538,203802,204184,221315,225494,245912,261870],[6.327529432602563,4.707620220301167,2.020387049717046,6.165888081046147,6.381596653872839,4.732226031103368,8.173356123100893,6.904844797637387,4.435686504817526,2.705764915151378,5.2057947265135995,2.892411006277328,6.02677527858343,2.817818616222966,2.997834334032785,4.521255920490254,4.0231914907811035,2.121266954176477,3.6551973141024323,3.7100055505974274,5.661050499124779,2.818868485085803,8.761142788003013,4.640480917463539,4.4436546744667025,3.820929958203303,3.124722070637411])                                                                                                                                                                                                                                                                                                                                                                                                                                                                                                                                                                                                                                                                                                                                                                                                                                                                                                                                                                                                                                                                                                                                                                                                                                                                                                                               |\n",
            "|[first, time, pittsburgh, gave, girl, choices, places, eat, picked, cioppino's., excellent, choice!, swordfish, filet., excellent., also, lobster, bisque, also, excellent!, wine, list, good., , desert, split, meghans, sampler, great, choice, two, people, split., staff, knowledgeable, attentive., highly, recommend, restaurant.]                                                                                                                                                                                                                                                                                                                                                         |(262144,[13781,14376,19633,32365,49815,54332,59317,68228,78601,78745,79939,91058,95840,109007,121517,122768,141650,146303,147136,152315,160739,173387,185559,188835,200458,202572,211627,223329,225656,229663,233502,245411,246945,249180,249623,257222,258728,261870],[5.0475707212987055,4.779593719926257,3.6383699939699072,6.363247515204643,2.690867060470741,7.6625304993349035,4.865249164504751,2.9828714613560727,9.677433519877168,3.427458277617685,5.643192881724773,8.984286339317222,2.705764915151378,5.625648572073863,2.095968754227561,3.6515675460518535,7.885674050649113,3.7871714782783488,4.9622431020651785,4.205162846205694,7.074743834432784,7.6625304993349035,3.0802878179905164,2.590695585366591,5.386974078728777,2.7474276319602113,4.898310026765638,3.9921545167855266,4.3617675149945185,6.400288786884992,3.8859454648018614,5.139472083582526,4.889941777095122,1.2649343995755964,4.865249164504751,5.625648572073863,3.0728124179057335,1.5623610353187054])                                                                                                                                                                                                                                                                                                                                                                                                                                                                                                                                                                                                                                                                                                                                                                                                                                                                                                                                                                                                                                   |\n",
            "+-------------------------------------------------------------------------------------------------------------------------------------------------------------------------------------------------------------------------------------------------------------------------------------------------------------------------------------------------------------------------------------------------------------------------------------------------------------------------------------------------------------------------------------------------------------------------------------------------------------------------------------------------------------------------------------------------+----------------------------------------------------------------------------------------------------------------------------------------------------------------------------------------------------------------------------------------------------------------------------------------------------------------------------------------------------------------------------------------------------------------------------------------------------------------------------------------------------------------------------------------------------------------------------------------------------------------------------------------------------------------------------------------------------------------------------------------------------------------------------------------------------------------------------------------------------------------------------------------------------------------------------------------------------------------------------------------------------------------------------------------------------------------------------------------------------------------------------------------------------------------------------------------------------------------------------------------------------------------------------------------------------------------------------------------------------------------------------------------------------------------------------------------------------------------------------------------------------------------------------------------------------------------------------------------------------------------------------------------------------------------------------------------------------------------------------------------------------------------------------------------------------------------------------------------------------------------------------------------------------------------------------------------------------------------------------------------------------------------------------------------+\n",
            "only showing top 20 rows\n",
            "\n"
          ]
        }
      ]
    },
    {
      "cell_type": "code",
      "source": [
        "result.show(2)"
      ],
      "metadata": {
        "colab": {
          "base_uri": "https://localhost:8080/"
        },
        "id": "DUkl3o4URoV0",
        "outputId": "f9fc9538-d0e9-4424-87db-a969154e8d76"
      },
      "execution_count": null,
      "outputs": [
        {
          "output_type": "stream",
          "name": "stdout",
          "text": [
            "+--------------------+--------------------+--------+--------+--------------------+-----+----------+--------------------+------+-----+----+--------+------------+--------------------+--------------------+--------------------+--------------------+\n",
            "|             user_id|         business_id|category|avg_star|           review_id|stars|      date|                text|useful|funny|cool|is_elite|is_not_elite|               words|      filtered_words|         rawFeatures|            features|\n",
            "+--------------------+--------------------+--------+--------+--------------------+-----+----------+--------------------+------+-----+----+--------+------------+--------------------+--------------------+--------------------+--------------------+\n",
            "|ssuXFjkH4neiBgwv-...|0Rni7ocMC_Lg2UH0l...| Italian|     3.5|DbLUpPT61ykLTakkn...|    1|2014-08-09|This place is alw...|     6|    0|   0|       0|           1|[this, place, is,...|[place, always, d...|(262144,[43756,70...|(262144,[43756,70...|\n",
            "|PWKrsnhlNUN6_oMaQ...|wjW6YN9s-iDq7l9Pc...|American|     4.5|isGkB9diabUw4YUuT...|    5|2014-01-16|An awesome place ...|     0|    0|   0|       0|           1|[an, awesome, pla...|[awesome, place, ...|(262144,[32727,44...|(262144,[32727,44...|\n",
            "+--------------------+--------------------+--------+--------+--------------------+-----+----------+--------------------+------+-----+----+--------+------------+--------------------+--------------------+--------------------+--------------------+\n",
            "only showing top 2 rows\n",
            "\n"
          ]
        }
      ]
    },
    {
      "cell_type": "code",
      "source": [
        "from pyspark.sql import SparkSession\n",
        "from pyspark.sql.functions import udf\n",
        "from pyspark.sql.types import StringType\n",
        "from textblob import TextBlob\n",
        "\n",
        "\n",
        "# Define a UDF to calculate polarity\n",
        "def get_polarity(text):\n",
        "    return TextBlob(text).sentiment.polarity\n",
        "\n",
        "# Define a UDF to classify sentiment\n",
        "def classify_sentiment(polarity):\n",
        "    if polarity > 0:\n",
        "        return 'Positive'\n",
        "    elif polarity < 0:\n",
        "        return 'Negative'\n",
        "    else:\n",
        "        return 'Neutral'\n",
        "\n",
        "# Register the UDFs\n",
        "polarity_udf = udf(get_polarity, FloatType())\n",
        "classify_sentiment_udf = udf(classify_sentiment, StringType())\n",
        "\n",
        "df_with_polarity = result.withColumn(\"polarity\", polarity_udf(result[\"text\"]))\n",
        "df_classified = df_with_polarity.withColumn(\"sentiment\", classify_sentiment_udf(df_with_polarity[\"polarity\"]))\n",
        "\n",
        "# Show the results\n",
        "df_classified.show()\n"
      ],
      "metadata": {
        "colab": {
          "base_uri": "https://localhost:8080/"
        },
        "id": "c6G9-0U6Q3SH",
        "outputId": "03650b7e-696b-4bbb-b90f-51b5d0b5e41e"
      },
      "execution_count": 39,
      "outputs": [
        {
          "output_type": "stream",
          "name": "stdout",
          "text": [
            "+--------------------+--------------------+----------+--------+--------------------+-----+----------+--------------------+--------------------+--------------------+----+--------+------------+--------------------+--------------------+--------------------+--------------------+------------+---------+\n",
            "|             user_id|         business_id|  category|avg_star|           review_id|stars|      date|                text|              useful|               funny|cool|is_elite|is_not_elite|               words|      filtered_words|         rawFeatures|            features|    polarity|sentiment|\n",
            "+--------------------+--------------------+----------+--------+--------------------+-----+----------+--------------------+--------------------+--------------------+----+--------+------------+--------------------+--------------------+--------------------+--------------------+------------+---------+\n",
            "|OcB8_br3QOUuX_CCg...|inuW6Gl02Mf8G5RRk...|      Thai|     4.0|j1RTvmb0GHRxpD-Ra...|    5|2017-07-16|We tried the chic...|                   0|                   0|   0|       0|           1|[we, tried, the, ...|[tried, chicken, ...|(262144,[5798,634...|(262144,[5798,634...|-0.031944446| Negative|\n",
            "|DsPTtxXzLccDutfoJ...|PJnrRUbeUod82qAjW...|     Other|     4.0|Z6_mSqNjJmT4dhqvn...|    5|2016-04-12|Great food and se...|                   4|                   0|   0|       0|           1|[great, food, and...|[great, food, ser...|(262144,[2609,634...|(262144,[2609,634...|        0.18| Positive|\n",
            "|DsPTtxXzLccDutfoJ...|G_LtZnL66Iwama_7_...|  Japanese|     3.5|oC9uLlSG6T-FfXuCc...|    5|2013-09-22|Baku is unlike an...|                NULL|                NULL|NULL|       0|           1|[baku, is, unlike...|[baku, unlike, an...|(262144,[2701,293...|(262144,[2701,293...|   0.6333333| Positive|\n",
            "|DsPTtxXzLccDutfoJ...|ByyMZI6YHeBuYlAeQ...|     Other|     5.0|br5Tk25oupAQFI7Lv...|    5|2017-01-21|If you haven't be...|                   0|                   0|   0|       0|           1|[if, you, haven't...|[nile, grocery, c...|(262144,[2701,135...|(262144,[2701,135...|  0.29636362| Positive|\n",
            "|qxpk8rO10eJ4_NGta...|Qeie5-8-S_hLPk7_u...|     Other|     3.5|gJjDpyQkCY8U1BmiC...|    1|2017-11-26|\"Whatever bartend...| not knowing he w...|                   0|   0|       0|           1|[\"whatever, barte...|[\"whatever, barte...|(262144,[1541,161...|(262144,[1541,161...|         0.0|  Neutral|\n",
            "|3F9rvmlmr6FHUronu...|dn_ipqbm7_jUz5X3r...|     Other|     3.5|-emDleBb7jKU23snN...|    5|2014-08-04|Very nice atmosph...|                   1|                   0|   1|       0|           1|[very, nice, atmo...|[nice, atmosphere...|(262144,[4959,149...|(262144,[4959,149...|    0.451875| Positive|\n",
            "|LEr8vS6PRymCg-SJH...|oXoVJ0xKv82cBo9U6...|   Mexican|     3.0|B1G97_uSZUopbov8N...|    4|2017-06-06|I love Latin MUSI...|                NULL|                NULL|NULL|       0|           1|[i, love, latin, ...|[love, latin, mus...|(262144,[9886,322...|(262144,[9886,322...|       0.625| Positive|\n",
            "|LEr8vS6PRymCg-SJH...|HhVmDybpU7L50Kb5A...|  American|     3.5|O-oRvTvYwKilc-pMb...|    5|2017-06-06|Always trust a Ch...|                NULL|                NULL|NULL|       0|           1|[always, trust, a...|[always, trust, c...|(262144,[13130,79...|(262144,[13130,79...|         0.0|  Neutral|\n",
            "|LEr8vS6PRymCg-SJH...|Jt28TYWanzKrJYYr0...|   Mexican|     3.5|JfNrW6b2mgcynJ3w2...|    2|2016-12-20|When in Vegas, I ...|                   3|                   3|   2|       0|           1|[when, in, vegas,...|[vegas,, always, ...|(262144,[1133,538...|(262144,[1133,538...| 0.049632937| Positive|\n",
            "|KuGQIxKfGiHLNRuWL...|haa0u6VwTWBXbIW0m...|   Chinese|     2.5|90zs84pdedwOQ1e7g...|    3|2010-06-17|Woah woah woah, t...|                NULL|                NULL|NULL|       0|           1|[woah, woah, woah...|[woah, woah, woah...|(262144,[70998,85...|(262144,[70998,85...|       -0.25| Negative|\n",
            "|KuGQIxKfGiHLNRuWL...|OhrbZ8e4v0XsD5Qi2...|     Other|     3.0|qxzgThdoFF4L_m8E4...|    3|2010-06-25|Later at night th...|                NULL|                NULL|NULL|       0|           1|[later, at, night...|[later, night, fo...|(262144,[43756,70...|(262144,[43756,70...|       -0.15| Negative|\n",
            "|KuGQIxKfGiHLNRuWL...|yfxDa8RFOvJPQh0rN...|   Chinese|     3.5|_-8QRfaMNMEl8eovE...|    5|2010-03-16|The best pho in t...|                   0|                   0|   0|       0|           1|[the, best, pho, ...|[best, pho, town....|(262144,[12057,29...|(262144,[12057,29...|  0.60714287| Positive|\n",
            "|KuGQIxKfGiHLNRuWL...|yGCrsq0AYI8WN7goM...|   Mexican|     3.5|j1hoBHKrryYf59fwJ...|    3|2010-06-17|This place opened...|                NULL|                NULL|NULL|       0|           1|[this, place, ope...|[place, opened, r...|(262144,[3091,760...|(262144,[3091,760...|  0.09087302| Positive|\n",
            "|KuGQIxKfGiHLNRuWL...|ZDoXr27YooSll6FTD...|   Italian|     3.0|IT-gg1Dgp8R7FybMI...|    4|2010-06-17|I have literally ...|                   0|                   0|   0|       0|           1|[i, have, literal...|[literally, every...|(262144,[14204,14...|(262144,[14204,14...|  0.26037878| Positive|\n",
            "|KuGQIxKfGiHLNRuWL...|tro-hrljuY1cUAVFY...|     Other|     4.5|h62ROhoUqTqlt9JBo...|    5|2010-06-17|Right next to cam...|                   0|                   0|   0|       0|           1|[right, next, to,...|[right, next, cam...|(262144,[9129,549...|(262144,[9129,549...|  0.17142858| Positive|\n",
            "|KuGQIxKfGiHLNRuWL...|IImZFNzX4cP84rFsy...|   Chinese|     2.0|kBUKkc8Cp4CRmpGya...|    4|2010-07-02|I've been here a ...|                NULL|                NULL|NULL|       0|           1|[i've, been, here...|[hundred, million...|(262144,[55307,60...|(262144,[55307,60...|         0.0|  Neutral|\n",
            "|KuGQIxKfGiHLNRuWL...|YavRvjbLsvh4DYDJP...|Vietnamese|     3.5|BFyWQIsLgWI1atm00...|    2|2010-03-16|If you're not nea...|                NULL|                NULL|NULL|       0|           1|[if, you're, not,...|[near, chinatown,...|(262144,[26143,70...|(262144,[26143,70...|       0.325| Positive|\n",
            "|KuGQIxKfGiHLNRuWL...|XXW_OFaYQkkGOGniu...|  American|     4.0|HlfVFyrEnea7Dop06...|    4|2010-04-04|\"Went here to try...| nothing absolute...| but it should be...|NULL|       0|           1|[\"went, here, to,...|[\"went, try, \"\"th...|(262144,[2874,119...|(262144,[2874,119...|        0.25| Positive|\n",
            "|wU3hkI9BFVckpbhd0...|xVEtGucSRLk5pxxN0...|    French|     4.0|Lwt8AE-uHk_1P6dAU...|    5|2010-08-24|Absolutely one of...|                   0|                   0|   0|       0|           1|[absolutely, one,...|[absolutely, one,...|(262144,[11382,18...|(262144,[11382,18...|   0.7285714| Positive|\n",
            "|COFnyyG_h72-Ro6fV...|_VHU9KZUHRLp2Hc2J...|   Italian|     4.0|wUkrL_4QwlqMaZxxr...|    5|2016-10-24|This was our firs...|                   0|                   0|   0|       0|           1|[this, was, our, ...|[first, time, pit...|(262144,[13781,14...|(262144,[13781,14...|  0.63555557| Positive|\n",
            "+--------------------+--------------------+----------+--------+--------------------+-----+----------+--------------------+--------------------+--------------------+----+--------+------------+--------------------+--------------------+--------------------+--------------------+------------+---------+\n",
            "only showing top 20 rows\n",
            "\n"
          ]
        }
      ]
    },
    {
      "cell_type": "code",
      "source": [
        "non_elite_users_df = df_classified.dropDuplicates(['text'])\n"
      ],
      "metadata": {
        "id": "pbgghnUouhCD"
      },
      "execution_count": null,
      "outputs": []
    },
    {
      "cell_type": "markdown",
      "source": [
        "#Percentage of positive reviews among total reviews per category for non elite users\n"
      ],
      "metadata": {
        "id": "c6pHJ1XuuFDz"
      }
    },
    {
      "cell_type": "code",
      "source": [
        "from pyspark.sql.functions import col, sum as _sum, lit\n",
        "\n",
        "\n",
        "pivot_table = non_elite_users_df.groupBy('category').pivot('sentiment').count().na.fill(0)\n",
        "\n",
        "pivot_table = pivot_table.withColumn('All', col('positive') + col('negative')) \\\n",
        "                         .withColumn('positive_percentage', (col('positive') / (col('positive') + col('negative')) * 100))\n",
        "\n",
        "pivot_table = pivot_table.filter(col('All') > 0)\n",
        "\n",
        "positive_percentage_sorted = pivot_table.select('category', 'positive_percentage').orderBy(col('positive_percentage').desc())\n",
        "\n",
        "positive_percentage_sorted.show()\n"
      ],
      "metadata": {
        "id": "BrbbKp222iAz",
        "colab": {
          "base_uri": "https://localhost:8080/"
        },
        "outputId": "7b45c5d6-43ed-4d4c-e545-b3b39cd1ca3a"
      },
      "execution_count": null,
      "outputs": [
        {
          "output_type": "stream",
          "name": "stdout",
          "text": [
            "+--------------+-------------------+\n",
            "|      category|positive_percentage|\n",
            "+--------------+-------------------+\n",
            "|       Spanish|  94.08602150537635|\n",
            "|        French|  90.63004846526655|\n",
            "|          Thai|  89.31419457735247|\n",
            "| Mediterranean|  89.21161825726142|\n",
            "|        Korean|  88.69565217391305|\n",
            "|Middle Eastern|  88.57142857142857|\n",
            "|      Hawaiian|  87.59689922480621|\n",
            "|      Japanese|    87.117903930131|\n",
            "|         Greek|  86.66666666666667|\n",
            "|        Indian|  85.75949367088607|\n",
            "|    Vietnamese|  85.66176470588235|\n",
            "|      American|  85.32675709001232|\n",
            "|       Italian|  84.62664714494875|\n",
            "|         Other|  83.42931937172776|\n",
            "|       Mexican|  82.74745605920444|\n",
            "|       Chinese|  79.14262159934047|\n",
            "|       African|               75.0|\n",
            "+--------------+-------------------+\n",
            "\n"
          ]
        }
      ]
    },
    {
      "cell_type": "code",
      "source": [
        "data = positive_percentage_sorted.collect()\n",
        "\n",
        "categories = [row['category'] for row in data]\n",
        "positive_percentages = [row['positive_percentage'] for row in data]\n",
        "\n",
        "# Creating the bar graph\n",
        "plt.figure(figsize=(10, 5))\n",
        "plt.bar(categories, positive_percentages, color='lightblue')\n",
        "\n",
        "# Adding title and labels\n",
        "plt.title('Positive Review Percentage by Category for Non-elite')\n",
        "plt.xlabel('Category')\n",
        "plt.ylabel('Positive Percentage')\n",
        "\n",
        "# Rotating the x-labels for better readability\n",
        "plt.xticks(rotation=45, ha='right')\n",
        "\n",
        "# Showing the plot\n",
        "plt.tight_layout()\n",
        "plt.show()\n"
      ],
      "metadata": {
        "colab": {
          "base_uri": "https://localhost:8080/",
          "height": 507
        },
        "id": "1UuWbel5EBHX",
        "outputId": "a0ab9f3b-cdbb-4df3-da9f-87bf1c0658dd"
      },
      "execution_count": null,
      "outputs": [
        {
          "output_type": "display_data",
          "data": {
            "text/plain": [
              "<Figure size 1000x500 with 1 Axes>"
            ],
            "image/png": "[encoded data removed]"
          },
          "metadata": {}
        }
      ]
    },
    {
      "cell_type": "code",
      "source": [
        "pivot_table1 = pivot_table.withColumn('negative_percentage', (col('negative') / col('All') * 100))\n",
        "\n",
        "pivot_table1 = pivot_table1.filter(col('All') > 0)\n",
        "\n",
        "negative_percentage_sorted = pivot_table1.select('category', 'negative_percentage').orderBy(col('negative_percentage').desc())\n",
        "negative_percentage_sorted.show()\n"
      ],
      "metadata": {
        "id": "TKoK4NLjtZPO",
        "colab": {
          "base_uri": "https://localhost:8080/"
        },
        "outputId": "94cbebb4-0000-41c6-c670-5925680ab53d"
      },
      "execution_count": null,
      "outputs": [
        {
          "output_type": "stream",
          "name": "stdout",
          "text": [
            "+--------------+-------------------+\n",
            "|      category|negative_percentage|\n",
            "+--------------+-------------------+\n",
            "|       Chinese|  19.94240460763139|\n",
            "|         Other|   16.9226750261233|\n",
            "|       Mexican| 16.470269538128132|\n",
            "|      American| 14.955007017254191|\n",
            "|      Japanese| 14.408528198074277|\n",
            "|       Italian|  14.26561125769569|\n",
            "|         Greek| 14.117647058823529|\n",
            "|        Indian| 14.020857473928158|\n",
            "|      Hawaiian| 13.220338983050848|\n",
            "|    Vietnamese| 12.947658402203857|\n",
            "|Middle Eastern| 12.931034482758621|\n",
            "|          Thai| 12.601626016260163|\n",
            "|        Korean| 12.032085561497325|\n",
            "| Mediterranean| 10.163204747774481|\n",
            "|       African|  9.523809523809524|\n",
            "|        French|  9.290953545232274|\n",
            "|       Spanish| 6.1946902654867255|\n",
            "+--------------+-------------------+\n",
            "\n"
          ]
        }
      ]
    },
    {
      "cell_type": "code",
      "source": [
        "from pyspark.sql.functions import col, avg\n",
        "\n",
        "average_rating = non_elite_users_df.groupBy('category').agg(avg('stars').alias('avg_rating'))\n",
        "average_rating = average_rating.orderBy(col('avg_rating').desc())\n",
        "\n",
        "# Show the calculated average ratings\n",
        "average_rating.show()\n"
      ],
      "metadata": {
        "colab": {
          "base_uri": "https://localhost:8080/"
        },
        "id": "9uBJxvDtRhSd",
        "outputId": "4f6f04f3-a7b0-4442-c039-6fd0d2092137"
      },
      "execution_count": null,
      "outputs": [
        {
          "output_type": "stream",
          "name": "stdout",
          "text": [
            "+--------------+------------------+\n",
            "|      category|        avg_rating|\n",
            "+--------------+------------------+\n",
            "|       African|               4.5|\n",
            "|       Spanish| 4.243523316062176|\n",
            "| Mediterranean| 4.119918699186992|\n",
            "|Middle Eastern| 4.098591549295775|\n",
            "|        French|4.0261136712749614|\n",
            "|         Greek|3.9836065573770494|\n",
            "|          Thai| 3.980213089802131|\n",
            "|      Hawaiian|3.9776119402985075|\n",
            "|      Japanese|3.8632240055826936|\n",
            "|    Vietnamese| 3.825174825174825|\n",
            "|        Korean| 3.811715481171548|\n",
            "|        Indian| 3.794478527607362|\n",
            "|       Italian|3.6838407494145198|\n",
            "|      American| 3.674545094936709|\n",
            "|         Other|3.6514036182158454|\n",
            "|       Mexican|3.6085219707057257|\n",
            "|       Chinese|3.4353954581049333|\n",
            "+--------------+------------------+\n",
            "\n"
          ]
        }
      ]
    },
    {
      "cell_type": "code",
      "source": [
        "from pyspark.sql import SparkSession\n",
        "from pyspark.sql.functions import col,explode\n",
        "\n"
      ],
      "metadata": {
        "colab": {
          "base_uri": "https://localhost:8080/"
        },
        "id": "hkfjJHyRUhbG",
        "outputId": "cc00d06c-d47b-438e-c7e9-27167177a701"
      },
      "execution_count": null,
      "outputs": [
        {
          "output_type": "stream",
          "name": "stdout",
          "text": [
            "+--------------------+-------------+---------+--------+\n",
            "|      filtered_words|     polarity|sentiment|category|\n",
            "+--------------------+-------------+---------+--------+\n",
            "|[took, employees,...|-1.4705882E-4| Negative| Chinese|\n",
            "|[yelping, food, c...|-0.0017857143| Negative| Chinese|\n",
            "|[get, chinese, ch...|-0.0032051282| Negative| Chinese|\n",
            "+--------------------+-------------+---------+--------+\n",
            "only showing top 3 rows\n",
            "\n"
          ]
        }
      ]
    },
    {
      "cell_type": "code",
      "source": [
        "negative_non_elite = non_elite_users_df.filter((col(\"sentiment\") == \"Negative\") & (col(\"category\") == \"American\") )\n",
        "\n",
        "American_ne_df = negative_non_elite.orderBy(col(\"polarity\").asc()).select(\"filtered_words\", \"polarity\")\n",
        "\n",
        "American_ne_df.show(3, truncate=False)\n"
      ],
      "metadata": {
        "colab": {
          "base_uri": "https://localhost:8080/"
        },
        "id": "x__KKCBKeYjn",
        "outputId": "014a83cd-c77f-412b-f2ba-b825ae23a65f"
      },
      "execution_count": null,
      "outputs": [
        {
          "output_type": "stream",
          "name": "stdout",
          "text": [
            "+--------------------------------------------------------+--------+\n",
            "|filtered_words                                          |polarity|\n",
            "+--------------------------------------------------------+--------+\n",
            "|[disgusted, take, restaurant.]                          |-1.0    |\n",
            "|[go, here!!, worst, restaurant, experience, ever, had!!]|-1.0    |\n",
            "|[horrible!!!]                                           |-1.0    |\n",
            "+--------------------------------------------------------+--------+\n",
            "only showing top 3 rows\n",
            "\n"
          ]
        }
      ]
    },
    {
      "cell_type": "code",
      "source": [
        "# Filter the DataFrame for negative sentiment and \"Chinese\" category\n",
        "negative_non_elite = non_elite_users_df.filter((col(\"sentiment\") == \"Negative\") & (col(\"category\") == \"Chinese\") )\n",
        "\n",
        "chinese_ne_df = negative_non_elite.orderBy(col(\"polarity\").asc()).select(\"filtered_words\", \"polarity\")\n",
        "\n",
        "chinese_ne_df.show(3,truncate=False)\n",
        "\n",
        "#mexican, american, Japense, Italian"
      ],
      "metadata": {
        "colab": {
          "base_uri": "https://localhost:8080/"
        },
        "id": "5mQHMXEmesGS",
        "outputId": "62ed3f65-5ee5-4b6e-94c6-7a3e8ce6603b"
      },
      "execution_count": null,
      "outputs": [
        {
          "output_type": "stream",
          "name": "stdout",
          "text": [
            "+------------------------------------------------------------------------------------------------------------------------------------------------------------------------------+--------+\n",
            "|filtered_words                                                                                                                                                                |polarity|\n",
            "+------------------------------------------------------------------------------------------------------------------------------------------------------------------------------+--------+\n",
            "|[worst, food, ever, today!]                                                                                                                                                   |-1.0    |\n",
            "|[awful, awful, experience]                                                                                                                                                    |-1.0    |\n",
            "|[terrible, service., ordered, take, took, hour, get, food, told, 15, minutes., get, store, greeted, anything., 'host', checking, split, ends, cell, phone., never, go, again.]|-1.0    |\n",
            "+------------------------------------------------------------------------------------------------------------------------------------------------------------------------------+--------+\n",
            "only showing top 3 rows\n",
            "\n"
          ]
        }
      ]
    },
    {
      "cell_type": "code",
      "source": [
        "negative_non_elite = non_elite_users_df.filter((col(\"sentiment\") == \"Negative\") & (col(\"category\") == \"Japanese\") )\n",
        "\n",
        "Japanese_ne_df = negative_non_elite.orderBy(col(\"polarity\").asc()).select(\"filtered_words\", \"polarity\")\n",
        "\n",
        "Japanese_ne_df.show(3, truncate=False)\n"
      ],
      "metadata": {
        "colab": {
          "base_uri": "https://localhost:8080/"
        },
        "id": "LGCJ_jZxemXZ",
        "outputId": "d7126725-14d1-4436-ce4e-986cea8ec849"
      },
      "execution_count": null,
      "outputs": [
        {
          "output_type": "stream",
          "name": "stdout",
          "text": [
            "+----------------------------------+--------+\n",
            "|filtered_words                    |polarity|\n",
            "+----------------------------------+--------+\n",
            "|[one, worst, places, ever, ramen.]|-1.0    |\n",
            "|[terrible, service!!]             |-1.0    |\n",
            "|[worst, ramen, ever, had.]        |-1.0    |\n",
            "+----------------------------------+--------+\n",
            "only showing top 3 rows\n",
            "\n"
          ]
        }
      ]
    },
    {
      "cell_type": "code",
      "source": [
        "negative_non_elite = non_elite_users_df.filter((col(\"sentiment\") == \"Negative\") & (col(\"category\") == \"Mediterranean\") )\n",
        "\n",
        "Mediterranean_ne_df = negative_non_elite.orderBy(col(\"polarity\").asc()).select(\"filtered_words\", \"polarity\")\n",
        "\n",
        "Mediterranean_ne_df.show(3, truncate=False)\n"
      ],
      "metadata": {
        "id": "F9UGVN_RLW5W",
        "colab": {
          "base_uri": "https://localhost:8080/"
        },
        "outputId": "9430bad1-6ac1-4b53-f95b-cccc4f381d58"
      },
      "execution_count": null,
      "outputs": [
        {
          "output_type": "stream",
          "name": "stdout",
          "text": [
            "+------------------------------------------------------------------------------------------------------------------------------------------------------------------------------------------------------------------------------------------------------------------------------------------------------------------------------------------------------------------------------------------------------------------------+-----------+\n",
            "|filtered_words                                                                                                                                                                                                                                                                                                                                                                                                          |polarity   |\n",
            "+------------------------------------------------------------------------------------------------------------------------------------------------------------------------------------------------------------------------------------------------------------------------------------------------------------------------------------------------------------------------------------------------------------------------+-----------+\n",
            "|[even, close, lebanese, food, impressing, words, explain, bad, experience, worst, ever]                                                                                                                                                                                                                                                                                                                                 |-0.85      |\n",
            "|[wish, stars, service, food, separately, hate, give, 2, stars, place, like,, service, today, just...ugh.]                                                                                                                                                                                                                                                                                                               |-0.8       |\n",
            "|[\"the, worst, ever, tasted, among, mediterranean, food., horrible, taste., ordered, combo, platter, falafel, wrap., close, requested, take, to-go., took, food, home, tasted, horrible, food, ever., fries, salt, tasted, like, crap., worst, part, given, filet, wrap, instead, falafel, wrap., even, eat, meat, clearly, mentioned, \"\"elahe\"\"., yet, food, got, meat, combo, well, wrap., drove, 30mins, messed, up.\"]|-0.78333336|\n",
            "+------------------------------------------------------------------------------------------------------------------------------------------------------------------------------------------------------------------------------------------------------------------------------------------------------------------------------------------------------------------------------------------------------------------------+-----------+\n",
            "only showing top 3 rows\n",
            "\n"
          ]
        }
      ]
    },
    {
      "cell_type": "code",
      "source": [
        "negative_non_elite = non_elite_users_df.filter((col(\"sentiment\") == \"Negative\") & (col(\"category\") == \"Vietnamese\") )\n",
        "\n",
        "Vietnamese_ne_df = negative_non_elite.orderBy(col(\"polarity\").asc()).select(\"filtered_words\", \"polarity\")\n",
        "\n",
        "Vietnamese_ne_df.show(3, truncate=False)\n"
      ],
      "metadata": {
        "colab": {
          "base_uri": "https://localhost:8080/"
        },
        "id": "sZL0Cm16fNgf",
        "outputId": "738536c8-3cdb-4a5b-b237-cf5d65adb258"
      },
      "execution_count": null,
      "outputs": [
        {
          "output_type": "stream",
          "name": "stdout",
          "text": [
            "+-----------------------------------------------------------------------------------------------------------------------------------------------------------------------------------------------+--------+\n",
            "|filtered_words                                                                                                                                                                                 |polarity|\n",
            "+-----------------------------------------------------------------------------------------------------------------------------------------------------------------------------------------------+--------+\n",
            "|[terrible.]                                                                                                                                                                                    |-1.0    |\n",
            "|[place, terrible, service., waiting, 20, minutes, nobody, came, order., come, place.]                                                                                                          |-1.0    |\n",
            "|[parents, came, visit, decided, take, sunday, lunch., place, closest, house, decided, go, here., pulled, remembered, came, hated, it., decided, order, something, diff, food, tasted, terrible]|-0.95   |\n",
            "+-----------------------------------------------------------------------------------------------------------------------------------------------------------------------------------------------+--------+\n",
            "only showing top 3 rows\n",
            "\n"
          ]
        }
      ]
    },
    {
      "cell_type": "code",
      "source": [
        "negative_non_elite = non_elite_users_df.filter((col(\"sentiment\") == \"Negative\") & (col(\"category\") == \"Greek\") )\n",
        "\n",
        "Greek_ne_df = negative_non_elite.orderBy(col(\"polarity\").asc()).select(\"filtered_words\", \"polarity\")\n",
        "\n",
        "Greek_ne_df.show(3, truncate=False)\n"
      ],
      "metadata": {
        "colab": {
          "base_uri": "https://localhost:8080/"
        },
        "id": "RGiJzRjTe_Pz",
        "outputId": "e372fe37-5868-48f4-c4c9-cae0dc0a9550"
      },
      "execution_count": null,
      "outputs": [
        {
          "output_type": "stream",
          "name": "stdout",
          "text": [
            "+-------------------------------------------------------------------------------+--------+\n",
            "|filtered_words                                                                 |polarity|\n",
            "+-------------------------------------------------------------------------------+--------+\n",
            "|[one, worst, dining, experiences, ever, even, get, eat, food.]                 |-1.0    |\n",
            "|[blech....]                                                                    |-0.8    |\n",
            "|[service, bad., respectful, all., also,, food, quality, bad, comparing, price.]|-0.69   |\n",
            "+-------------------------------------------------------------------------------+--------+\n",
            "only showing top 3 rows\n",
            "\n"
          ]
        }
      ]
    },
    {
      "cell_type": "code",
      "source": [
        "negative_non_elite = non_elite_users_df.filter((col(\"sentiment\") == \"Negative\") & (col(\"category\") == \"Indian\") )\n",
        "\n",
        "Indian_ne_df = negative_non_elite.orderBy(col(\"polarity\").asc()).select(\"filtered_words\", \"polarity\")\n",
        "\n",
        "Indian_ne_df.show(3, truncate=False)\n"
      ],
      "metadata": {
        "colab": {
          "base_uri": "https://localhost:8080/"
        },
        "id": "Xf8IPcAJewPR",
        "outputId": "f99dcb94-b0f3-426f-b4bc-764e6a6b2ca8"
      },
      "execution_count": null,
      "outputs": [
        {
          "output_type": "stream",
          "name": "stdout",
          "text": [
            "+-------------------------------------------------------------------------------------------------------------------------------------------------------------------------+----------+\n",
            "|filtered_words                                                                                                                                                           |polarity  |\n",
            "+-------------------------------------------------------------------------------------------------------------------------------------------------------------------------+----------+\n",
            "|[place, terrible., pittsburgh, know, make, food, correct,, let, alone, complexity, indian, cuisine., , city, dumpster, eastern, u.s., , go, here,, ever, go, pittsburgh.]|-1.0      |\n",
            "|[kitchen, smells, real, bad., din't, feel, like, eating, food, smelling, kitchen, way, restaurant's, restrooms.]                                                         |-1.0      |\n",
            "|[horrible, food, worst, customer, service.ordered, thali, tasteless, looked, like, two, days, old.please, favor, visiting, place.]                                       |-0.8666667|\n",
            "+-------------------------------------------------------------------------------------------------------------------------------------------------------------------------+----------+\n",
            "only showing top 3 rows\n",
            "\n"
          ]
        }
      ]
    },
    {
      "cell_type": "code",
      "source": [
        "negative_non_elite = non_elite_users_df.filter((col(\"sentiment\") == \"Negative\") & (col(\"category\") == \"Italian\") )\n",
        "\n",
        "Italian_ne_df = negative_non_elite.orderBy(col(\"polarity\").asc()).select(\"filtered_words\", \"polarity\")\n",
        "\n",
        "Italian_ne_df.show(3, truncate=False)\n"
      ],
      "metadata": {
        "colab": {
          "base_uri": "https://localhost:8080/"
        },
        "id": "DE-x6I0TdO1u",
        "outputId": "1b719ce8-c901-4078-e447-0be1b3e0fe27"
      },
      "execution_count": null,
      "outputs": [
        {
          "output_type": "stream",
          "name": "stdout",
          "text": [
            "+---------------------------------------+--------+\n",
            "|filtered_words                         |polarity|\n",
            "+---------------------------------------+--------+\n",
            "|[stay, away, dont, want, get, sick!!]  |-1.0    |\n",
            "|[pizza, huts, food, takes, like, crap!]|-1.0    |\n",
            "|[zero, stars., awful!]                 |-1.0    |\n",
            "+---------------------------------------+--------+\n",
            "only showing top 3 rows\n",
            "\n"
          ]
        }
      ]
    },
    {
      "cell_type": "code",
      "source": [
        "negative_non_elite = non_elite_users_df.filter((col(\"sentiment\") == \"Negative\") & (col(\"category\") == \"Mexican\") )\n",
        "\n",
        "Mexican_ne_df = negative_non_elite.orderBy(col(\"polarity\").asc()).select(\"filtered_words\", \"polarity\")\n",
        "\n",
        "Mexican_ne_df.show(3, truncate=False)\n"
      ],
      "metadata": {
        "id": "F7_aPlI8a277",
        "colab": {
          "base_uri": "https://localhost:8080/"
        },
        "outputId": "01e087ae-e64b-414c-e786-0a7b11309524"
      },
      "execution_count": null,
      "outputs": [
        {
          "output_type": "stream",
          "name": "stdout",
          "text": [
            "+-----------------------------------------------------------------------------------------------------+--------+\n",
            "|filtered_words                                                                                       |polarity|\n",
            "+-----------------------------------------------------------------------------------------------------+--------+\n",
            "|[probably, worst, talk, ever, to., manager, anthony, horrible., please, come, family, sake]          |-1.0    |\n",
            "|[food, salty, service, terrible., chip, guys, servers., seems, like, everyone, waiter, assisted, us.]|-1.0    |\n",
            "|[place, awful...]                                                                                    |-1.0    |\n",
            "+-----------------------------------------------------------------------------------------------------+--------+\n",
            "only showing top 3 rows\n",
            "\n"
          ]
        }
      ]
    },
    {
      "cell_type": "code",
      "source": [
        "restaurants_reviews_final.unpersist()\n",
        "review.unpersist()\n"
      ],
      "metadata": {
        "id": "J2xMsIpPa3Ar",
        "colab": {
          "base_uri": "https://localhost:8080/"
        },
        "outputId": "2eabff8e-1910-45af-ee76-12c6b8c4bcac"
      },
      "execution_count": null,
      "outputs": [
        {
          "output_type": "execute_result",
          "data": {
            "text/plain": [
              "DataFrame[review_id: string, user_id: string, business_id: string, stars: string, date: string, text: string, useful: string, funny: string, cool: string]"
            ]
          },
          "metadata": {},
          "execution_count": 31
        }
      ]
    },
    {
      "cell_type": "code",
      "source": [
        "elite_users_df = restaurants_reviews_final.filter(col(\"is_elite\") == 1)\n"
      ],
      "metadata": {
        "id": "9ObFW2CVa3Dz"
      },
      "execution_count": 40,
      "outputs": []
    },
    {
      "cell_type": "code",
      "source": [
        "from pyspark.sql.functions import udf\n",
        "from pyspark.sql.types import FloatType\n",
        "\n",
        "from pyspark.ml import Pipeline\n",
        "\n",
        "from pyspark.ml.feature import Tokenizer, StopWordsRemover, HashingTF, IDF\n",
        "\n",
        "\n",
        "# Tokenize text\n",
        "tokenizer = Tokenizer(inputCol=\"text\", outputCol=\"words\")\n",
        "\n",
        "# Remove stop words\n",
        "stopWordsRemover = StopWordsRemover(inputCol=\"words\", outputCol=\"filtered_words\")\n",
        "\n",
        "# Hashing TF\n",
        "hashingTF = HashingTF(inputCol=\"filtered_words\", outputCol=\"rawFeatures\")\n",
        "\n",
        "# IDF\n",
        "idf = IDF(inputCol=\"rawFeatures\", outputCol=\"features\")\n",
        "\n",
        "# Build pipeline\n",
        "pipeline = Pipeline(stages=[tokenizer, stopWordsRemover, hashingTF, idf])\n",
        "\n",
        "# Fit pipeline to data\n",
        "model = pipeline.fit(elite_users_df)\n",
        "\n",
        "# Transform data\n",
        "resultelite = model.transform(elite_users_df)\n",
        "\n",
        "# Show results\n",
        "resultelite.select(\"filtered_words\", \"features\").show(truncate=False)\n"
      ],
      "metadata": {
        "id": "oLyit0S3a3HG",
        "colab": {
          "base_uri": "https://localhost:8080/"
        },
        "outputId": "fec6ae3f-7756-4fbc-80cf-ba085806cfb1"
      },
      "execution_count": 42,
      "outputs": [
        {
          "output_type": "stream",
          "name": "stdout",
          "text": [
            "+------------------------------------------------------------------------------------------------------------------------------------------------------------------------------------------------------------------------------------------------------------------------------------------------------------------------------------------------------------------------------------------------------------------------------------------------------------------------------------------------------------------------------+------------------------------------------------------------------------------------------------------------------------------------------------------------------------------------------------------------------------------------------------------------------------------------------------------------------------------------------------------------------------------------------------------------------------------------------------------------------------------------------------------------------------------------------------------------------------------------------------------------------------------------------------------------------------------------------------------------------------------------------------------------------------------------------------------------------------------------------------------------------------------------------------------------------------------------------------------------------------------------------------------------------------------------------------------------------------------------------------------------------------------------------------------------------------------------------------------------------------------------------------------------------------------------------------------------------------------------------------------------------------------------------------------------------------------------------------------------------------------------------------------+\n",
            "|filtered_words                                                                                                                                                                                                                                                                                                                                                                                                                                                                                                                |features                                                                                                                                                                                                                                                                                                                                                                                                                                                                                                                                                                                                                                                                                                                                                                                                                                                                                                                                                                                                                                                                                                                                                                                                                                                                                                                                                                                                                                                                                              |\n",
            "+------------------------------------------------------------------------------------------------------------------------------------------------------------------------------------------------------------------------------------------------------------------------------------------------------------------------------------------------------------------------------------------------------------------------------------------------------------------------------------------------------------------------------+------------------------------------------------------------------------------------------------------------------------------------------------------------------------------------------------------------------------------------------------------------------------------------------------------------------------------------------------------------------------------------------------------------------------------------------------------------------------------------------------------------------------------------------------------------------------------------------------------------------------------------------------------------------------------------------------------------------------------------------------------------------------------------------------------------------------------------------------------------------------------------------------------------------------------------------------------------------------------------------------------------------------------------------------------------------------------------------------------------------------------------------------------------------------------------------------------------------------------------------------------------------------------------------------------------------------------------------------------------------------------------------------------------------------------------------------------------------------------------------------------+\n",
            "|[place, horrible,, come, here!!!]                                                                                                                                                                                                                                                                                                                                                                                                                                                                                             |(262144,[70998,95138,98496,204380],[1.4099768457634496,7.220573324705461,7.826709128275776,2.6628759891075338])                                                                                                                                                                                                                                                                                                                                                                                                                                                                                                                                                                                                                                                                                                                                                                                                                                                                                                                                                                                                                                                                                                                                                                                                                                                                                                                                                                                       |\n",
            "|[wicked, spoon, excellent, buffet, option, cosmopolitan!]                                                                                                                                                                                                                                                                                                                                                                                                                                                                     |(262144,[49368,78745,98173,128077,154977,251916],[8.51985630883572,3.911358332754955,5.648176683951709,4.873536469140581,5.459585514144159,3.386020580953308])                                                                                                                                                                                                                                                                                                                                                                                                                                                                                                                                                                                                                                                                                                                                                                                                                                                                                                                                                                                                                                                                                                                                                                                                                                                                                                                                        |\n",
            "|[stopped, lunch, vegas., checked, yelp, app, got, 2, 1, drink, special, cool., prices, reasonable, vegas., get, chips, salsa, $4,, good, sized, portion, nothing, special., salsa, sort, tasted, like, spaghetti, sauce., ordered, combo, fajitas, one,, kind, small, portion, compared, mexican, restaurants., come, rice, beans, cooked, good, flavorful., overall, food, okay, likely, go, back, awesome, restaurants, vegas!]                                                                                             |(262144,[8706,12524,16293,20575,20891,23685,26445,27069,28111,29348,33138,33140,33358,42329,60197,64848,66174,79132,79685,89653,92651,94590,98677,113432,116996,121133,128409,130636,132270,135074,136530,145509,148675,154273,171265,181921,186944,191257,201874,204380,207482,208258,209304,219897,225898,227001,231043,233449,233481,252722,261610],[4.012666531207834,3.5593454019220343,5.648176683951709,3.8285084266065774,6.987570413219252,5.444081327608194,5.033501118833259,3.9382959884867637,5.287735257217499,4.40898244466241,5.575417329669281,3.5408263541547966,3.272832236675235,4.964508247346307,7.1335619477158305,3.7435378666518004,5.384362092906572,3.825454989119687,5.118658927173565,5.706445592075685,4.691214912346626,5.224019442831392,5.30098048396752,3.503492624734205,3.5092210147394653,1.5038447110837323,3.5877833372425676,4.034972288722132,2.5858443364758243,8.610525236924087,10.259664455543382,5.904896530799523,2.27698474514067,2.8580539064204027,3.9908474838131935,4.634861975795494,5.033501118833259,6.121961036037351,3.571096418457553,2.6628759891075338,4.2761343455390195,1.8533236945676996,4.9089383961914965,3.825454989119687,2.3988265573730954,2.5435053995377874,4.1504084563687,4.453682623580317,7.053519240042294,2.0190672640880156,5.164121301250323])                                                                                                                                                                        |\n",
            "|[staying, paris, place, decided, check, dinner, sunday, night., kinks, packed, made, reservations, 6, like, 5:45., really, cool, decor, awesome, patio, strip, awesome, people, watching., jambalyay, shrimp,, sausage, chicken, confit., big, portion, flavorful, liked, somewhat, hot., sister, crab, cakes, (appetizer), get, 3, okay, sized, really, good., also, side, broccillini, tasty, well., friend, chicken, waffles., big, portion, delicious!, awesome, chocolate, shop, make, chocolate., definitely, go, area!]|(262144,[2325,5537,6346,33138,33210,39504,46150,49815,55514,67994,70998,71500,73615,74520,75249,83437,85691,89717,99172,110700,116873,119591,122620,124319,124674,129508,134528,135074,135637,140466,140784,144288,146853,147136,148675,150992,168590,172888,176241,180085,181729,185559,190120,197865,203005,205308,208258,209611,209915,219897,223619,223782,226470,229264,234226,252722,253291,261610],[3.364639785928358,3.7605354430203715,2.6977970932551476,5.575417329669281,8.925321416943886,4.215791215631551,4.069392512608611,2.882688583261504,5.06459170590329,4.669708707125663,1.4099768457634496,4.22939686768733,8.925321416943886,3.459373209011898,5.61113541227136,4.51252312360325,5.904896530799523,2.986466820108201,3.980113928170085,6.785255253447615,5.199627989707233,6.184481393018685,4.310200900102626,5.667224878922403,4.7821866905523525,3.183922078716378,7.672558448448518,8.610525236924087,5.033501118833259,5.929589143389895,2.906728202447651,6.482974381574681,7.421244020167611,2.350943169675659,2.27698474514067,2.8982484423685357,3.5998753830075962,6.835918846922281,7.672558448448518,8.925321416943886,8.925321416943886,2.995732273553991,4.465177003006052,5.820769027301522,3.749171684370056,3.8193759430433047,1.8533236945676996,4.720628797552919,4.506480809147288,11.47636496735906,3.749171684370056,3.798385667151469,4.034972288722132,4.012263520672171,6.9794112678885725,2.0190672640880156,4.5750434805845845,5.164121301250323])|\n",
            "|[hanging, vegas, weekend, staying, paris, decided, check, planet, hollywood, since, next, door., always, wanted, check, one, gordon, ramsey's, restaurants., turkey, burger, (super, good!), sweet, potato, fries., little, sweet, taste, still, good., also, get, several, different, sauces, dip, (house, ketchup,, spicy, ketchup,, curry,, etc), fun, try., looking, good, burger,, definitely, check, out!!!]                                                                                                            |(262144,[6346,8301,8520,13523,21823,23087,28111,31536,49815,51818,54961,55526,67994,79779,84568,85691,90040,93361,108241,113432,122120,122289,126096,127834,128302,129508,138837,139371,145447,147136,149153,150463,155760,156550,158827,163000,167656,193142,198407,198842,201547,203005,221770,224040,233967,242022,252722],[2.6977970932551476,15.07805411164799,8.51985630883572,4.125407154163282,1.919532397690383,4.012666531207834,5.287735257217499,3.1247147576521446,2.882688583261504,5.459585514144159,3.2763471787826797,5.413775978112865,4.669708707125663,2.7463404961648448,8.925321416943886,5.904896530799523,5.341802478487775,7.421244020167611,2.8374109715676514,1.7517463123671024,4.79015486020153,5.187651798660517,7.826709128275776,6.217271215841675,4.806284242131413,3.183922078716378,4.465177003006052,4.097007679641584,3.448857865012375,2.350943169675659,5.74726758659594,8.51985630883572,8.00903068506973,7.608676131357528,6.67402961833739,3.3704257229954018,5.384362092906572,4.300348603659614,5.199627989707233,5.686642964779505,3.3820990073001265,11.247515053110169,3.735146209015552,3.303110595981496,2.8685374037152607,2.506141152792919,2.0190672640880156])                                                                                                                                                                                                                                                                                   |\n",
            "|[love, place., there,, said, it.]                                                                                                                                                                                                                                                                                                                                                                                                                                                                                             |(262144,[143501,168976,186480,231919,239331],[2.7167313908472566,3.749171684370056,2.567479150435786,4.847783973038166,3.1292636661785136])                                                                                                                                                                                                                                                                                                                                                                                                                                                                                                                                                                                                                                                                                                                                                                                                                                                                                                                                                                                                                                                                                                                                                                                                                                                                                                                                                           |\n",
            "|[face, -, go, vegas,, top., enough, great, restaurant., need, gimmik, make, noteworthy, stand, apart, competition., chef, charlie, palme's, aureole, chosen, wine, top, signature, statement.]                                                                                                                                                                                                                                                                                                                                |(262144,[18176,18428,19729,24395,38640,49574,59626,83161,89717,90915,91703,113004,146303,148675,149523,151467,169170,174316,208034,210746,223329,232990,247394,261870],[3.6574632578805573,8.23217423638394,4.117210386959104,7.826709128275776,2.9202005433884177,5.274663175650147,8.51985630883572,3.8285084266065774,2.986466820108201,8.00903068506973,7.826709128275776,3.5829871649790745,3.825454989119687,2.27698474514067,5.789827201014736,8.925321416943886,4.830976854721785,8.23217423638394,5.593116906768682,6.9794112678885725,4.008996802318872,6.440414767155885,6.0075506848596065,1.962131431073648])                                                                                                                                                                                                                                                                                                                                                                                                                                                                                                                                                                                                                                                                                                                                                                                                                                                                            |\n",
            "|[oh, night!]                                                                                                                                                                                                                                                                                                                                                                                                                                                                                                                  |(262144,[18184,183958],[4.3873599806492445,6.62273632394984])                                                                                                                                                                                                                                                                                                                                                                                                                                                                                                                                                                                                                                                                                                                                                                                                                                                                                                                                                                                                                                                                                                                                                                                                                                                                                                                                                                                                                                         |\n",
            "|[woohoo!, nothing, beats, good, bbq, comfort, food, south, :)]                                                                                                                                                                                                                                                                                                                                                                                                                                                                |(262144,[19880,46826,65237,113432,116996,121133,136176,157192,218564],[5.811806107733511,4.847783973038166,8.00903068506973,1.7517463123671024,3.5092210147394653,1.5038447110837323,5.06459170590329,4.350610438440502,6.785255253447615])                                                                                                                                                                                                                                                                                                                                                                                                                                                                                                                                                                                                                                                                                                                                                                                                                                                                                                                                                                                                                                                                                                                                                                                                                                                           |\n",
            "|[ordered, italian, sandwich., ham, salami, tomatoes., overall, pretty, good., lot, flavor., filling, tasted, good., earls, generally, good, place, eat, going, out.]                                                                                                                                                                                                                                                                                                                                                          |(262144,[8706,23071,43323,49815,70998,74542,102382,109918,113432,123874,130636,132339,175997,182479,188160,196847,202572,227001,233077,245599],[4.012666531207834,2.364290751047313,5.023348747369241,5.765377166523008,1.4099768457634496,8.23217423638394,3.1292636661785136,6.322631731499502,1.7517463123671024,3.85956682362655,4.034972288722132,6.785255253447615,5.648176683951709,8.00903068506973,4.607833303407575,4.360973225476049,2.8294968545116608,2.5435053995377874,5.199627989707233,3.1601303141590407])                                                                                                                                                                                                                                                                                                                                                                                                                                                                                                                                                                                                                                                                                                                                                                                                                                                                                                                                                                          |\n",
            "|[want, tasty, reasonably, priced, hawaiian, food, place, go., inside, california, hotel, casino, second, floor., past, time, ordered, aloha, breakfast, came, eggs,, rice,, spam,, portuguese, sausage, call, luncheon, meat., filling, meal, youre, mood, breakfast, hits, spot., spam, , soft, slight, crisp, (just, way, like, it), portuguese, sausage, goof, flavor., luncheon, meat, interesting., compare, thick, piece, bologna.]                                                                                     |(262144,[12531,18270,21080,31552,38598,38698,44141,45771,51471,59627,65053,65844,70998,72073,76490,79160,87284,89651,91031,92144,99038,109706,116873,118907,121133,121517,131312,143414,143839,146563,161644,187502,188160,190256,193417,197793,207112,208258,209749,223782,226579,227001,227077,230252,231304,232682,233077,233843,244621,249180,250555],[5.085869104350575,5.811806107733511,6.527426144145515,7.315883504509785,5.593116906768682,3.3899575939126474,4.524718396697068,17.03971261767144,3.241741649605204,4.676826174894527,6.527426144145515,2.4210332434072397,1.4099768457634496,5.706445592075685,4.79015486020153,4.261882322831818,4.562222792155523,7.220573324705461,4.109080260875854,5.175817341013515,4.7664383335842135,4.847783973038166,10.399255979414466,5.175817341013515,1.5038447110837323,2.236966702997124,8.925321416943886,6.360372059482349,5.475333871112298,3.4509521066154893,8.925321416943886,5.107609090986981,4.607833303407575,3.080328773736161,6.9794112678885725,7.826709128275776,5.52412403528173,1.8533236945676996,8.00903068506973,3.798385667151469,5.428813855477405,2.5435053995377874,5.811806107733511,7.118690803844069,3.7185712439213394,7.220573324705461,5.199627989707233,8.925321416943886,17.850642833887772,1.257695325358895,3.8916208499166336])                                                                                                                                                                          |\n",
            "|[place, good., also, crowded, especially, late, night, clubs, start, clear., ordered, adobada, tacos, version, pastor., tasty, filled, meat., pretty, good, deal, two, bucks, per, taco., chance, try, meats, way, lines, set, know, need, get, anything, adobada., best, tacos, ever, good.]                                                                                                                                                                                                                                 |(262144,[11461,12650,16004,23071,24346,36733,49815,51471,68727,70998,83161,89302,105785,106213,107810,113432,133834,136984,140931,147136,165865,166027,189957,199917,201097,203802,209518,213605,213934,223782,223891,224909,226579,227001,232433,252722,258474,258728],[7.539027055823995,4.899969726208736,4.300348603659614,2.364290751047313,5.768320995793772,6.360372059482349,5.765377166523008,3.241741649605204,3.757682374037965,1.4099768457634496,3.8285084266065774,8.523764645663636,8.23217423638394,5.3280091563554395,3.856417214723654,1.7517463123671024,4.873536469140581,8.51985630883572,3.0919737379330408,2.350943169675659,4.683994664373139,2.5143245045163036,2.9042980675943593,6.728096839607666,8.925321416943886,3.2082937155376636,4.676826174894527,2.5225753764062993,4.79015486020153,3.798385667151469,5.726648299393204,3.847027474373815,5.428813855477405,2.5435053995377874,5.540931153598112,2.0190672640880156,4.814447552770575,3.0145247729033584])                                                                                                                                                                                                                                                                                                                                                                                                                                                                                                       |\n",
            "|[buffet, overpriced, $90, two, people., staff, friendly,, though,, pretty, quick, seated., food, looked, nice, tasted, okay.]                                                                                                                                                                                                                                                                                                                                                                                                 |(262144,[578,8706,22346,23071,81850,95840,100745,111984,120547,121133,150798,162930,171978,248572,251916,258728],[4.774281511045239,4.012666531207834,2.528391761727739,2.364290751047313,4.899969726208736,3.3103701559943004,3.8439170519594223,5.686642964779505,5.199627989707233,1.5038447110837323,5.129832227771691,5.085869104350575,8.51985630883572,3.7379356111031306,3.386020580953308,3.0145247729033584])                                                                                                                                                                                                                                                                                                                                                                                                                                                                                                                                                                                                                                                                                                                                                                                                                                                                                                                                                                                                                                                                               |\n",
            "|[hotel, really, disgusting., someone, else, reserved, room, else, stayed, somewhere, else., start, with,, really, confusing, inconvenient, get, parking, lot., line, front, desk, really, long, first, time, got, room, keys,, even, work., room, also, really, far, front, desk, got, lost, way, there.]                                                                                                                                                                                                                     |(262144,[16004,19153,34194,51471,67562,84173,91031,106873,110078,113059,121517,129842,130862,147136,148039,155416,163402,164686,165678,174966,178400,188835,200876,206312,214564,218360,222808,225898,227152,229264,252722,259091],[4.300348603659614,5.980882437777445,13.958822535777145,3.241741649605204,8.077477543035217,5.287735257217499,4.109080260875854,6.573946159780408,3.834643415174093,7.1335619477158305,2.236966702997124,8.925321416943886,6.728096839607666,2.350943169675659,4.459413298289302,4.864878406397466,6.785255253447615,11.78432742953931,4.053948190181138,2.6628759891075338,8.925321416943886,2.556276965217275,3.9765615265657175,3.147669093721229,4.247830569376168,8.440611791972156,6.0075506848596065,4.797653114746191,5.8572684818102685,8.024527041344342,2.0190672640880156,5.314403504299661])                                                                                                                                                                                                                                                                                                                                                                                                                                                                                                                                                                                                                                                          |\n",
            "|[ordered, $30, pie, take, jalapeños,, green, peppers,, black, olives., spicy, -, enjoyed, definitely, order, jalapeños, heat, tolerance, high.]                                                                                                                                                                                                                                                                                                                                                                               |(262144,[3358,6346,13523,32158,38640,40887,43060,44911,55639,61904,78434,98586,148851,154828,159799,227001,239554,240840],[6.251172767517357,2.6977970932551476,4.125407154163282,7.539027055823995,2.9202005433884177,7.826709128275776,7.672558448448518,6.184481393018685,3.3287530265948337,5.648176683951709,5.224019442831392,2.853429620723289,5.904896530799523,5.023348747369241,4.562222792155523,2.5435053995377874,6.322631731499502,3.4159330803159085])                                                                                                                                                                                                                                                                                                                                                                                                                                                                                                                                                                                                                                                                                                                                                                                                                                                                                                                                                                                                                                 |\n",
            "|[friend, split, 2, dishes:]                                                                                                                                                                                                                                                                                                                                                                                                                                                                                                   |(262144,[12524,74520,239084,245411],[3.5593454019220343,3.459373209011898,8.23217423638394,4.927120715274687])                                                                                                                                                                                                                                                                                                                                                                                                                                                                                                                                                                                                                                                                                                                                                                                                                                                                                                                                                                                                                                                                                                                                                                                                                                                                                                                                                                                        |\n",
            "|[in-n-out, never, fails, deliver,, matter, location, choose., , staff, cheerfully, devoted, craft,, food, spot-on., , every, often, get, order, wrong,, generally, gets, corrected, gets, across, counter, way, drive-through, window.]                                                                                                                                                                                                                                                                                       |(262144,[16266,22933,24329,28902,30493,37970,51471,52471,70086,73341,80651,95840,98586,103586,113673,121133,142418,143647,159464,171444,175997,176497,199001,202223,232555,249180,252722],[8.925321416943886,8.23217423638394,8.23217423638394,8.00903068506973,7.220573324705461,6.09210807288767,3.241741649605204,4.698487671675706,8.23217423638394,3.4467680000929155,4.873536469140581,3.3103701559943004,2.853429620723289,5.314403504299661,2.961742073325439,1.5038447110837323,4.482670160453569,7.672558448448518,8.907365247160634,6.482974381574681,5.648176683951709,3.2623609368079394,7.826709128275776,8.51985630883572,6.910418396401621,2.51539065071779,2.0190672640880156])                                                                                                                                                                                                                                                                                                                                                                                                                                                                                                                                                                                                                                                                                                                                                                                                      |\n",
            "|[say, enough, great, things, slavko, vesna's, business., , shelves, crammed, many, rare,, amazing, balkan, spices,, canned\\/jarred, foods,, treats, eyes, popped, head., , deli, counter, serves, burek, gibanica, tasted, like, straight, belgrade, cafe., , proprietors, quirky, completely, charming, joy, talk, to., , talk, opening, location, colorado, ...]                                                                                                                                                            |(262144,[8408,8449,8706,12696,30173,45764,59390,59793,62364,63926,70193,72125,73341,73445,73598,75758,80651,89694,109165,109348,113004,133545,135276,140213,171222,171878,192685,196160,199468,205938,206725,208258,214676,220778,225001,226143,232525,244223,245044,249180,257091,261870],[5.49133421245874,6.360372059482349,4.012666531207834,8.51985630883572,8.925321416943886,8.925321416943886,8.925321416943886,7.826709128275776,6.573946159780408,6.9794112678885725,5.904896530799523,10.68360495697555,3.4467680000929155,4.847783973038166,5.61113541227136,5.341802478487775,4.873536469140581,8.925321416943886,7.672558448448518,7.672558448448518,3.5829871649790745,7.053519240042294,6.527426144145515,8.925321416943886,3.1082102569806813,8.23217423638394,5.811806107733511,8.925321416943886,3.609655412061236,6.482974381574681,6.322631731499502,1.8533236945676996,3.604753441461029,7.826709128275776,7.220573324705461,6.62273632394984,8.925321416943886,7.421244020167611,3.0702494947414585,5.03078130143558,4.99349578421956,1.962131431073648])                                                                                                                                                                                                                                                                                                                                                                                                                      |\n",
            "|[food, middle-of-the-road, bland, side., , beer, decent, beer,, 1-liter, glasses, haha., , service, bit, absent,, bands, tend, lively, entertaining., , something, done, damn, spanking, going, here!]                                                                                                                                                                                                                                                                                                                        |(262144,[11694,20713,22999,43756,57058,62208,98142,102382,113299,121133,124884,127009,137765,163240,175413,179602,188518,221058,222230,228082,228639,245257,249180,257088],[7.421244020167611,7.315883504509785,5.811806107733511,2.203895716153242,3.243443777675734,6.360372059482349,5.444081327608194,3.1292636661785136,4.530872262271447,1.5038447110837323,4.864878406397466,3.409878571407202,2.9502403490864277,3.757682374037965,8.925321416943886,6.62273632394984,5.287735257217499,6.063120536014417,5.540931153598112,8.00903068506973,4.9089383961914965,8.925321416943886,3.773085976076685,8.925321416943886])                                                                                                                                                                                                                                                                                                                                                                                                                                                                                                                                                                                                                                                                                                                                                                                                                                                                       |\n",
            "|[arrived, bit, late, beer, garden, closed,, however, time, grab, beers, menu, guzzle, closing, time.]                                                                                                                                                                                                                                                                                                                                                                                                                         |(262144,[7861,44876,64174,68727,77073,82096,92466,121517,127009,137765,142239,151571,169481,241244],[4.419971566238005,4.2809305178025125,6.39959277263563,3.757682374037965,4.146197923832356,5.980882437777445,7.826709128275776,2.236966702997124,3.409878571407202,2.9502403490864277,4.713193819065402,2.7588536938496286,8.925321416943886,3.6548892538853845])                                                                                                                                                                                                                                                                                                                                                                                                                                                                                                                                                                                                                                                                                                                                                                                                                                                                                                                                                                                                                                                                                                                                 |\n",
            "+------------------------------------------------------------------------------------------------------------------------------------------------------------------------------------------------------------------------------------------------------------------------------------------------------------------------------------------------------------------------------------------------------------------------------------------------------------------------------------------------------------------------------+------------------------------------------------------------------------------------------------------------------------------------------------------------------------------------------------------------------------------------------------------------------------------------------------------------------------------------------------------------------------------------------------------------------------------------------------------------------------------------------------------------------------------------------------------------------------------------------------------------------------------------------------------------------------------------------------------------------------------------------------------------------------------------------------------------------------------------------------------------------------------------------------------------------------------------------------------------------------------------------------------------------------------------------------------------------------------------------------------------------------------------------------------------------------------------------------------------------------------------------------------------------------------------------------------------------------------------------------------------------------------------------------------------------------------------------------------------------------------------------------------+\n",
            "only showing top 20 rows\n",
            "\n"
          ]
        }
      ]
    },
    {
      "cell_type": "code",
      "source": [
        "from pyspark.sql import SparkSession\n",
        "from pyspark.sql.functions import udf\n",
        "from pyspark.sql.types import StringType\n",
        "from textblob import TextBlob\n",
        "\n",
        "\n",
        "def get_polarity(text):\n",
        "    return TextBlob(text).sentiment.polarity\n",
        "\n",
        "def classify_sentiment(polarity):\n",
        "    if polarity > 0:\n",
        "        return 'Positive'\n",
        "    elif polarity < 0:\n",
        "        return 'Negative'\n",
        "    else:\n",
        "        return 'Neutral'\n",
        "\n",
        "polarity_udf = udf(get_polarity, FloatType())\n",
        "classify_sentiment_udf = udf(classify_sentiment, StringType())\n",
        "\n",
        "df_with_polarity = resultelite.withColumn(\"polarity\", polarity_udf(resultelite[\"text\"]))\n",
        "df_classified_elite = df_with_polarity.withColumn(\"sentiment\", classify_sentiment_udf(df_with_polarity[\"polarity\"]))\n",
        "\n",
        "df_classified_elite.show()\n"
      ],
      "metadata": {
        "id": "x_Ye2dE2a3LH",
        "colab": {
          "base_uri": "https://localhost:8080/"
        },
        "outputId": "734e8608-1c6e-4716-8c52-32d0d2dc9aa3"
      },
      "execution_count": 43,
      "outputs": [
        {
          "output_type": "stream",
          "name": "stdout",
          "text": [
            "+--------------------+--------------------+--------+--------+--------------------+-----+----------+--------------------+------+-----+----+--------+------------+--------------------+--------------------+--------------------+--------------------+-----------+---------+\n",
            "|             user_id|         business_id|category|avg_star|           review_id|stars|      date|                text|useful|funny|cool|is_elite|is_not_elite|               words|      filtered_words|         rawFeatures|            features|   polarity|sentiment|\n",
            "+--------------------+--------------------+--------+--------+--------------------+-----+----------+--------------------+------+-----+----+--------+------------+--------------------+--------------------+--------------------+--------------------+-----------+---------+\n",
            "|BxNBl3VrzLBAkwpJ3...|gTlDDzDEHyDQ6iwjN...|  Indian|     4.5|cpI040LIhpyJRKqSI...|    1|2014-07-09|This place is hor...|  NULL| NULL|NULL|       1|           0|[this, place, is,...|[place, horrible,...|(262144,[70998,95...|(262144,[70998,95...|       -1.0| Negative|\n",
            "|BxNBl3VrzLBAkwpJ3...|K7lWdNUhCbcnEvI0N...|   Other|     3.5|Nx0o2ygouR88Zbyd5...|    5|2014-07-18|Wicked Spoon is a...|  NULL| NULL|NULL|       1|           0|[wicked, spoon, i...|[wicked, spoon, e...|(262144,[49368,78...|(262144,[49368,78...|        0.5| Positive|\n",
            "|67C1TB6K93CnRTC1U...|0AQnRQw34IQW9-1gJ...| Mexican|     3.0|tTTwA250Hr-hvtjrr...|    3|2016-04-21|Stopped in here f...|     0|    0|   0|       1|           0|[stopped, in, her...|[stopped, lunch, ...|(262144,[8706,125...|(262144,[8706,125...| 0.26651785| Positive|\n",
            "|67C1TB6K93CnRTC1U...|IWN2heYitkg-D4Udq...|American|     4.0|Xx4MCX-ertgH1XU4M...|    4|2016-04-19|Was staying at Pa...|     0|    0|   0|       1|           0|[was, staying, at...|[staying, paris, ...|(262144,[2325,553...|(262144,[2325,553...|       0.36| Positive|\n",
            "|67C1TB6K93CnRTC1U...|cYwJA2A6I12KNkm2r...|American|     4.0|gWyWA35lwn7PlGxUT...|    5|2016-04-16|Hanging out in Ve...|     0|    0|   0|       1|           0|[hanging, out, in...|[hanging, vegas, ...|(262144,[6346,830...|(262144,[6346,830...| 0.28506944| Positive|\n",
            "|sZdy2AQD0gn7RMAJc...|_w5hBpkjHs5_Hv3pL...| Spanish|     4.0|azXkr_6S4lUMSkFRB...|    4|2013-05-10|I love this place...|  NULL| NULL|NULL|       1|           0|[i, love, this, p...|[love, place., th...|(262144,[143501,1...|(262144,[143501,1...|        0.5| Positive|\n",
            "|sZdy2AQD0gn7RMAJc...|MqYYYNA-ZYvV-1w5q...|American|     3.5|rhrTYLTjE2P8YpemP...|    4|2010-03-19|Let's face it - w...|  NULL| NULL|NULL|       1|           0|[let's, face, it,...|[face, -, go, veg...|(262144,[18176,18...|(262144,[18176,18...|       0.45| Positive|\n",
            "|sZdy2AQD0gn7RMAJc...|EGGdngbmVn-MA7i-6...|American|     4.0|j1W-guN0BLPqXtq2s...|    5|2010-05-16|    Oh what a night!|  NULL| NULL|NULL|       1|           0|[oh, what, a, nig...|        [oh, night!]|(262144,[18184,18...|(262144,[18184,18...|        0.0|  Neutral|\n",
            "|5FPDpe7KTSt5lrG3J...|ny8YcGEViSGKWxo69...|   Other|     3.5|Y7GwDQK2gKtmGi5yN...|    5|2013-07-08|Woohoo! Nothing b...|  NULL| NULL|NULL|       1|           0|[woohoo!, nothing...|[woohoo!, nothing...|(262144,[19880,46...|(262144,[19880,46...|        0.6| Positive|\n",
            "|0mJsZeA0Fgsgg6sIt...|DkYS3arLOhA8si5uU...|   Other|     4.5|Irkkofu5Euz4g6Um8...|    4|2014-01-25|Ordered the Itali...|  NULL| NULL|NULL|       1|           0|[ordered, the, it...|[ordered, italian...|(262144,[8706,230...|(262144,[8706,230...| 0.39166668| Positive|\n",
            "|0mJsZeA0Fgsgg6sIt...|wpnLPAnkMEb1NpC3x...|Japanese|     4.0|3skRTBsedRNQf6ng5...|    5|2014-02-13|If you want some ...|  NULL| NULL|NULL|       1|           0|[if, you, want, s...|[want, tasty, rea...|(262144,[12531,18...|(262144,[12531,18...| 0.05925926| Positive|\n",
            "|0mJsZeA0Fgsgg6sIt...|RwMLuOkImBIqqYj4S...| Mexican|     4.0|v9RiGnoyKj3cQYfIB...|    4|2014-10-02|This place is ver...|     0|    0|   0|       1|           0|[this, place, is,...|[place, good., al...|(262144,[11461,12...|(262144,[11461,12...| 0.31833333| Positive|\n",
            "|IK02IW1eN9Pmbn4jz...|2weQS-RnoOBhb1KsH...|   Other|     3.5|Gjfj5xN_UrhEx5lO2...|    2|2013-02-03|This buffet was v...|  NULL| NULL|NULL|       1|           0|[this, buffet, wa...|[buffet, overpric...|(262144,[578,8706...|(262144,[578,8706...| 0.37638888| Positive|\n",
            "|IK02IW1eN9Pmbn4jz...|5Zc41a446gV3K_o7C...|   Other|     2.5|M5rUmGMhf9Pmx26Eg...|    1|2013-02-03|This hotel is rea...|  NULL| NULL|NULL|       1|           0|[this, hotel, is,...|[hotel, really, d...|(262144,[16004,19...|(262144,[16004,19...|-0.26666668| Negative|\n",
            "|dT1jqOZrFUmY4m4o3...|fXSOxjL7FP_sVew1g...|   Other|     3.5|itIlJ4cPuCMs6fNcM...|    4|2016-05-25|We ordered a $30 ...|  NULL| NULL|NULL|       1|           0|[we, ordered, a, ...|[ordered, $30, pi...|(262144,[3358,634...|(262144,[3358,634...| 0.08222222| Positive|\n",
            "|dT1jqOZrFUmY4m4o3...|f4x1YBxkLrZg652xt...|American|     4.0|9tJu3koqxapj813zM...|    4|2016-05-30|My friend and I s...|  NULL| NULL|NULL|       1|           0|[my, friend, and,...|[friend, split, 2...|(262144,[12524,74...|(262144,[12524,74...|        0.0|  Neutral|\n",
            "|7JAdkaWbXuXA4YULq...|tro-hrljuY1cUAVFY...|   Other|     4.5|zCZK0XG9pSkwRovSE...|    4|2015-08-13|In-n-Out never fa...|     0|    0|   1|       1|           0|[in-n-out, never,...|[in-n-out, never,...|(262144,[16266,22...|(262144,[16266,22...|       0.05| Positive|\n",
            "|7JAdkaWbXuXA4YULq...|h_NnD6TPuhIFy2Zdq...|  French|     4.5|CMKl8CWQqtnZvnOHK...|    5|2015-08-13|I can't say enoug...|     0|    0|   0|       1|           0|[i, can't, say, e...|[say, enough, gre...|(262144,[8408,844...|(262144,[8408,844...| 0.43333334| Positive|\n",
            "|7JAdkaWbXuXA4YULq...|cJWbbvGmyhFiBpG_5...|   Other|     3.5|bPP5bKUtSnnNE5pFO...|    3|2015-08-13|The food is middl...|  NULL| NULL|NULL|       1|           0|[the, food, is, m...|[food, middle-of-...|(262144,[11694,20...|(262144,[11694,20...| 0.19227272| Positive|\n",
            "|7JAdkaWbXuXA4YULq...|PbyqDJf815zRn-7p6...|   Other|     4.0|7UCCh0m3TwDpLH0eh...|    2|2015-08-13|We arrived a bit ...|  NULL| NULL|NULL|       1|           0|[we, arrived, a, ...|[arrived, bit, la...|(262144,[7861,448...|(262144,[7861,448...|-0.18888889| Negative|\n",
            "+--------------------+--------------------+--------+--------+--------------------+-----+----------+--------------------+------+-----+----+--------+------------+--------------------+--------------------+--------------------+--------------------+-----------+---------+\n",
            "only showing top 20 rows\n",
            "\n"
          ]
        }
      ]
    },
    {
      "cell_type": "code",
      "source": [
        "elite_users_df = df_classified_elite.dropDuplicates(['text'])\n"
      ],
      "metadata": {
        "id": "04G70XKxa3OY"
      },
      "execution_count": null,
      "outputs": []
    },
    {
      "cell_type": "code",
      "source": [
        "from pyspark.sql.functions import col, sum as _sum, lit\n",
        "\n",
        "\n",
        "# Pivot table with counts, and fill NA/Null values with 0\n",
        "pivot_table = elite_users_df.groupBy('category').pivot('sentiment').count().na.fill(0)\n",
        "\n",
        "# Add 'All' column for total counts and 'positive_percentage' in one transformation to avoid multiple passes\n",
        "pivot_table = pivot_table.withColumn('All', col('positive') + col('negative')) \\\n",
        "                         .withColumn('positive_percentage', (col('positive') / (col('positive') + col('negative')) * 100))\n",
        "\n",
        "# Filter out categories with no reviews to avoid division by zero errors\n",
        "pivot_table = pivot_table.filter(col('All') > 0)\n",
        "\n",
        "positive_percentage_sorted1 = pivot_table.select('category', 'positive_percentage').orderBy(col('positive_percentage').desc())\n",
        "\n",
        "positive_percentage_sorted1.show()\n"
      ],
      "metadata": {
        "id": "X_jeziXqa3Rw",
        "colab": {
          "base_uri": "https://localhost:8080/"
        },
        "outputId": "a5102ab5-0a53-49ca-d4fc-cdfd6bc12d94"
      },
      "execution_count": null,
      "outputs": [
        {
          "output_type": "stream",
          "name": "stdout",
          "text": [
            "+--------------+-------------------+\n",
            "|      category|positive_percentage|\n",
            "+--------------+-------------------+\n",
            "|        French|  92.53731343283582|\n",
            "|      Hawaiian|  92.15686274509804|\n",
            "|       Spanish|  90.47619047619048|\n",
            "|          Thai|  88.51851851851852|\n",
            "|       Italian|  88.17204301075269|\n",
            "|       Mexican|  87.91064388961892|\n",
            "|         Other|  87.69700050838841|\n",
            "|      American|   87.2861165258826|\n",
            "|      Japanese|  86.72032193158954|\n",
            "|        Indian|  86.66666666666667|\n",
            "|        Korean|  86.27450980392157|\n",
            "|    Vietnamese|  84.55882352941177|\n",
            "| Mediterranean|  84.54106280193237|\n",
            "|       Chinese|  84.47937131630648|\n",
            "|         Greek|   82.6086956521739|\n",
            "|Middle Eastern|  81.81818181818183|\n",
            "|       African|               75.0|\n",
            "+--------------+-------------------+\n",
            "\n"
          ]
        }
      ]
    },
    {
      "cell_type": "code",
      "source": [
        "data = positive_percentage_sorted1.collect()\n",
        "\n",
        "# Creating lists of categories and their corresponding positive percentages\n",
        "categories = [row['category'] for row in data]\n",
        "positive_percentages = [row['positive_percentage'] for row in data]\n",
        "\n",
        "# Creating the bar graph\n",
        "plt.figure(figsize=(10, 5))\n",
        "plt.bar(categories, positive_percentages, color='lightblue')\n",
        "\n",
        "# Adding title and labels\n",
        "plt.title('Positive Review Percentage by Category for Elite')\n",
        "plt.xlabel('Category')\n",
        "plt.ylabel('Positive Percentage')\n",
        "\n",
        "# Rotating the x-labels for better readability\n",
        "plt.xticks(rotation=45, ha='right')\n",
        "\n",
        "# Showing the plot\n",
        "plt.tight_layout()\n",
        "plt.show()\n"
      ],
      "metadata": {
        "colab": {
          "base_uri": "https://localhost:8080/",
          "height": 507
        },
        "id": "ssOUmbNXICZV",
        "outputId": "5be5f3da-838d-45d8-d17d-33f59377de1f"
      },
      "execution_count": null,
      "outputs": [
        {
          "output_type": "display_data",
          "data": {
            "text/plain": [
              "<Figure size 1000x500 with 1 Axes>"
            ],
            "image/png": "[encoded data removed]"
          },
          "metadata": {}
        }
      ]
    },
    {
      "cell_type": "code",
      "source": [
        "from pyspark.sql.functions import col, avg\n",
        "\n",
        "# Calculate the average rating for each category, rounded to 2 decimal places\n",
        "average_rating_elite = elite_users_df.groupBy('category').agg(avg('stars').alias('avg_rating_elite'))\n",
        "average_rating_elite = average_rating_elite.orderBy(col('avg_rating_elite').desc())\n",
        "\n",
        "# Show the calculated average ratings\n",
        "average_rating_elite.show()\n"
      ],
      "metadata": {
        "id": "6s-06zeQWG1h",
        "colab": {
          "base_uri": "https://localhost:8080/"
        },
        "outputId": "37372c1a-0c0c-4145-cb92-42b6f4e59243"
      },
      "execution_count": null,
      "outputs": [
        {
          "output_type": "stream",
          "name": "stdout",
          "text": [
            "+--------------+------------------+\n",
            "|      category|  avg_rating_elite|\n",
            "+--------------+------------------+\n",
            "|      Hawaiian| 4.172413793103448|\n",
            "|        French| 4.098092643051771|\n",
            "|       African|               4.0|\n",
            "|Middle Eastern| 3.942857142857143|\n",
            "| Mediterranean|3.9363636363636365|\n",
            "|       Spanish| 3.883720930232558|\n",
            "|        Korean| 3.830357142857143|\n",
            "|       Italian|3.8161434977578477|\n",
            "|          Thai| 3.811387900355872|\n",
            "|      Japanese| 3.804469273743017|\n",
            "|      American|3.7953867568104993|\n",
            "|         Other| 3.787672838059527|\n",
            "|        Indian|3.7818181818181817|\n",
            "|       Mexican|3.6630434782608696|\n",
            "|         Greek|              3.64|\n",
            "|    Vietnamese|              3.62|\n",
            "|       Chinese| 3.546112115732369|\n",
            "+--------------+------------------+\n",
            "\n"
          ]
        }
      ]
    },
    {
      "cell_type": "code",
      "source": [
        "negative_elite = elite_users_df.filter((col(\"sentiment\") == \"Negative\") & (col(\"category\") == \"Chinese\"))\n",
        "\n",
        "chinese_e_df = negative_elite.orderBy(col(\"polarity\").asc()).select(\"filtered_words\", \"polarity\")\n",
        "\n",
        "chinese_e_df.show(3,truncate=False)\n",
        "\n",
        "#mexican, Indian, Greek, Vietnamese"
      ],
      "metadata": {
        "colab": {
          "base_uri": "https://localhost:8080/"
        },
        "id": "EjaymFAmdE8V",
        "outputId": "a61ac68e-75ce-4e7c-abd9-503064364c3d"
      },
      "execution_count": null,
      "outputs": [
        {
          "output_type": "stream",
          "name": "stdout",
          "text": [
            "+----------------------------------------------------------------------------------------------------------------+--------+\n",
            "|filtered_words                                                                                                  |polarity|\n",
            "+----------------------------------------------------------------------------------------------------------------+--------+\n",
            "|[checked, yelp, reviews, went, noodle, shop, mandalay, bay., , , absolutely, terrible., , favor, go, elsewhere.]|-1.0    |\n",
            "|[\"before, ordering,, looked, reviews, doubtful., friends, decided, \"\"what, hell]                                |-0.8    |\n",
            "|[friend, ate, lunch, head, airport., something, rave, forever, day., bad, either.]                              |-0.7    |\n",
            "+----------------------------------------------------------------------------------------------------------------+--------+\n",
            "only showing top 3 rows\n",
            "\n"
          ]
        }
      ]
    },
    {
      "cell_type": "code",
      "source": [
        "negative_elite = elite_users_df.filter((col(\"sentiment\") == \"Negative\") & (col(\"category\") == \"Indian\"))\n",
        "\n",
        "Indian_e_df = negative_elite.orderBy(col(\"polarity\").asc()).select(\"filtered_words\", \"polarity\")\n",
        "\n",
        "Indian_e_df.show(3,truncate=False)\n",
        "\n"
      ],
      "metadata": {
        "colab": {
          "base_uri": "https://localhost:8080/"
        },
        "id": "yXb-WptYcXK6",
        "outputId": "512bad2e-392d-4389-fb17-01dcf408c042"
      },
      "execution_count": null,
      "outputs": [
        {
          "output_type": "stream",
          "name": "stdout",
          "text": [
            "+---------------------------------------------------------------------------------------------------------------------------------+--------+\n",
            "|filtered_words                                                                                                                   |polarity|\n",
            "+---------------------------------------------------------------------------------------------------------------------------------+--------+\n",
            "|[place, horrible,, come, here!!!]                                                                                                |-1.0    |\n",
            "|[butter, chicken!]                                                                                                               |-0.75   |\n",
            "|[so,, came, cafe, tandoor, group,, lamb, biryani,, piratha,, naan,, saag, paneer,, chicken, tikka, maasala,, okra, based, curry.]|-0.6    |\n",
            "+---------------------------------------------------------------------------------------------------------------------------------+--------+\n",
            "only showing top 3 rows\n",
            "\n"
          ]
        }
      ]
    },
    {
      "cell_type": "code",
      "source": [
        "negative_elite = elite_users_df.filter((col(\"sentiment\") == \"Negative\") & (col(\"category\") == \"Greek\"))\n",
        "\n",
        "Greek_e_df = negative_elite.orderBy(col(\"polarity\").asc()).select(\"filtered_words\", \"polarity\")\n",
        "\n",
        "Greek_e_df.show(3,truncate=False)\n",
        "\n"
      ],
      "metadata": {
        "colab": {
          "base_uri": "https://localhost:8080/"
        },
        "id": "mFHuV-gsbwV0",
        "outputId": "065d2ad1-5650-49da-8c48-2c9fcdfd065d"
      },
      "execution_count": null,
      "outputs": [
        {
          "output_type": "stream",
          "name": "stdout",
          "text": [
            "+----------------------------------------------------------------------------------------------------+--------+\n",
            "|filtered_words                                                                                      |polarity|\n",
            "+----------------------------------------------------------------------------------------------------+--------+\n",
            "|[$11, chicken, kabob, plate,, holy, smokes!, vegas, even, food, court.]                             |-0.75   |\n",
            "|[wow, expensive, !]                                                                                 |-0.2625 |\n",
            "|[came, looking, stellar, reviews, place, had., somewhat, disappointed, hence, giving, three, stars.]|-0.25   |\n",
            "+----------------------------------------------------------------------------------------------------+--------+\n",
            "only showing top 3 rows\n",
            "\n"
          ]
        }
      ]
    },
    {
      "cell_type": "code",
      "source": [
        "negative_elite = elite_users_df.filter((col(\"sentiment\") == \"Negative\") & (col(\"category\") == \"Vietnamese\"))\n",
        "\n",
        "Vietnamese_e_df = negative_elite.orderBy(col(\"polarity\").asc()).select(\"filtered_words\", \"polarity\")\n",
        "\n",
        "Vietnamese_e_df.show(3,truncate=False)\n",
        "\n"
      ],
      "metadata": {
        "colab": {
          "base_uri": "https://localhost:8080/"
        },
        "id": "OvFF3pSLbsAa",
        "outputId": "6f32d5d0-3d24-4ac7-ce21-f66b6c29b2f7"
      },
      "execution_count": null,
      "outputs": [
        {
          "output_type": "stream",
          "name": "stdout",
          "text": [
            "+----------------------------------------------------------------------------------------------------------------------------------------------------------------------------------------------------------+--------+\n",
            "|filtered_words                                                                                                                                                                                            |polarity|\n",
            "+----------------------------------------------------------------------------------------------------------------------------------------------------------------------------------------------------------+--------+\n",
            "|[omg., place, awful., sorry..]                                                                                                                                                                            |-0.75   |\n",
            "|[randomly, craved, pho, staying, treasure, island, hotel., 24, hr, place,, 1, star, that.]                                                                                                                |-0.5    |\n",
            "|[stumbled, past, one, night, making, wrong, turn, getting, stuck, evil, steele, creek, rush, hour, swirl, doom., happened, see, place,, thought, kill, rush, hour, time, perusing, asian, grocery, store.]|-0.4375 |\n",
            "+----------------------------------------------------------------------------------------------------------------------------------------------------------------------------------------------------------+--------+\n",
            "only showing top 3 rows\n",
            "\n"
          ]
        }
      ]
    },
    {
      "cell_type": "code",
      "source": [
        "negative_elite = elite_users_df.filter((col(\"sentiment\") == \"Negative\") & (col(\"category\") == \"Mediterranean\"))\n",
        "\n",
        "Mediterranean_e_df = negative_elite.orderBy(col(\"polarity\").asc()).select(\"filtered_words\", \"polarity\")\n",
        "\n",
        "Mediterranean_e_df.show(3,truncate=False)\n"
      ],
      "metadata": {
        "colab": {
          "base_uri": "https://localhost:8080/"
        },
        "id": "U9W7epwhZZzy",
        "outputId": "465aabb8-c2a9-4501-8024-2903b8a3fb58"
      },
      "execution_count": null,
      "outputs": [
        {
          "output_type": "stream",
          "name": "stdout",
          "text": [
            "+------------------------------------------------------------------------------------------------------------------------------------------------------+--------+\n",
            "|filtered_words                                                                                                                                        |polarity|\n",
            "+------------------------------------------------------------------------------------------------------------------------------------------------------+--------+\n",
            "|[\"came, zorba's, suggestion, cousin, has,, quote,, \"\"never, given, bad, food, recommendation\"\".]                                                      |-0.7    |\n",
            "|[woww!, , , order:, , chicken, schwarma, side, hummus, pita., , , order, falafel., cucumber, drink., , side, garlic, sauce., , side, cucumber, sauce.]|-0.6    |\n",
            "|[deplorable, service.]                                                                                                                                |-0.6    |\n",
            "+------------------------------------------------------------------------------------------------------------------------------------------------------+--------+\n",
            "only showing top 3 rows\n",
            "\n"
          ]
        }
      ]
    },
    {
      "cell_type": "code",
      "source": [
        "negative_elite = elite_users_df.filter((col(\"sentiment\") == \"Negative\") & (col(\"category\") == \"Mexican\"))\n",
        "\n",
        "Mexican_e_df = negative_elite.orderBy(col(\"polarity\").asc()).select(\"filtered_words\", \"polarity\")\n",
        "\n",
        "Mexican_e_df.show(3,truncate=False)\n"
      ],
      "metadata": {
        "colab": {
          "base_uri": "https://localhost:8080/"
        },
        "id": "ILonMUoiZaOC",
        "outputId": "6856b61f-a5dd-4326-fd1b-0c3c7dbe47e7"
      },
      "execution_count": null,
      "outputs": [
        {
          "output_type": "stream",
          "name": "stdout",
          "text": [
            "+---------------------------------------------------------------------------------------------------------------------------------------------------------------------------------------------------+--------+\n",
            "|filtered_words                                                                                                                                                                                     |polarity|\n",
            "+---------------------------------------------------------------------------------------------------------------------------------------------------------------------------------------------------+--------+\n",
            "|[horrible, experience., took, table, 2, hours, order,, get, food, pay., two, tacos, oily, nothing, rave, about., even, messed, order,, leaving, side, dish, charging, it., water, never, refilled.]|-1.0    |\n",
            "|[#obsessed!!!!]                                                                                                                                                                                    |-1.0    |\n",
            "|[menu, changed..., terrible, salmon, even, there,, plus, start.]                                                                                                                                   |-1.0    |\n",
            "+---------------------------------------------------------------------------------------------------------------------------------------------------------------------------------------------------+--------+\n",
            "only showing top 3 rows\n",
            "\n"
          ]
        }
      ]
    },
    {
      "cell_type": "code",
      "source": [
        "negative_elite = elite_users_df.filter((col(\"sentiment\") == \"Negative\") & (col(\"category\") == \"Italian\"))\n",
        "\n",
        "Italian_e_df = negative_elite.orderBy(col(\"polarity\").asc()).select(\"filtered_words\", \"polarity\")\n",
        "\n",
        "Italian_e_df.show(3,truncate=False)\n"
      ],
      "metadata": {
        "colab": {
          "base_uri": "https://localhost:8080/"
        },
        "id": "QWlxpgfed0o2",
        "outputId": "f6b13dc9-9346-4081-99f5-1544fb6ef10d"
      },
      "execution_count": null,
      "outputs": [
        {
          "output_type": "stream",
          "name": "stdout",
          "text": [
            "+---------------------------------------------------------------------------------------------------------------------------------------------------+--------+\n",
            "|filtered_words                                                                                                                                     |polarity|\n",
            "+---------------------------------------------------------------------------------------------------------------------------------------------------+--------+\n",
            "|[shame, place, terrible, review, service, food, received, pizza, hut, always, highest, expectations.]                                              |-1.0    |\n",
            "|[worst, buca, history, buca, di, beppo!]                                                                                                           |-1.0    |\n",
            "|[wolfgang, puck...isnt, suppose, outrageous, mastermind, chef., recipes, exploding, flavor?, dint, know, think, might, missed, something, pressed.]|-1.0    |\n",
            "+---------------------------------------------------------------------------------------------------------------------------------------------------+--------+\n",
            "only showing top 3 rows\n",
            "\n"
          ]
        }
      ]
    },
    {
      "cell_type": "code",
      "source": [
        "negative_elite = elite_users_df.filter((col(\"sentiment\") == \"Negative\") & (col(\"category\") == \"American\"))\n",
        "\n",
        "American_e_df = negative_elite.orderBy(col(\"polarity\").asc()).select(\"filtered_words\", \"polarity\")\n",
        "\n",
        "American_e_df.show(3,truncate=False)\n"
      ],
      "metadata": {
        "colab": {
          "base_uri": "https://localhost:8080/"
        },
        "id": "RQhXCM87eDgG",
        "outputId": "2d1f9844-7769-43f0-d09f-ab7b3b572288"
      },
      "execution_count": null,
      "outputs": [
        {
          "output_type": "stream",
          "name": "stdout",
          "text": [
            "+-----------------------------------------------------------------------------------------------------------------------------------------------+--------+\n",
            "|filtered_words                                                                                                                                 |polarity|\n",
            "+-----------------------------------------------------------------------------------------------------------------------------------------------+--------+\n",
            "|[damn, food, disgusting., night, drinking, clubbin, xs...]                                                                                     |-1.0    |\n",
            "|[horrible!]                                                                                                                                    |-1.0    |\n",
            "|[desserts, terrible,, see,, start, here?, , nevermind,, like, 28-30, bucks, each,, 10, split, and,, and,, and,, ah, forget, it,, bother.......]|-1.0    |\n",
            "+-----------------------------------------------------------------------------------------------------------------------------------------------+--------+\n",
            "only showing top 3 rows\n",
            "\n"
          ]
        }
      ]
    },
    {
      "cell_type": "code",
      "source": [
        "negative_elite = elite_users_df.filter((col(\"sentiment\") == \"Negative\") & (col(\"category\") == \"Japanese\"))\n",
        "\n",
        "Japanese_e_df = negative_elite.orderBy(col(\"polarity\").asc()).select(\"filtered_words\", \"polarity\")\n",
        "\n",
        "Japanese_e_df.show(3,truncate=False)\n"
      ],
      "metadata": {
        "colab": {
          "base_uri": "https://localhost:8080/"
        },
        "id": "_zDfMDYXggDW",
        "outputId": "ccc0d067-a1f3-43f1-d0cf-270c0b3f3a02"
      },
      "execution_count": null,
      "outputs": [
        {
          "output_type": "stream",
          "name": "stdout",
          "text": [
            "+----------------------------------------------------------------------------------------------------------+--------+\n",
            "|filtered_words                                                                                            |polarity|\n",
            "+----------------------------------------------------------------------------------------------------------+--------+\n",
            "|[visited, saturday, night., , one, worst, dining, experiences, pittsburgh, since, moving, 8, months, ago.]|-1.0    |\n",
            "|[awful, experience.]                                                                                      |-1.0    |\n",
            "|[shying, away, fuji, seemed, like, chain....that, stupid, decision.]                                      |-1.0    |\n",
            "+----------------------------------------------------------------------------------------------------------+--------+\n",
            "only showing top 3 rows\n",
            "\n"
          ]
        }
      ]
    },
    {
      "cell_type": "markdown",
      "source": [
        "Recommendations from Elite Users & Non-Elite Users"
      ],
      "metadata": {
        "id": "yONMgzXPqrIe"
      }
    },
    {
      "cell_type": "code",
      "source": [
        "import pandas as pd\n",
        "\n",
        "\n",
        "extracted_text = [\n",
        "    'Chinese', 'checked, yelp, reviews, went, noodle, shop, mandalay, bay, absolutely, terrible, favor, go, elsewhere.',\n",
        "    'Indian', 'place, horrible, cafe, tandoor, group, lamb, biryani, piratha, naan, saag, paneer, chicken tikka maasala, okra, curry',\n",
        "    'Greek', '$11, chicken, kabob, plate, holy smokes!, vegas, even, food, court, expensive, came, looking, reviews, disappointed, three, stars',\n",
        "    'Vietnamese', 'omg., place, awful, randomly, craved, pho, staying, treasure, island, hotel, 24, hr, place, 1, star, stumbled, wrong, turn, stuck, evil, creek, rush, hour, saw, place, thought, kill, time, asian, grocery, store.',\n",
        "    'Mediterranean', 'came, zorba\\'s, suggestion, cousin, never, bad, recommendation, chicken, schwarma, hummus, pita, falafel, cucumber, drink, garlic sauce, cucumber sauce, deplorable, service',\n",
        "    'Mexican', 'horrible, experience, table, hours, order, food, pay, two, tacos, oily, nothing, rave, order, messed, side dish, charging, water, never, refilled',\n",
        "    'Italian', 'shame, place, terrible, review, service, food, pizza hut, expectations, worst, buca, history, buca di beppo, wolfgang puck, flavor, might, missed, pressed',\n",
        "    'American', 'damn, food, disgusting, night, drinking, clubbing, horrible, desserts, terrible, 28-30, bucks, each, 10, split, forget, it',\n",
        "    'Japanese', 'visited, saturday, night, worst, dining, experiences, pittsburgh, since, moving, months, awful, experience, shying, fuji, chain, decision'\n",
        "]\n",
        "\n",
        "# Pairing cuisine types with their respective reviews\n",
        "data = {\n",
        "    'Cuisine': extracted_text[0::2],\n",
        "    'Review': extracted_text[1::2]\n",
        "}\n",
        "\n",
        "# Creating a dataframe\n",
        "df_reviews = pd.DataFrame(data)\n",
        "df_reviews\n"
      ],
      "metadata": {
        "colab": {
          "base_uri": "https://localhost:8080/",
          "height": 330
        },
        "id": "_jaDfi9eSRxO",
        "outputId": "a3f355d2-5d1d-436d-8564-a17b29f5098d"
      },
      "execution_count": null,
      "outputs": [
        {
          "output_type": "execute_result",
          "data": {
            "text/plain": [
              "         Cuisine                                             Review\n",
              "0        Chinese  checked, yelp, reviews, went, noodle, shop, ma...\n",
              "1         Indian  place, horrible, cafe, tandoor, group, lamb, b...\n",
              "2          Greek  $11, chicken, kabob, plate, holy smokes!, vega...\n",
              "3     Vietnamese  omg., place, awful, randomly, craved, pho, sta...\n",
              "4  Mediterranean  came, zorba's, suggestion, cousin, never, bad,...\n",
              "5        Mexican  horrible, experience, table, hours, order, foo...\n",
              "6        Italian  shame, place, terrible, review, service, food,...\n",
              "7       American  damn, food, disgusting, night, drinking, clubb...\n",
              "8       Japanese  visited, saturday, night, worst, dining, exper..."
            ],
            "text/html": [
              "\n",
              "  <div id=\"df-45974894-f54d-4443-872a-0eb4927c27aa\" class=\"colab-df-container\">\n",
              "    <div>\n",
              "<style scoped>\n",
              "    .dataframe tbody tr th:only-of-type {\n",
              "        vertical-align: middle;\n",
              "    }\n",
              "\n",
              "    .dataframe tbody tr th {\n",
              "        vertical-align: top;\n",
              "    }\n",
              "\n",
              "    .dataframe thead th {\n",
              "        text-align: right;\n",
              "    }\n",
              "</style>\n",
              "<table border=\"1\" class=\"dataframe\">\n",
              "  <thead>\n",
              "    <tr style=\"text-align: right;\">\n",
              "      <th></th>\n",
              "      <th>Cuisine</th>\n",
              "      <th>Review</th>\n",
              "    </tr>\n",
              "  </thead>\n",
              "  <tbody>\n",
              "    <tr>\n",
              "      <th>0</th>\n",
              "      <td>Chinese</td>\n",
              "      <td>checked, yelp, reviews, went, noodle, shop, ma...</td>\n",
              "    </tr>\n",
              "    <tr>\n",
              "      <th>1</th>\n",
              "      <td>Indian</td>\n",
              "      <td>place, horrible, cafe, tandoor, group, lamb, b...</td>\n",
              "    </tr>\n",
              "    <tr>\n",
              "      <th>2</th>\n",
              "      <td>Greek</td>\n",
              "      <td>$11, chicken, kabob, plate, holy smokes!, vega...</td>\n",
              "    </tr>\n",
              "    <tr>\n",
              "      <th>3</th>\n",
              "      <td>Vietnamese</td>\n",
              "      <td>omg., place, awful, randomly, craved, pho, sta...</td>\n",
              "    </tr>\n",
              "    <tr>\n",
              "      <th>4</th>\n",
              "      <td>Mediterranean</td>\n",
              "      <td>came, zorba's, suggestion, cousin, never, bad,...</td>\n",
              "    </tr>\n",
              "    <tr>\n",
              "      <th>5</th>\n",
              "      <td>Mexican</td>\n",
              "      <td>horrible, experience, table, hours, order, foo...</td>\n",
              "    </tr>\n",
              "    <tr>\n",
              "      <th>6</th>\n",
              "      <td>Italian</td>\n",
              "      <td>shame, place, terrible, review, service, food,...</td>\n",
              "    </tr>\n",
              "    <tr>\n",
              "      <th>7</th>\n",
              "      <td>American</td>\n",
              "      <td>damn, food, disgusting, night, drinking, clubb...</td>\n",
              "    </tr>\n",
              "    <tr>\n",
              "      <th>8</th>\n",
              "      <td>Japanese</td>\n",
              "      <td>visited, saturday, night, worst, dining, exper...</td>\n",
              "    </tr>\n",
              "  </tbody>\n",
              "</table>\n",
              "</div>\n",
              "    <div class=\"colab-df-buttons\">\n",
              "\n",
              "  <div class=\"colab-df-container\">\n",
              "    <button class=\"colab-df-convert\" onclick=\"convertToInteractive('df-45974894-f54d-4443-872a-0eb4927c27aa')\"\n",
              "            title=\"Convert this dataframe to an interactive table.\"\n",
              "            style=\"display:none;\">\n",
              "\n",
              "  <svg xmlns=\"http://www.w3.org/2000/svg\" height=\"24px\" viewBox=\"0 -960 960 960\">\n",
              "    <path d=\"M120-120v-720h720v720H120Zm60-500h600v-160H180v160Zm220 220h160v-160H400v160Zm0 220h160v-160H400v160ZM180-400h160v-160H180v160Zm440 0h160v-160H620v160ZM180-180h160v-160H180v160Zm440 0h160v-160H620v160Z\"/>\n",
              "  </svg>\n",
              "    </button>\n",
              "\n",
              "  <style>\n",
              "    .colab-df-container {\n",
              "      display:flex;\n",
              "      gap: 12px;\n",
              "    }\n",
              "\n",
              "    .colab-df-convert {\n",
              "      background-color: #E8F0FE;\n",
              "      border: none;\n",
              "      border-radius: 50%;\n",
              "      cursor: pointer;\n",
              "      display: none;\n",
              "      fill: #1967D2;\n",
              "      height: 32px;\n",
              "      padding: 0 0 0 0;\n",
              "      width: 32px;\n",
              "    }\n",
              "\n",
              "    .colab-df-convert:hover {\n",
              "      background-color: #E2EBFA;\n",
              "      box-shadow: 0px 1px 2px rgba(60, 64, 67, 0.3), 0px 1px 3px 1px rgba(60, 64, 67, 0.15);\n",
              "      fill: #174EA6;\n",
              "    }\n",
              "\n",
              "    .colab-df-buttons div {\n",
              "      margin-bottom: 4px;\n",
              "    }\n",
              "\n",
              "    [theme=dark] .colab-df-convert {\n",
              "      background-color: #3B4455;\n",
              "      fill: #D2E3FC;\n",
              "    }\n",
              "\n",
              "    [theme=dark] .colab-df-convert:hover {\n",
              "      background-color: #434B5C;\n",
              "      box-shadow: 0px 1px 3px 1px rgba(0, 0, 0, 0.15);\n",
              "      filter: drop-shadow(0px 1px 2px rgba(0, 0, 0, 0.3));\n",
              "      fill: #FFFFFF;\n",
              "    }\n",
              "  </style>\n",
              "\n",
              "    <script>\n",
              "      const buttonEl =\n",
              "        document.querySelector('#df-45974894-f54d-4443-872a-0eb4927c27aa button.colab-df-convert');\n",
              "      buttonEl.style.display =\n",
              "        google.colab.kernel.accessAllowed ? 'block' : 'none';\n",
              "\n",
              "      async function convertToInteractive(key) {\n",
              "        const element = document.querySelector('#df-45974894-f54d-4443-872a-0eb4927c27aa');\n",
              "        const dataTable =\n",
              "          await google.colab.kernel.invokeFunction('convertToInteractive',\n",
              "                                                    [key], {});\n",
              "        if (!dataTable) return;\n",
              "\n",
              "        const docLinkHtml = 'Like what you see? Visit the ' +\n",
              "          '<a target=\"_blank\" href=https://colab.research.google.com/notebooks/data_table.ipynb>data table notebook</a>'\n",
              "          + ' to learn more about interactive tables.';\n",
              "        element.innerHTML = '';\n",
              "        dataTable['output_type'] = 'display_data';\n",
              "        await google.colab.output.renderOutput(dataTable, element);\n",
              "        const docLink = document.createElement('div');\n",
              "        docLink.innerHTML = docLinkHtml;\n",
              "        element.appendChild(docLink);\n",
              "      }\n",
              "    </script>\n",
              "  </div>\n",
              "\n",
              "\n",
              "<div id=\"df-7431ef28-747f-46f8-afb5-f83f48a1208a\">\n",
              "  <button class=\"colab-df-quickchart\" onclick=\"quickchart('df-7431ef28-747f-46f8-afb5-f83f48a1208a')\"\n",
              "            title=\"Suggest charts\"\n",
              "            style=\"display:none;\">\n",
              "\n",
              "<svg xmlns=\"http://www.w3.org/2000/svg\" height=\"24px\"viewBox=\"0 0 24 24\"\n",
              "     width=\"24px\">\n",
              "    <g>\n",
              "        <path d=\"M19 3H5c-1.1 0-2 .9-2 2v14c0 1.1.9 2 2 2h14c1.1 0 2-.9 2-2V5c0-1.1-.9-2-2-2zM9 17H7v-7h2v7zm4 0h-2V7h2v10zm4 0h-2v-4h2v4z\"/>\n",
              "    </g>\n",
              "</svg>\n",
              "  </button>\n",
              "\n",
              "<style>\n",
              "  .colab-df-quickchart {\n",
              "      --bg-color: #E8F0FE;\n",
              "      --fill-color: #1967D2;\n",
              "      --hover-bg-color: #E2EBFA;\n",
              "      --hover-fill-color: #174EA6;\n",
              "      --disabled-fill-color: #AAA;\n",
              "      --disabled-bg-color: #DDD;\n",
              "  }\n",
              "\n",
              "  [theme=dark] .colab-df-quickchart {\n",
              "      --bg-color: #3B4455;\n",
              "      --fill-color: #D2E3FC;\n",
              "      --hover-bg-color: #434B5C;\n",
              "      --hover-fill-color: #FFFFFF;\n",
              "      --disabled-bg-color: #3B4455;\n",
              "      --disabled-fill-color: #666;\n",
              "  }\n",
              "\n",
              "  .colab-df-quickchart {\n",
              "    background-color: var(--bg-color);\n",
              "    border: none;\n",
              "    border-radius: 50%;\n",
              "    cursor: pointer;\n",
              "    display: none;\n",
              "    fill: var(--fill-color);\n",
              "    height: 32px;\n",
              "    padding: 0;\n",
              "    width: 32px;\n",
              "  }\n",
              "\n",
              "  .colab-df-quickchart:hover {\n",
              "    background-color: var(--hover-bg-color);\n",
              "    box-shadow: 0 1px 2px rgba(60, 64, 67, 0.3), 0 1px 3px 1px rgba(60, 64, 67, 0.15);\n",
              "    fill: var(--button-hover-fill-color);\n",
              "  }\n",
              "\n",
              "  .colab-df-quickchart-complete:disabled,\n",
              "  .colab-df-quickchart-complete:disabled:hover {\n",
              "    background-color: var(--disabled-bg-color);\n",
              "    fill: var(--disabled-fill-color);\n",
              "    box-shadow: none;\n",
              "  }\n",
              "\n",
              "  .colab-df-spinner {\n",
              "    border: 2px solid var(--fill-color);\n",
              "    border-color: transparent;\n",
              "    border-bottom-color: var(--fill-color);\n",
              "    animation:\n",
              "      spin 1s steps(1) infinite;\n",
              "  }\n",
              "\n",
              "  @keyframes spin {\n",
              "    0% {\n",
              "      border-color: transparent;\n",
              "      border-bottom-color: var(--fill-color);\n",
              "      border-left-color: var(--fill-color);\n",
              "    }\n",
              "    20% {\n",
              "      border-color: transparent;\n",
              "      border-left-color: var(--fill-color);\n",
              "      border-top-color: var(--fill-color);\n",
              "    }\n",
              "    30% {\n",
              "      border-color: transparent;\n",
              "      border-left-color: var(--fill-color);\n",
              "      border-top-color: var(--fill-color);\n",
              "      border-right-color: var(--fill-color);\n",
              "    }\n",
              "    40% {\n",
              "      border-color: transparent;\n",
              "      border-right-color: var(--fill-color);\n",
              "      border-top-color: var(--fill-color);\n",
              "    }\n",
              "    60% {\n",
              "      border-color: transparent;\n",
              "      border-right-color: var(--fill-color);\n",
              "    }\n",
              "    80% {\n",
              "      border-color: transparent;\n",
              "      border-right-color: var(--fill-color);\n",
              "      border-bottom-color: var(--fill-color);\n",
              "    }\n",
              "    90% {\n",
              "      border-color: transparent;\n",
              "      border-bottom-color: var(--fill-color);\n",
              "    }\n",
              "  }\n",
              "</style>\n",
              "\n",
              "  <script>\n",
              "    async function quickchart(key) {\n",
              "      const quickchartButtonEl =\n",
              "        document.querySelector('#' + key + ' button');\n",
              "      quickchartButtonEl.disabled = true;  // To prevent multiple clicks.\n",
              "      quickchartButtonEl.classList.add('colab-df-spinner');\n",
              "      try {\n",
              "        const charts = await google.colab.kernel.invokeFunction(\n",
              "            'suggestCharts', [key], {});\n",
              "      } catch (error) {\n",
              "        console.error('Error during call to suggestCharts:', error);\n",
              "      }\n",
              "      quickchartButtonEl.classList.remove('colab-df-spinner');\n",
              "      quickchartButtonEl.classList.add('colab-df-quickchart-complete');\n",
              "    }\n",
              "    (() => {\n",
              "      let quickchartButtonEl =\n",
              "        document.querySelector('#df-7431ef28-747f-46f8-afb5-f83f48a1208a button');\n",
              "      quickchartButtonEl.style.display =\n",
              "        google.colab.kernel.accessAllowed ? 'block' : 'none';\n",
              "    })();\n",
              "  </script>\n",
              "</div>\n",
              "\n",
              "  <div id=\"id_790e9525-f872-41e2-8754-1456630cef12\">\n",
              "    <style>\n",
              "      .colab-df-generate {\n",
              "        background-color: #E8F0FE;\n",
              "        border: none;\n",
              "        border-radius: 50%;\n",
              "        cursor: pointer;\n",
              "        display: none;\n",
              "        fill: #1967D2;\n",
              "        height: 32px;\n",
              "        padding: 0 0 0 0;\n",
              "        width: 32px;\n",
              "      }\n",
              "\n",
              "      .colab-df-generate:hover {\n",
              "        background-color: #E2EBFA;\n",
              "        box-shadow: 0px 1px 2px rgba(60, 64, 67, 0.3), 0px 1px 3px 1px rgba(60, 64, 67, 0.15);\n",
              "        fill: #174EA6;\n",
              "      }\n",
              "\n",
              "      [theme=dark] .colab-df-generate {\n",
              "        background-color: #3B4455;\n",
              "        fill: #D2E3FC;\n",
              "      }\n",
              "\n",
              "      [theme=dark] .colab-df-generate:hover {\n",
              "        background-color: #434B5C;\n",
              "        box-shadow: 0px 1px 3px 1px rgba(0, 0, 0, 0.15);\n",
              "        filter: drop-shadow(0px 1px 2px rgba(0, 0, 0, 0.3));\n",
              "        fill: #FFFFFF;\n",
              "      }\n",
              "    </style>\n",
              "    <button class=\"colab-df-generate\" onclick=\"generateWithVariable('df_reviews')\"\n",
              "            title=\"Generate code using this dataframe.\"\n",
              "            style=\"display:none;\">\n",
              "\n",
              "  <svg xmlns=\"http://www.w3.org/2000/svg\" height=\"24px\"viewBox=\"0 0 24 24\"\n",
              "       width=\"24px\">\n",
              "    <path d=\"M7,19H8.4L18.45,9,17,7.55,7,17.6ZM5,21V16.75L18.45,3.32a2,2,0,0,1,2.83,0l1.4,1.43a1.91,1.91,0,0,1,.58,1.4,1.91,1.91,0,0,1-.58,1.4L9.25,21ZM18.45,9,17,7.55Zm-12,3A5.31,5.31,0,0,0,4.9,8.1,5.31,5.31,0,0,0,1,6.5,5.31,5.31,0,0,0,4.9,4.9,5.31,5.31,0,0,0,6.5,1,5.31,5.31,0,0,0,8.1,4.9,5.31,5.31,0,0,0,12,6.5,5.46,5.46,0,0,0,6.5,12Z\"/>\n",
              "  </svg>\n",
              "    </button>\n",
              "    <script>\n",
              "      (() => {\n",
              "      const buttonEl =\n",
              "        document.querySelector('#id_790e9525-f872-41e2-8754-1456630cef12 button.colab-df-generate');\n",
              "      buttonEl.style.display =\n",
              "        google.colab.kernel.accessAllowed ? 'block' : 'none';\n",
              "\n",
              "      buttonEl.onclick = () => {\n",
              "        google.colab.notebook.generateWithVariable('df_reviews');\n",
              "      }\n",
              "      })();\n",
              "    </script>\n",
              "  </div>\n",
              "\n",
              "    </div>\n",
              "  </div>\n"
            ],
            "application/vnd.google.colaboratory.intrinsic+json": {
              "type": "dataframe",
              "variable_name": "df_reviews",
              "summary": "{\n  \"name\": \"df_reviews\",\n  \"rows\": 9,\n  \"fields\": [\n    {\n      \"column\": \"Cuisine\",\n      \"properties\": {\n        \"dtype\": \"string\",\n        \"num_unique_values\": 9,\n        \"samples\": [\n          \"American\",\n          \"Indian\",\n          \"Mexican\"\n        ],\n        \"semantic_type\": \"\",\n        \"description\": \"\"\n      }\n    },\n    {\n      \"column\": \"Review\",\n      \"properties\": {\n        \"dtype\": \"string\",\n        \"num_unique_values\": 9,\n        \"samples\": [\n          \"damn, food, disgusting, night, drinking, clubbing, horrible, desserts, terrible, 28-30, bucks, each, 10, split, forget, it\",\n          \"place, horrible, cafe, tandoor, group, lamb, biryani, piratha, naan, saag, paneer, chicken tikka maasala, okra, curry\",\n          \"horrible, experience, table, hours, order, food, pay, two, tacos, oily, nothing, rave, order, messed, side dish, charging, water, never, refilled\"\n        ],\n        \"semantic_type\": \"\",\n        \"description\": \"\"\n      }\n    }\n  ]\n}"
            }
          },
          "metadata": {},
          "execution_count": 1
        }
      ]
    },
    {
      "cell_type": "markdown",
      "source": [
        "•\tChinese: Reviews suggest that the flavour should be enhanced.\n",
        "•\tIndian: Place/Ambiance should be upgraded.\n",
        "•\tGreek: It appears that pricing and value for money were considered. Hence the necessity to locate Balance between price and quality.\n",
        "•\tMediterranean: The review indicates a service issue.\n",
        "•\tMexican: Given the complaint about the oily tacos and delayed service.\n",
        "•\tItalian: Food quality in terms of flavour and service requires improvement.\n",
        "•\tAmerican: The food and drinks do not meet the expectations. Need to rethink their price as well.\n",
        "•\tJapanese: Need to maintain consistency across the food chain.\n"
      ],
      "metadata": {
        "id": "fqlRbDCUTDnW"
      }
    },
    {
      "cell_type": "markdown",
      "source": [
        "For Non-elite"
      ],
      "metadata": {
        "id": "fYFTahS0fvf0"
      }
    },
    {
      "cell_type": "code",
      "source": [
        "\n",
        "extracted_text = [\n",
        "    'Chinese', 'worst, food, ever, today,awful, awful, experience,terrible, service., ordered, take, took, hour, get, food, told, 15, minutes., get, store, greeted, anything, checking, split, ends, cell, phone., never, go, again.',\n",
        "    'Indian', 'place, terrible., pittsburgh, know, make, food, correct,, let, alone, complexity, indian, cuisine., , city, dumpster, eastern, u.s., , go, here,, ever, go, pittsburgh.,kitchen, smells, real, bad., dint, feel, like, eating, food, smelling, kitchen, restrooms.,horrible, food, worst, customer, service.ordered, thali, tasteless, looked, like, two, days, old.please, favor, visiting, place.',\n",
        "    'Greek', 'one, worst, dining, experiences, ever, even, get, eat, food,blech.,service, bad., respectful, all., also,, food, quality, bad, comparing, price',\n",
        "    'Vietnamese', 'terrible..place, terrible, service., waiting, 20, minutes, nobody,came, visit, decided, take, sunday, lunch., place, closest, house, decided, go, here., pulled, remembered, came, hated, it., decided, order, something, diff, food, tasted, terrible',\n",
        "    'Mediterranean', 'ven, close, lebanese, food, impressing, words, explain, bad, experience, worst, ever,wish, stars, service, food, separately, hate, give, 2, stars, place, like,, service, today, just...ugh.,\"the, worst, ever, tasted, among, mediterranean, food., horrible, taste., ordered, combo, platter, falafel, wrap., close, requested, take, to-go., took, food, home, tasted, horrible, food, ever., fries, salt, tasted, like, crap., worst, part, given, filet, wrap, instead, falafel, wrap., even, eat, meat, clearly, mentioned, \"\"elahe\"\"., yet, food, got, meat, combo, well, wrap., drove, 30mins, messed, up.',\n",
        "    'Mexican', 'probably, worst, talk, ever, to., manager, anthony, horrible., please, come, family, sake,food, salty, service, terrible., chip, guys, servers., seems, like, everyone, waiter, assisted, awful',\n",
        "    'Italian', 'stay, away, dont, want, get, sick,pizza, huts, food, takes, like, crap,zero, stars, awful',\n",
        "    'American', 'disgusted, take, worst, restaurant, experience, ever, horrible',\n",
        "    'Japanese', 'one, worst, places, ever, ramen,terrible, service!!'\n",
        "]\n",
        "\n",
        "# Pairing cuisine types with their respective reviews\n",
        "data = {\n",
        "    'Cuisine': extracted_text[0::2],\n",
        "    'Review': extracted_text[1::2]\n",
        "}\n",
        "\n",
        "# Creating a dataframe\n",
        "df_reviews = pd.DataFrame(data)\n",
        "df_reviews\n"
      ],
      "metadata": {
        "colab": {
          "base_uri": "https://localhost:8080/",
          "height": 396
        },
        "id": "BwaXKcg8fy0P",
        "outputId": "623bbd5b-67b2-4667-c6bc-a24d3f2de1b2"
      },
      "execution_count": null,
      "outputs": [
        {
          "output_type": "execute_result",
          "data": {
            "text/plain": [
              "         Cuisine                                             Review\n",
              "0        Chinese  worst, food, ever, today,awful, awful, experie...\n",
              "1         Indian  place, terrible., pittsburgh, know, make, food...\n",
              "2          Greek  one, worst, dining, experiences, ever, even, g...\n",
              "3     Vietnamese  terrible..place, terrible, service., waiting, ...\n",
              "4  Mediterranean  ven, close, lebanese, food, impressing, words,...\n",
              "5        Mexican  probably, worst, talk, ever, to., manager, ant...\n",
              "6        Italian  stay, away, dont, want, get, sick,pizza, huts,...\n",
              "7       American  disgusted, take, worst, restaurant, experience...\n",
              "8       Japanese  one, worst, places, ever, ramen,terrible, serv..."
            ],
            "text/html": [
              "\n",
              "  <div id=\"df-226e9249-9bf3-4d62-9c70-f0a10cc8c76c\" class=\"colab-df-container\">\n",
              "    <div>\n",
              "<style scoped>\n",
              "    .dataframe tbody tr th:only-of-type {\n",
              "        vertical-align: middle;\n",
              "    }\n",
              "\n",
              "    .dataframe tbody tr th {\n",
              "        vertical-align: top;\n",
              "    }\n",
              "\n",
              "    .dataframe thead th {\n",
              "        text-align: right;\n",
              "    }\n",
              "</style>\n",
              "<table border=\"1\" class=\"dataframe\">\n",
              "  <thead>\n",
              "    <tr style=\"text-align: right;\">\n",
              "      <th></th>\n",
              "      <th>Cuisine</th>\n",
              "      <th>Review</th>\n",
              "    </tr>\n",
              "  </thead>\n",
              "  <tbody>\n",
              "    <tr>\n",
              "      <th>0</th>\n",
              "      <td>Chinese</td>\n",
              "      <td>worst, food, ever, today,awful, awful, experie...</td>\n",
              "    </tr>\n",
              "    <tr>\n",
              "      <th>1</th>\n",
              "      <td>Indian</td>\n",
              "      <td>place, terrible., pittsburgh, know, make, food...</td>\n",
              "    </tr>\n",
              "    <tr>\n",
              "      <th>2</th>\n",
              "      <td>Greek</td>\n",
              "      <td>one, worst, dining, experiences, ever, even, g...</td>\n",
              "    </tr>\n",
              "    <tr>\n",
              "      <th>3</th>\n",
              "      <td>Vietnamese</td>\n",
              "      <td>terrible..place, terrible, service., waiting, ...</td>\n",
              "    </tr>\n",
              "    <tr>\n",
              "      <th>4</th>\n",
              "      <td>Mediterranean</td>\n",
              "      <td>ven, close, lebanese, food, impressing, words,...</td>\n",
              "    </tr>\n",
              "    <tr>\n",
              "      <th>5</th>\n",
              "      <td>Mexican</td>\n",
              "      <td>probably, worst, talk, ever, to., manager, ant...</td>\n",
              "    </tr>\n",
              "    <tr>\n",
              "      <th>6</th>\n",
              "      <td>Italian</td>\n",
              "      <td>stay, away, dont, want, get, sick,pizza, huts,...</td>\n",
              "    </tr>\n",
              "    <tr>\n",
              "      <th>7</th>\n",
              "      <td>American</td>\n",
              "      <td>disgusted, take, worst, restaurant, experience...</td>\n",
              "    </tr>\n",
              "    <tr>\n",
              "      <th>8</th>\n",
              "      <td>Japanese</td>\n",
              "      <td>one, worst, places, ever, ramen,terrible, serv...</td>\n",
              "    </tr>\n",
              "  </tbody>\n",
              "</table>\n",
              "</div>\n",
              "    <div class=\"colab-df-buttons\">\n",
              "\n",
              "  <div class=\"colab-df-container\">\n",
              "    <button class=\"colab-df-convert\" onclick=\"convertToInteractive('df-226e9249-9bf3-4d62-9c70-f0a10cc8c76c')\"\n",
              "            title=\"Convert this dataframe to an interactive table.\"\n",
              "            style=\"display:none;\">\n",
              "\n",
              "  <svg xmlns=\"http://www.w3.org/2000/svg\" height=\"24px\" viewBox=\"0 -960 960 960\">\n",
              "    <path d=\"M120-120v-720h720v720H120Zm60-500h600v-160H180v160Zm220 220h160v-160H400v160Zm0 220h160v-160H400v160ZM180-400h160v-160H180v160Zm440 0h160v-160H620v160ZM180-180h160v-160H180v160Zm440 0h160v-160H620v160Z\"/>\n",
              "  </svg>\n",
              "    </button>\n",
              "\n",
              "  <style>\n",
              "    .colab-df-container {\n",
              "      display:flex;\n",
              "      gap: 12px;\n",
              "    }\n",
              "\n",
              "    .colab-df-convert {\n",
              "      background-color: #E8F0FE;\n",
              "      border: none;\n",
              "      border-radius: 50%;\n",
              "      cursor: pointer;\n",
              "      display: none;\n",
              "      fill: #1967D2;\n",
              "      height: 32px;\n",
              "      padding: 0 0 0 0;\n",
              "      width: 32px;\n",
              "    }\n",
              "\n",
              "    .colab-df-convert:hover {\n",
              "      background-color: #E2EBFA;\n",
              "      box-shadow: 0px 1px 2px rgba(60, 64, 67, 0.3), 0px 1px 3px 1px rgba(60, 64, 67, 0.15);\n",
              "      fill: #174EA6;\n",
              "    }\n",
              "\n",
              "    .colab-df-buttons div {\n",
              "      margin-bottom: 4px;\n",
              "    }\n",
              "\n",
              "    [theme=dark] .colab-df-convert {\n",
              "      background-color: #3B4455;\n",
              "      fill: #D2E3FC;\n",
              "    }\n",
              "\n",
              "    [theme=dark] .colab-df-convert:hover {\n",
              "      background-color: #434B5C;\n",
              "      box-shadow: 0px 1px 3px 1px rgba(0, 0, 0, 0.15);\n",
              "      filter: drop-shadow(0px 1px 2px rgba(0, 0, 0, 0.3));\n",
              "      fill: #FFFFFF;\n",
              "    }\n",
              "  </style>\n",
              "\n",
              "    <script>\n",
              "      const buttonEl =\n",
              "        document.querySelector('#df-226e9249-9bf3-4d62-9c70-f0a10cc8c76c button.colab-df-convert');\n",
              "      buttonEl.style.display =\n",
              "        google.colab.kernel.accessAllowed ? 'block' : 'none';\n",
              "\n",
              "      async function convertToInteractive(key) {\n",
              "        const element = document.querySelector('#df-226e9249-9bf3-4d62-9c70-f0a10cc8c76c');\n",
              "        const dataTable =\n",
              "          await google.colab.kernel.invokeFunction('convertToInteractive',\n",
              "                                                    [key], {});\n",
              "        if (!dataTable) return;\n",
              "\n",
              "        const docLinkHtml = 'Like what you see? Visit the ' +\n",
              "          '<a target=\"_blank\" href=https://colab.research.google.com/notebooks/data_table.ipynb>data table notebook</a>'\n",
              "          + ' to learn more about interactive tables.';\n",
              "        element.innerHTML = '';\n",
              "        dataTable['output_type'] = 'display_data';\n",
              "        await google.colab.output.renderOutput(dataTable, element);\n",
              "        const docLink = document.createElement('div');\n",
              "        docLink.innerHTML = docLinkHtml;\n",
              "        element.appendChild(docLink);\n",
              "      }\n",
              "    </script>\n",
              "  </div>\n",
              "\n",
              "\n",
              "<div id=\"df-baf533de-68f5-4e3a-aaaa-af9dbba9e7f3\">\n",
              "  <button class=\"colab-df-quickchart\" onclick=\"quickchart('df-baf533de-68f5-4e3a-aaaa-af9dbba9e7f3')\"\n",
              "            title=\"Suggest charts\"\n",
              "            style=\"display:none;\">\n",
              "\n",
              "<svg xmlns=\"http://www.w3.org/2000/svg\" height=\"24px\"viewBox=\"0 0 24 24\"\n",
              "     width=\"24px\">\n",
              "    <g>\n",
              "        <path d=\"M19 3H5c-1.1 0-2 .9-2 2v14c0 1.1.9 2 2 2h14c1.1 0 2-.9 2-2V5c0-1.1-.9-2-2-2zM9 17H7v-7h2v7zm4 0h-2V7h2v10zm4 0h-2v-4h2v4z\"/>\n",
              "    </g>\n",
              "</svg>\n",
              "  </button>\n",
              "\n",
              "<style>\n",
              "  .colab-df-quickchart {\n",
              "      --bg-color: #E8F0FE;\n",
              "      --fill-color: #1967D2;\n",
              "      --hover-bg-color: #E2EBFA;\n",
              "      --hover-fill-color: #174EA6;\n",
              "      --disabled-fill-color: #AAA;\n",
              "      --disabled-bg-color: #DDD;\n",
              "  }\n",
              "\n",
              "  [theme=dark] .colab-df-quickchart {\n",
              "      --bg-color: #3B4455;\n",
              "      --fill-color: #D2E3FC;\n",
              "      --hover-bg-color: #434B5C;\n",
              "      --hover-fill-color: #FFFFFF;\n",
              "      --disabled-bg-color: #3B4455;\n",
              "      --disabled-fill-color: #666;\n",
              "  }\n",
              "\n",
              "  .colab-df-quickchart {\n",
              "    background-color: var(--bg-color);\n",
              "    border: none;\n",
              "    border-radius: 50%;\n",
              "    cursor: pointer;\n",
              "    display: none;\n",
              "    fill: var(--fill-color);\n",
              "    height: 32px;\n",
              "    padding: 0;\n",
              "    width: 32px;\n",
              "  }\n",
              "\n",
              "  .colab-df-quickchart:hover {\n",
              "    background-color: var(--hover-bg-color);\n",
              "    box-shadow: 0 1px 2px rgba(60, 64, 67, 0.3), 0 1px 3px 1px rgba(60, 64, 67, 0.15);\n",
              "    fill: var(--button-hover-fill-color);\n",
              "  }\n",
              "\n",
              "  .colab-df-quickchart-complete:disabled,\n",
              "  .colab-df-quickchart-complete:disabled:hover {\n",
              "    background-color: var(--disabled-bg-color);\n",
              "    fill: var(--disabled-fill-color);\n",
              "    box-shadow: none;\n",
              "  }\n",
              "\n",
              "  .colab-df-spinner {\n",
              "    border: 2px solid var(--fill-color);\n",
              "    border-color: transparent;\n",
              "    border-bottom-color: var(--fill-color);\n",
              "    animation:\n",
              "      spin 1s steps(1) infinite;\n",
              "  }\n",
              "\n",
              "  @keyframes spin {\n",
              "    0% {\n",
              "      border-color: transparent;\n",
              "      border-bottom-color: var(--fill-color);\n",
              "      border-left-color: var(--fill-color);\n",
              "    }\n",
              "    20% {\n",
              "      border-color: transparent;\n",
              "      border-left-color: var(--fill-color);\n",
              "      border-top-color: var(--fill-color);\n",
              "    }\n",
              "    30% {\n",
              "      border-color: transparent;\n",
              "      border-left-color: var(--fill-color);\n",
              "      border-top-color: var(--fill-color);\n",
              "      border-right-color: var(--fill-color);\n",
              "    }\n",
              "    40% {\n",
              "      border-color: transparent;\n",
              "      border-right-color: var(--fill-color);\n",
              "      border-top-color: var(--fill-color);\n",
              "    }\n",
              "    60% {\n",
              "      border-color: transparent;\n",
              "      border-right-color: var(--fill-color);\n",
              "    }\n",
              "    80% {\n",
              "      border-color: transparent;\n",
              "      border-right-color: var(--fill-color);\n",
              "      border-bottom-color: var(--fill-color);\n",
              "    }\n",
              "    90% {\n",
              "      border-color: transparent;\n",
              "      border-bottom-color: var(--fill-color);\n",
              "    }\n",
              "  }\n",
              "</style>\n",
              "\n",
              "  <script>\n",
              "    async function quickchart(key) {\n",
              "      const quickchartButtonEl =\n",
              "        document.querySelector('#' + key + ' button');\n",
              "      quickchartButtonEl.disabled = true;  // To prevent multiple clicks.\n",
              "      quickchartButtonEl.classList.add('colab-df-spinner');\n",
              "      try {\n",
              "        const charts = await google.colab.kernel.invokeFunction(\n",
              "            'suggestCharts', [key], {});\n",
              "      } catch (error) {\n",
              "        console.error('Error during call to suggestCharts:', error);\n",
              "      }\n",
              "      quickchartButtonEl.classList.remove('colab-df-spinner');\n",
              "      quickchartButtonEl.classList.add('colab-df-quickchart-complete');\n",
              "    }\n",
              "    (() => {\n",
              "      let quickchartButtonEl =\n",
              "        document.querySelector('#df-baf533de-68f5-4e3a-aaaa-af9dbba9e7f3 button');\n",
              "      quickchartButtonEl.style.display =\n",
              "        google.colab.kernel.accessAllowed ? 'block' : 'none';\n",
              "    })();\n",
              "  </script>\n",
              "</div>\n",
              "\n",
              "  <div id=\"id_ada85df7-3da3-442e-9c7b-d206525b4b0f\">\n",
              "    <style>\n",
              "      .colab-df-generate {\n",
              "        background-color: #E8F0FE;\n",
              "        border: none;\n",
              "        border-radius: 50%;\n",
              "        cursor: pointer;\n",
              "        display: none;\n",
              "        fill: #1967D2;\n",
              "        height: 32px;\n",
              "        padding: 0 0 0 0;\n",
              "        width: 32px;\n",
              "      }\n",
              "\n",
              "      .colab-df-generate:hover {\n",
              "        background-color: #E2EBFA;\n",
              "        box-shadow: 0px 1px 2px rgba(60, 64, 67, 0.3), 0px 1px 3px 1px rgba(60, 64, 67, 0.15);\n",
              "        fill: #174EA6;\n",
              "      }\n",
              "\n",
              "      [theme=dark] .colab-df-generate {\n",
              "        background-color: #3B4455;\n",
              "        fill: #D2E3FC;\n",
              "      }\n",
              "\n",
              "      [theme=dark] .colab-df-generate:hover {\n",
              "        background-color: #434B5C;\n",
              "        box-shadow: 0px 1px 3px 1px rgba(0, 0, 0, 0.15);\n",
              "        filter: drop-shadow(0px 1px 2px rgba(0, 0, 0, 0.3));\n",
              "        fill: #FFFFFF;\n",
              "      }\n",
              "    </style>\n",
              "    <button class=\"colab-df-generate\" onclick=\"generateWithVariable('df_reviews')\"\n",
              "            title=\"Generate code using this dataframe.\"\n",
              "            style=\"display:none;\">\n",
              "\n",
              "  <svg xmlns=\"http://www.w3.org/2000/svg\" height=\"24px\"viewBox=\"0 0 24 24\"\n",
              "       width=\"24px\">\n",
              "    <path d=\"M7,19H8.4L18.45,9,17,7.55,7,17.6ZM5,21V16.75L18.45,3.32a2,2,0,0,1,2.83,0l1.4,1.43a1.91,1.91,0,0,1,.58,1.4,1.91,1.91,0,0,1-.58,1.4L9.25,21ZM18.45,9,17,7.55Zm-12,3A5.31,5.31,0,0,0,4.9,8.1,5.31,5.31,0,0,0,1,6.5,5.31,5.31,0,0,0,4.9,4.9,5.31,5.31,0,0,0,6.5,1,5.31,5.31,0,0,0,8.1,4.9,5.31,5.31,0,0,0,12,6.5,5.46,5.46,0,0,0,6.5,12Z\"/>\n",
              "  </svg>\n",
              "    </button>\n",
              "    <script>\n",
              "      (() => {\n",
              "      const buttonEl =\n",
              "        document.querySelector('#id_ada85df7-3da3-442e-9c7b-d206525b4b0f button.colab-df-generate');\n",
              "      buttonEl.style.display =\n",
              "        google.colab.kernel.accessAllowed ? 'block' : 'none';\n",
              "\n",
              "      buttonEl.onclick = () => {\n",
              "        google.colab.notebook.generateWithVariable('df_reviews');\n",
              "      }\n",
              "      })();\n",
              "    </script>\n",
              "  </div>\n",
              "\n",
              "    </div>\n",
              "  </div>\n"
            ],
            "application/vnd.google.colaboratory.intrinsic+json": {
              "type": "dataframe",
              "variable_name": "df_reviews",
              "summary": "{\n  \"name\": \"df_reviews\",\n  \"rows\": 9,\n  \"fields\": [\n    {\n      \"column\": \"Cuisine\",\n      \"properties\": {\n        \"dtype\": \"string\",\n        \"num_unique_values\": 9,\n        \"samples\": [\n          \"American\",\n          \"Indian\",\n          \"Mexican\"\n        ],\n        \"semantic_type\": \"\",\n        \"description\": \"\"\n      }\n    },\n    {\n      \"column\": \"Review\",\n      \"properties\": {\n        \"dtype\": \"string\",\n        \"num_unique_values\": 9,\n        \"samples\": [\n          \"disgusted, take, worst, restaurant, experience, ever, horrible\",\n          \"place, terrible., pittsburgh, know, make, food, correct,, let, alone, complexity, indian, cuisine., , city, dumpster, eastern, u.s., , go, here,, ever, go, pittsburgh.,kitchen, smells, real, bad., dint, feel, like, eating, food, smelling, kitchen, restrooms.,horrible, food, worst, customer, service.ordered, thali, tasteless, looked, like, two, days, old.please, favor, visiting, place.\",\n          \"probably, worst, talk, ever, to., manager, anthony, horrible., please, come, family, sake,food, salty, service, terrible., chip, guys, servers., seems, like, everyone, waiter, assisted, awful\"\n        ],\n        \"semantic_type\": \"\",\n        \"description\": \"\"\n      }\n    }\n  ]\n}"
            }
          },
          "metadata": {},
          "execution_count": 3
        }
      ]
    },
    {
      "cell_type": "markdown",
      "source": [
        "Recommendations Analysing Non-\tElite Users group reviews:\n",
        "•\tChinese: serve fresh, authentic food that has a reputation for providing good customer service and timely order fulfilment.\n",
        "•\tIndian: create a modern and clean atmosphere with an authentic food, is known for employing fresh ingredients, and provides friendly hospitality.\n",
        "•\tGreek: The cost-quality ratio is favourable. It should serve authentic cuisine such as moussaka, souvlaki, and fresh Greek salads.\n",
        "•\tVietnamese: prompt and attentive service.\n",
        "•\tMediterranean: Includes shawarma, kebabs, and mezes. Provide friendly service and the ability to accommodate dietary demands (such as vegetarian or vegan alternatives).\n",
        "•\tMexican: uses fresh ingredients and has a less greasy cuisine. Provide rapid service and, possibly, a unique twist on typical Mexican food.\n",
        "•\tItalian: cuisine features homemade pasta and pizza cooked with high-quality ingredients. It should have a nice atmosphere and be known for providing friendly and efficient service.\n",
        "•\tAmerican: Is known for its comfortable, hearty meals and welcoming atmosphere. It should have a diversified cuisine that caters to a wide range of preferences, as well as a reputation for excellent late-night dining.\n",
        "•\tJapanese: Is well-known for its sushi and sashimi, stressing freshness and quality of the seafood, as well as a calm and courteous dining experience.\n"
      ],
      "metadata": {
        "id": "InnjabVJkKJ5"
      }
    }
  ]
}